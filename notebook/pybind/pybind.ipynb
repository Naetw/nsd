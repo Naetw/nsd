{
 "cells": [
  {
   "cell_type": "code",
   "execution_count": 1,
   "metadata": {},
   "outputs": [
    {
     "data": {
      "application/javascript": [
       "\n",
       "    require(['notebook/js/codecell'], function(cc) {\n",
       "        cc.CodeCell.options_default.highlight_modes['magic_text/x-c++src'] =\n",
       "            {reg: [/^\\s*%%pybind11/]};\n",
       "    });\n",
       "    "
      ]
     },
     "metadata": {},
     "output_type": "display_data"
    },
    {
     "data": {
      "text/html": [
       "\n",
       "    <style>\n",
       "    .cm-s-ipython span.cm-variable-3 {\n",
       "        color: #208ffb;\n",
       "        font-weight: bold;\n",
       "    }\n",
       "    </style>\n",
       "    "
      ]
     },
     "metadata": {},
     "output_type": "display_data"
    }
   ],
   "source": [
    "%load_ext ipybind\n",
    "%matplotlib inline\n",
    "\n",
    "import numpy as np\n",
    "from matplotlib import pyplot as plt\n",
    "from matplotlib import animation, rc\n",
    "from IPython.display import HTML\n",
    "\n",
    "import sys\n",
    "import os\n",
    "\n",
    "libst_path = os.path.abspath('spacetime')\n",
    "if libst_path not in sys.path:\n",
    "    sys.path.insert(0, libst_path)\n",
    "\n",
    "import libst"
   ]
  },
  {
   "cell_type": "markdown",
   "metadata": {},
   "source": [
    "# Pybind11: binding between Python and C++\n",
    "\n",
    "1. Why do we use scripting\n",
    "   1. Research code\n",
    "   2. Full-fledged application\n",
    "   3. Scripting for modularization\n",
    "2. Pybind11 build system\n",
    "   1. Setuptools\n",
    "   2. Cmake with a sub-directory\n",
    "   3. Cmake with install pybind11\n",
    "3. Additional wrapping layer for customization\n",
    "4. Wrapping API\n",
    "   1. Functions and property\n",
    "   2. Named ane keyword arguments\n",
    "   3. What happens in Python stays in Python (or pybind11)\n",
    "5. See how Python plays\n",
    "   1. Linear wave\n",
    "   2. The inviscid Burgers equation\n",
    "6. Manipulate Python objects in C++\n",
    "7. Python containers\n",
    "   1. `tuple`\n",
    "   2. `list`\n",
    "   3. `dict`"
   ]
  },
  {
   "cell_type": "markdown",
   "metadata": {},
   "source": [
    "# Why do we use scripting\n",
    "\n",
    "Computing is about commanding the computers to perform calculations to yeild the results that we want to see.  We want to delegate work to computers as much as possible, when the system performance remains feasible.\n",
    "\n",
    "In the calculations, scripting plays an important role.  A general architecture of numerical software has the following layers, from high-level to low-level:\n",
    "\n",
    "* External result\n",
    "  * This is presented in a non-technical way to people outside the problem-solving team.  They can be stakeholders for business or general public.  The result has to be generated in some way, which may or may not be included in the numerical software we make.\n",
    "* Problem presentation: physics, math, or equations\n",
    "  * Users use the software or associated tools to present the technical result.\n",
    "* Scripting or configuration\n",
    "  * Users follow the example scripts to configure the problems to solve.  Configuration files may also be used.\n",
    "* Library interface\n",
    "  * This defines the application programming interface (API) for the numerical software.  Scripts should not touch anything below this layer.\n",
    "* Library structure\n",
    "  * This is where we architect the software.  Good book-keeping code is here to separate the interface and the computing kernel.  Data structures are designed at this layer to make sure no time is wasted in copying or converting data.\n",
    "* Computing kernel\n",
    "  * This is the place the does the heavy-lifting, and where we do most of the optimization.\n",
    "\n",
    "## Research code\n",
    "\n",
    "For a research code, the boundary between external result, problem presentation, and scripting, and that between library interface, library structure, and computing kernel, may be less clear.  The architecture is usually like:\n",
    "\n",
    "* Problem presentation: high-level description, physics, and scripting / code configuration\n",
    "* Library implementation\n",
    "\n",
    "But sometimes if we don't pay attention to architecting, there may be no boundary between anything.\n",
    "\n",
    "## Full-fledged application\n",
    "\n",
    "For a commercial grade package, each of the layers will include more sub-layers.  It is a challenge to prevent those layers or sub-layers from interweaving.  From users' point of view, the sophistication appears in the problem presentation and the scripting layers.  Developers, on the other hand, take care of everything below problem presentation, so that users can focus on problem solving.\n",
    "\n",
    "## Scripting for modularization\n",
    "\n",
    "At this point, it should be clear that the scripting layer is the key glue in the system architecture.  The high-level users, who use the code for problem solving, wouldn't want to spend time in the low-level implementation.  Instead, they will specify the performance of the API exposed in the scripting layer.  The performance may be about the quality of result and runtime (including memory).\n",
    "\n",
    "The scripting layer can separate the programming work between the high-level problem presentation and the low-level library implementation.  A scripting language is usually dynamically typed, while for speed, the low-level implementation language uses static typing system.  In the dynamic scripting language, unit-testing is required for robustness.  In a statically typed language like C++, the compiler and static analyzers are very good at detecting errors before runtime.  But the great job done by the compiler makes it clumsy to use C++ to quickly write highly flexible code for problem presentation.\n",
    "\n",
    "It is tempting to invent one programming language to rule them all.  That approach needs to convince both the high-level problem solvers and the low-level implementors to give up the tools they are familiar with.  The new language will also need to provide two distinct styles for both use cases.  It will be quite challenging, and before anyone succeeds with the one-language approach, we still need to live with a world of hybrid systems."
   ]
  },
  {
   "cell_type": "markdown",
   "metadata": {},
   "source": [
    "# Pybind11 build system\n",
    "\n",
    "[Pybind11](https://pybind11.readthedocs.io/) is a header-only C++ template library, that allows calling CPython API and provides C++ friendly semantics to allow Python to call C++ constructs and vise versa.\n",
    "\n",
    "Pybind11 is a header-only library, so it doesn't have anything to be built.  When we say 'building' pybind11, we mean to build the project that uses pybind11.\n",
    "\n",
    "To build pybind11, we need CPython.  It optionally depends on numpy and eigen.  There are several suggested ways to build.  Here list those I think important:"
   ]
  },
  {
   "cell_type": "markdown",
   "metadata": {},
   "source": [
    "## [Setuptools](https://setuptools.readthedocs.io/en/latest/)\n",
    "\n",
    "[Setuptools](https://setuptools.readthedocs.io/en/latest/) is an enhancement to Python built-in [distutils](https://docs.python.org/3/library/distutils.html).  Because pybind11 is released to [PyPI](https://pypi.org) as a Python package (https://pypi.org/project/pybind11/), both setuptools and distutils can get the header files and use them to build C++ file that use pybind11.\n",
    "\n",
    "There is an example for using setuptools to build pybind11 (https://github.com/pybind/python_example/blob/master/setup.py):\n",
    "\n",
    "```python\n",
    "from setuptools import setup, Extension\n",
    "from setuptools.command.build_ext import build_ext\n",
    "import sys\n",
    "import setuptools\n",
    "\n",
    "__version__ = '0.0.1'\n",
    "\n",
    "\n",
    "class get_pybind_include(object):\n",
    "    \"\"\"Helper class to determine the pybind11 include path\n",
    "    The purpose of this class is to postpone importing pybind11\n",
    "    until it is actually installed, so that the ``get_include()``\n",
    "    method can be invoked. \"\"\"\n",
    "\n",
    "    def __init__(self, user=False):\n",
    "        self.user = user\n",
    "\n",
    "    def __str__(self):\n",
    "        import pybind11\n",
    "        return pybind11.get_include(self.user)\n",
    "\n",
    "\n",
    "ext_modules = [\n",
    "    Extension(\n",
    "        'python_example',\n",
    "        ['src/main.cpp'],\n",
    "        include_dirs=[\n",
    "            # Path to pybind11 headers\n",
    "            get_pybind_include(),\n",
    "            get_pybind_include(user=True)\n",
    "        ],\n",
    "        language='c++'\n",
    "    ),\n",
    "]\n",
    "\n",
    "\n",
    "# As of Python 3.6, CCompiler has a `has_flag` method.\n",
    "# cf http://bugs.python.org/issue26689\n",
    "def has_flag(compiler, flagname):\n",
    "    \"\"\"Return a boolean indicating whether a flag name is supported on\n",
    "    the specified compiler.\n",
    "    \"\"\"\n",
    "    import tempfile\n",
    "    with tempfile.NamedTemporaryFile('w', suffix='.cpp') as f:\n",
    "        f.write('int main (int argc, char **argv) { return 0; }')\n",
    "        try:\n",
    "            compiler.compile([f.name], extra_postargs=[flagname])\n",
    "        except setuptools.distutils.errors.CompileError:\n",
    "            return False\n",
    "    return True\n",
    "\n",
    "\n",
    "def cpp_flag(compiler):\n",
    "    \"\"\"Return the -std=c++[11/14/17] compiler flag.\n",
    "    The newer version is prefered over c++11 (when it is available).\n",
    "    \"\"\"\n",
    "    flags = ['-std=c++17', '-std=c++14', '-std=c++11']\n",
    "\n",
    "    for flag in flags:\n",
    "        if has_flag(compiler, flag): return flag\n",
    "\n",
    "    raise RuntimeError('Unsupported compiler -- at least C++11 support '\n",
    "                       'is needed!')\n",
    "\n",
    "\n",
    "class BuildExt(build_ext):\n",
    "    \"\"\"A custom build extension for adding compiler-specific options.\"\"\"\n",
    "    c_opts = {\n",
    "        'msvc': ['/EHsc'],\n",
    "        'unix': [],\n",
    "    }\n",
    "    l_opts = {\n",
    "        'msvc': [],\n",
    "        'unix': [],\n",
    "    }\n",
    "\n",
    "    if sys.platform == 'darwin':\n",
    "        darwin_opts = ['-stdlib=libc++', '-mmacosx-version-min=10.7']\n",
    "        c_opts['unix'] += darwin_opts\n",
    "        l_opts['unix'] += darwin_opts\n",
    "\n",
    "    def build_extensions(self):\n",
    "        ct = self.compiler.compiler_type\n",
    "        opts = self.c_opts.get(ct, [])\n",
    "        link_opts = self.l_opts.get(ct, [])\n",
    "        if ct == 'unix':\n",
    "            opts.append('-DVERSION_INFO=\"%s\"' % self.distribution.get_version())\n",
    "            opts.append(cpp_flag(self.compiler))\n",
    "            if has_flag(self.compiler, '-fvisibility=hidden'):\n",
    "                opts.append('-fvisibility=hidden')\n",
    "        elif ct == 'msvc':\n",
    "            opts.append('/DVERSION_INFO=\\\\\"%s\\\\\"' % self.distribution.get_version())\n",
    "        for ext in self.extensions:\n",
    "            ext.extra_compile_args = opts\n",
    "            ext.extra_link_args = link_opts\n",
    "        build_ext.build_extensions(self)\n",
    "\n",
    "setup(\n",
    "    name='python_example',\n",
    "    version=__version__,\n",
    "    author='Sylvain Corlay',\n",
    "    author_email='sylvain.corlay@gmail.com',\n",
    "    url='https://github.com/pybind/python_example',\n",
    "    description='A test project using pybind11',\n",
    "    long_description='',\n",
    "    ext_modules=ext_modules,\n",
    "    install_requires=['pybind11>=2.4'],\n",
    "    setup_requires=['pybind11>=2.4'],\n",
    "    cmdclass={'build_ext': BuildExt},\n",
    "    zip_safe=False,\n",
    ")```"
   ]
  },
  {
   "cell_type": "markdown",
   "metadata": {},
   "source": [
    "## Cmake with a sub-directory\n",
    "\n",
    "When the source tree is put in a sub-directory in your project, as mentioned in the [document](https://pybind11.readthedocs.io/en/stable/compiling.html#building-with-cmake), you can use cmake `add_subdirectory` to include the pybind11:\n",
    "\n",
    "```cmake\n",
    "cmake_minimum_required(VERSION 2.8.12)\n",
    "project(example)\n",
    "\n",
    "add_subdirectory(pybind11)\n",
    "pybind11_add_module(example example.cpp)\n",
    "```\n",
    "\n",
    "Pybind11 provides the cmake command `pybind11_add_module`.  It set various flags to build your C++ code as an extension module."
   ]
  },
  {
   "cell_type": "markdown",
   "metadata": {},
   "source": [
    "## Cmake with installed pybind11\n",
    "\n",
    "If pybind11 is installed using cmake itself, the `*.cmake` files that pybind11 supplies are installed to the specified location.  It's not needed to write `add_subdirectory` in the `CMakeLists.txt` in your project."
   ]
  },
  {
   "cell_type": "markdown",
   "metadata": {},
   "source": [
    "# Additional wrapping layer for customization\n",
    "\n",
    "Wrapper needs to take care of the differences between the dynamic behaviors in Python and the staticity in C++.  You can directly call pybind11 API.  But a better way is to create another wrapping layer between the pybind11 and your library code.  It allows us to insert additional code in a systematic way.  Since it is difficult to see the point in a small example, I pull the code for [a bigger project 'turgon'](https://github.com/yungyuc/turgon) for demonstration.\n",
    "\n",
    "Here is one way to implement the additional wrapping layer.  See `spacetime/include/spacetime/python/WrapBase.hpp`:\n",
    "\n",
    "```cpp\n",
    "#pragma once\n",
    "\n",
    "/*\n",
    " * Copyright (c) 2017, Yung-Yu Chen <yyc@solvcon.net>\n",
    " * BSD 3-Clause License, see COPYING\n",
    " */\n",
    "\n",
    "#include <pybind11/pybind11.h>\n",
    "#include <pybind11/numpy.h>\n",
    "#define NPY_NO_DEPRECATED_API NPY_1_7_API_VERSION\n",
    "#include <numpy/arrayobject.h>\n",
    "\n",
    "#include <memory>\n",
    "#include <type_traits>\n",
    "\n",
    "PYBIND11_DECLARE_HOLDER_TYPE(T, std::unique_ptr<T>);\n",
    "PYBIND11_DECLARE_HOLDER_TYPE(T, std::shared_ptr<T>);\n",
    "\n",
    "#ifdef __GNUG__\n",
    "#  define SPACETIME_PYTHON_WRAPPER_VISIBILITY __attribute__((visibility(\"hidden\")))\n",
    "#else\n",
    "#  define SPACETIME_PYTHON_WRAPPER_VISIBILITY\n",
    "#endif\n",
    "\n",
    "namespace spacetime\n",
    "{\n",
    "\n",
    "namespace python\n",
    "{\n",
    "\n",
    "/**\n",
    " * Helper template for pybind11 class wrappers.\n",
    " */\n",
    "template< class Wrapper, class Wrapped, class Holder = std::unique_ptr<Wrapped>, class WrappedBase = Wrapped >\n",
    "class\n",
    "SPACETIME_PYTHON_WRAPPER_VISIBILITY\n",
    "WrapBase {\n",
    "\n",
    "public:\n",
    "\n",
    "    using wrapper_type = Wrapper;\n",
    "    using wrapped_type = Wrapped;\n",
    "    using wrapped_base_type = WrappedBase;\n",
    "    using holder_type = Holder;\n",
    "    using base_type = WrapBase< wrapper_type, wrapped_type, holder_type, wrapped_base_type >;\n",
    "    using class_ = typename std::conditional<\n",
    "        std::is_same< Wrapped, WrappedBase >::value\n",
    "      , pybind11::class_< wrapped_type, holder_type >\n",
    "      , pybind11::class_< wrapped_type, wrapped_base_type, holder_type >\n",
    "    >::type;\n",
    "\n",
    "    static wrapper_type & commit(pybind11::module * mod, const char * pyname, const char * clsdoc) {\n",
    "        static wrapper_type derived(mod, pyname, clsdoc);\n",
    "        return derived;\n",
    "    }\n",
    "\n",
    "    WrapBase() = delete;\n",
    "    WrapBase(WrapBase const & ) = default;\n",
    "    WrapBase(WrapBase       &&) = delete;\n",
    "    WrapBase & operator=(WrapBase const & ) = default;\n",
    "    WrapBase & operator=(WrapBase       &&) = delete;\n",
    "    ~WrapBase() = default;\n",
    "\n",
    "#define DECL_ST_PYBIND_CLASS_METHOD(METHOD) \\\n",
    "    template< class... Args > \\\n",
    "    /* NOLINTNEXTLINE(bugprone-macro-parentheses) */ \\\n",
    "    wrapper_type & METHOD(Args&&... args) { \\\n",
    "        m_cls.METHOD(std::forward<Args>(args)...); \\\n",
    "        return *static_cast<wrapper_type*>(this); \\\n",
    "    }\n",
    "\n",
    "    DECL_ST_PYBIND_CLASS_METHOD(def)\n",
    "    DECL_ST_PYBIND_CLASS_METHOD(def_readwrite)\n",
    "    DECL_ST_PYBIND_CLASS_METHOD(def_property)\n",
    "    DECL_ST_PYBIND_CLASS_METHOD(def_property_readonly)\n",
    "    DECL_ST_PYBIND_CLASS_METHOD(def_property_readonly_static)\n",
    "\n",
    "#undef DECL_ST_PYBIND_CLASS_METHOD\n",
    "\n",
    "protected:\n",
    "\n",
    "    WrapBase(pybind11::module * mod, const char * pyname, const char * clsdoc)\n",
    "      : m_cls(*mod, pyname, clsdoc)\n",
    "    {}\n",
    "\n",
    "private:\n",
    "\n",
    "    class_ m_cls;\n",
    "\n",
    "}; /* end class WrapBase */\n",
    "\n",
    "} /* end namespace python */\n",
    "\n",
    "} /* end namespace spacetime */\n",
    "\n",
    "/* vim: set et ts=4 sw=4: */\n",
    "```"
   ]
  },
  {
   "cell_type": "markdown",
   "metadata": {},
   "source": [
    "Use `WrapGrid`, `WrapField`, `WrapSolver`, `WrapCelm`, and `WrapSelm` to show how `WrapBase` is used.  See `spacetime/include/spacetime/python/wrapper_spacetime.hpp`:\n",
    "\n",
    "```c++\n",
    "#pragma once\n",
    "\n",
    "/*\n",
    " * Copyright (c) 2018, Yung-Yu Chen <yyc@solvcon.net>\n",
    " * BSD 3-Clause License, see COPYING\n",
    " */\n",
    "\n",
    "#include \"spacetime/python/common.hpp\"\n",
    "\n",
    "namespace spacetime\n",
    "{\n",
    "\n",
    "namespace python\n",
    "{\n",
    "\n",
    "class\n",
    "SPACETIME_PYTHON_WRAPPER_VISIBILITY\n",
    "WrapGrid\n",
    "  : public WrapBase< WrapGrid, Grid, std::shared_ptr<Grid> >\n",
    "{\n",
    "\n",
    "    friend base_type;\n",
    "\n",
    "    WrapGrid(pybind11::module * mod, const char * pyname, const char * clsdoc)\n",
    "      : base_type(mod, pyname, clsdoc)\n",
    "    {\n",
    "        namespace py = pybind11;\n",
    "        (*this)\n",
    "            .def(\n",
    "                py::init([](real_type xmin, real_type xmax, size_t nelm) {\n",
    "                    return Grid::construct(xmin, xmax, nelm);\n",
    "                }),\n",
    "                py::arg(\"xmin\"), py::arg(\"xmax\"), py::arg(\"nelm\")\n",
    "            )\n",
    "            .def(\n",
    "                py::init([](xt::pyarray<wrapped_type::value_type> & xloc) {\n",
    "                    return Grid::construct(xloc);\n",
    "                }),\n",
    "                py::arg(\"xloc\")\n",
    "            )\n",
    "            .def(\"__str__\", &detail::to_str<wrapped_type>)\n",
    "            .def_property_readonly(\"xmin\", &wrapped_type::xmin)\n",
    "            .def_property_readonly(\"xmax\", &wrapped_type::xmax)\n",
    "            .def_property_readonly(\"ncelm\", &wrapped_type::ncelm)\n",
    "            .def_property_readonly(\"nselm\", &wrapped_type::nselm)\n",
    "            .def_property_readonly(\n",
    "                \"xcoord\",\n",
    "                static_cast<wrapped_type::array_type & (wrapped_type::*)()>(&wrapped_type::xcoord)\n",
    "            )\n",
    "            .def_property_readonly_static(\"BOUND_COUNT\", [](py::object const &){ return Grid::BOUND_COUNT; })\n",
    "        ;\n",
    "    }\n",
    "\n",
    "}; /* end class WrapGrid */\n",
    "\n",
    "class\n",
    "SPACETIME_PYTHON_WRAPPER_VISIBILITY\n",
    "WrapField\n",
    "  : public WrapBase< WrapField, Field, std::shared_ptr<Field> >\n",
    "{\n",
    "\n",
    "    friend base_type;\n",
    "\n",
    "    WrapField(pybind11::module * mod, const char * pyname, const char * clsdoc)\n",
    "      : base_type(mod, pyname, clsdoc)\n",
    "    {\n",
    "        namespace py = pybind11;\n",
    "        (*this)\n",
    "            .def(\"__str__\", &detail::to_str<wrapped_type>)\n",
    "            .def_property_readonly(\"grid\", [](wrapped_type & self){ return self.grid().shared_from_this(); })\n",
    "            .def_property_readonly(\"nvar\", &wrapped_type::nvar)\n",
    "            .def_property(\n",
    "                \"time_increment\",\n",
    "                &wrapped_type::time_increment,\n",
    "                &wrapped_type::set_time_increment\n",
    "             )\n",
    "            .def_property_readonly(\"dt\", &wrapped_type::dt)\n",
    "            .def_property_readonly(\"hdt\", &wrapped_type::hdt)\n",
    "            .def_property_readonly(\"qdt\", &wrapped_type::qdt)\n",
    "            .def(\n",
    "                \"celm\",\n",
    "                static_cast<Celm (wrapped_type::*)(sindex_type, bool)>(&wrapped_type::celm_at<Celm>),\n",
    "                py::arg(\"ielm\"), py::arg(\"odd_plane\")=false\n",
    "            )\n",
    "            .def(\n",
    "                \"selm\",\n",
    "                static_cast<Selm (wrapped_type::*)(sindex_type, bool)>(&wrapped_type::selm_at<Selm>),\n",
    "                py::arg(\"ielm\"), py::arg(\"odd_plane\")=false\n",
    "            )\n",
    "        ;\n",
    "    }\n",
    "\n",
    "}; /* end class WrapField */\n",
    "\n",
    "class\n",
    "SPACETIME_PYTHON_WRAPPER_VISIBILITY\n",
    "WrapSolver\n",
    "  : public WrapSolverBase< WrapSolver, Solver >\n",
    "{\n",
    "\n",
    "    using base_type = WrapSolverBase< WrapSolver, Solver >;\n",
    "    using wrapper_type = typename base_type::wrapper_type;\n",
    "    using wrapped_type = typename base_type::wrapped_type;\n",
    "\n",
    "    friend base_type;\n",
    "    friend base_type::base_type;\n",
    "\n",
    "    WrapSolver(pybind11::module * mod, const char * pyname, const char * clsdoc)\n",
    "      : base_type(mod, pyname, clsdoc)\n",
    "    {\n",
    "        namespace py = pybind11;\n",
    "        (*this)\n",
    "            .def\n",
    "            (\n",
    "                py::init(static_cast<std::shared_ptr<wrapped_type> (*) (\n",
    "                    std::shared_ptr<Grid> const &, typename wrapped_type::value_type, size_t\n",
    "                )>(&wrapped_type::construct))\n",
    "              , py::arg(\"grid\"), py::arg(\"time_increment\"), py::arg(\"nvar\")\n",
    "            )\n",
    "        ;\n",
    "    }\n",
    "\n",
    "}; /* end class WrapSolver */\n",
    "\n",
    "class\n",
    "SPACETIME_PYTHON_WRAPPER_VISIBILITY\n",
    "WrapCelm\n",
    "  : public WrapCelmBase< WrapCelm, Celm >\n",
    "{\n",
    "\n",
    "    using base_type = WrapCelmBase< WrapCelm, Celm >;\n",
    "    friend base_type::base_type::base_type;\n",
    "\n",
    "    WrapCelm(pybind11::module * mod, const char * pyname, const char * clsdoc)\n",
    "      : base_type(mod, pyname, clsdoc)\n",
    "    {}\n",
    "\n",
    "}; /* end class WrapCelm */\n",
    "\n",
    "class\n",
    "SPACETIME_PYTHON_WRAPPER_VISIBILITY\n",
    "WrapSelm\n",
    "  : public WrapSelmBase< WrapSelm, Selm >\n",
    "{\n",
    "\n",
    "    using base_type = WrapSelmBase< WrapSelm, Selm >;\n",
    "    friend base_type::base_type::base_type;\n",
    "\n",
    "    WrapSelm(pybind11::module * mod, const char * pyname, const char * clsdoc)\n",
    "      : base_type(mod, pyname, clsdoc)\n",
    "    {}\n",
    "\n",
    "}; /* end class WrapSelm */\n",
    "\n",
    "} /* end namespace python */\n",
    "\n",
    "} /* end namespace spacetime */\n",
    "\n",
    "// vim: set et sw=4 ts=4:\n",
    "```\n",
    "\n",
    "Note that the use of `WrapperBase` saves little duplicated code, if any.  But it facilitates to keep the `.cpp` file for building the Python extension (`spacetime/src/python/libst.cpp`) to be very short:\n",
    "\n",
    "```cpp\n",
    "/*\n",
    " * Copyright (c) 2018, Yung-Yu Chen <yyc@solvcon.net>\n",
    " * BSD 3-Clause License, see COPYING\n",
    " */\n",
    "\n",
    "#include \"spacetime/python.hpp\" // must be first\n",
    "\n",
    "#include \"spacetime.hpp\"\n",
    "\n",
    "#include <algorithm>\n",
    "#include <cstring>\n",
    "#include <memory>\n",
    "#include <utility>\n",
    "#include <vector>\n",
    "\n",
    "namespace\n",
    "{\n",
    "\n",
    "PyObject * initialize_spacetime(pybind11::module * mod)\n",
    "{\n",
    "    namespace spy = spacetime::python;\n",
    "    xt::import_numpy(); // otherwise numpy c api segfault.\n",
    "    mod->doc() = \"_libst: One-dimensional space-time CESE method code\";\n",
    "    spy::WrapGrid::commit(mod, \"Grid\", \"Spatial grid data\");\n",
    "    spy::WrapField::commit(mod, \"Field\", \"Solution data\");\n",
    "    return mod->ptr();\n",
    "}\n",
    "\n",
    "} /* end namespace */\n",
    "\n",
    "PYBIND11_MODULE(_libst, mod) // NOLINT\n",
    "{\n",
    "    namespace spy = spacetime::python;\n",
    "    spy::ModuleInitializer::get_instance()\n",
    "        .add(initialize_spacetime)\n",
    "        .add_solver<spy::WrapSolver, spy::WrapCelm, spy::WrapSelm>\n",
    "        (&mod, \"\", \"no equation\")\n",
    "        .add_solver<spy::WrapLinearScalarSolver, spy::WrapLinearScalarCelm, spy::WrapLinearScalarSelm>\n",
    "        (&mod, \"LinearScalar\", \"a linear scalar equation\")\n",
    "        .add_solver<spy::WrapInviscidBurgersSolver, spy::WrapInviscidBurgersCelm, spy::WrapInviscidBurgersSelm>\n",
    "        (&mod, \"InviscidBurgers\", \"the inviscid Burgers equation\")\n",
    "        .initialize(&mod)\n",
    "    ;\n",
    "}\n",
    "\n",
    "// vim: set et sw=4 ts=4:\n",
    "```"
   ]
  },
  {
   "cell_type": "markdown",
   "metadata": {},
   "source": [
    "# Wrapping API\n",
    "\n",
    "Let's take a look at the helpers that pybind11 provides."
   ]
  },
  {
   "cell_type": "code",
   "execution_count": 2,
   "metadata": {},
   "outputs": [
    {
     "name": "stdout",
     "output_type": "stream",
     "text": [
      "mkdir -p build/dev37 ; \\\n",
      "\tcd build/dev37 ; \\\n",
      "\tcmake /Users/yungyuc/hack/code/nsd/notebook/pybind/spacetime \\\n",
      "\t\t-DCMAKE_INSTALL_PREFIX=/Users/yungyuc/hack/code/nsd/notebook/pybind/spacetime \\\n",
      "\t\t-DCMAKE_BUILD_TYPE=Release \\\n",
      "\t\t-DHIDE_SYMBOL=OFF \\\n",
      "\t\t-DDEBUG_SYMBOL=ON \\\n",
      "\t\t-DUSE_CLANG_TIDY=OFF \\\n",
      "\t\t-DLINT_AS_ERRORS=ON \\\n",
      "\t\t\n",
      "-- BUILD_GTESTS: ON\n",
      "-- HIDE_SYMBOL: OFF\n",
      "-- DEBUG_SYMBOL: ON\n",
      "-- not use clang-tidy\n",
      "-- pybind11_INCLUDE_DIRS: /Users/yungyuc/hack/usr/opt37_190418/include;/Users/yungyuc/hack/usr/opt37_190418/include/python3.7m\n",
      "-- NUMPY_INCLUDE_DIR: /Users/yungyuc/hack/usr/opt37_190418/lib/python3.7/site-packages/numpy/core/include\n",
      "-- xtl_INCLUDE_DIR: not found\n",
      "-- xsimd_INCLUDE_DIR: not found\n",
      "-- xtensor_INCLUDE_DIR: not found\n",
      "-- xtensor-python_INCLUDE_DIR: not found\n",
      "-- Configuring done\n",
      "-- Generating done\n",
      "-- Build files have been written to: /Users/yungyuc/hack/code/nsd/notebook/pybind/spacetime/build/dev37/gtests/googletest-download\n",
      "[100%] Built target googletest\n",
      "-- Configuring done\n",
      "-- Generating done\n",
      "-- Build files have been written to: /Users/yungyuc/hack/code/nsd/notebook/pybind/spacetime/build/dev37\n",
      "make -C build/dev37 VERBOSE= _libst\n",
      "Dependee \"../../include/spacetime/python/common.hpp\" is newer than depender \"CMakeFiles/_libst.dir/src/python/libst.cpp.o\".\n",
      "Clearing dependencies in \"/Users/yungyuc/hack/code/nsd/notebook/pybind/spacetime/build/dev37/CMakeFiles/_libst.dir/depend.make\".\n",
      "\u001b[35m\u001b[1mScanning dependencies of target _libst\u001b[0m\n",
      "[ 50%] \u001b[32mBuilding CXX object CMakeFiles/_libst.dir/src/python/libst.cpp.o\u001b[0m\n",
      "[100%] \u001b[32m\u001b[1mLinking CXX shared module _libst.cpython-37m-darwin.so\u001b[0m\n",
      "[100%] Built target _libst\n",
      "touch build/dev37/_libst.cpython-37m-darwin.so\n",
      "make -C build/dev37 VERBOSE= _libst_py\n",
      "[100%] Built target _libst\n",
      "[100%] Built target _libst_py\n",
      "touch /Users/yungyuc/hack/code/nsd/notebook/pybind/spacetime/libst/_libst.cpython-37m-darwin.so\n"
     ]
    }
   ],
   "source": [
    "!make -C spacetime"
   ]
  },
  {
   "cell_type": "markdown",
   "metadata": {},
   "source": [
    "## Function and property"
   ]
  },
  {
   "cell_type": "markdown",
   "metadata": {},
   "source": [
    "Let's use the `Grid` class as an example to demonstrate how to expose functions and properties.  We have a constructor:\n",
    "\n",
    "```cpp\n",
    ".def(\n",
    "    py::init([](real_type xmin, real_type xmax, size_t nelm) {\n",
    "        return Grid::construct(xmin, xmax, nelm);\n",
    "    }),\n",
    "    py::arg(\"xmin\"), py::arg(\"xmax\"), py::arg(\"nelm\")\n",
    ")\n",
    "```\n",
    "\n",
    "and a special-purpose function:\n",
    "\n",
    "```cpp\n",
    ".def(\"__str__\", &detail::to_str<wrapped_type>)\n",
    "```"
   ]
  },
  {
   "cell_type": "code",
   "execution_count": 3,
   "metadata": {},
   "outputs": [
    {
     "name": "stdout",
     "output_type": "stream",
     "text": [
      "directly call Grid.__str__(): Grid(xmin=0, xmax=8, ncelm=256)\n",
      "call str(Grid): Grid(xmin=0, xmax=8, ncelm=256)\n"
     ]
    }
   ],
   "source": [
    "grid = libst.Grid(0, 8, 4*64)\n",
    "print('directly call Grid.__str__():', grid.__str__())\n",
    "print('call str(Grid):', str(grid))"
   ]
  },
  {
   "cell_type": "markdown",
   "metadata": {},
   "source": [
    "Sometimes properties are more suitable for certain getters:\n",
    "\n",
    "```cpp\n",
    ".def_property_readonly(\"xmin\", &wrapped_type::xmin)\n",
    ".def_property_readonly(\"xmax\", &wrapped_type::xmax)\n",
    ".def_property_readonly_static(\"BOUND_COUNT\", [](py::object const &){ return Grid::BOUND_COUNT; })\n",
    "```\n",
    "\n",
    "As shown above, pybind11 supports static properties that are associated on the class instead of the instance."
   ]
  },
  {
   "cell_type": "code",
   "execution_count": 4,
   "metadata": {},
   "outputs": [
    {
     "name": "stdout",
     "output_type": "stream",
     "text": [
      "grid.BOUND_COUNT = 2\n",
      "grid.xmin = 0.0\n",
      "grid.xmax = 8.0\n"
     ]
    }
   ],
   "source": [
    "print('grid.BOUND_COUNT =', grid.BOUND_COUNT)\n",
    "print('grid.xmin =', grid.xmin)\n",
    "print('grid.xmax =', grid.xmax)"
   ]
  },
  {
   "cell_type": "code",
   "execution_count": 5,
   "metadata": {},
   "outputs": [
    {
     "name": "stdout",
     "output_type": "stream",
     "text": [
      "Grid.BOUND_COUNT (number of points beyond spatial boundary) = 2\n",
      "Grid.xmin = <property object at 0x1076e8890>\n",
      "Grid.xmax = <property object at 0x1076e8950>\n"
     ]
    }
   ],
   "source": [
    "print('Grid.BOUND_COUNT (number of points beyond spatial boundary) =', libst.Grid.BOUND_COUNT)\n",
    "print('Grid.xmin =', libst.Grid.xmin)\n",
    "print('Grid.xmax =', libst.Grid.xmax)"
   ]
  },
  {
   "cell_type": "markdown",
   "metadata": {},
   "source": [
    "Compare to pure Python object:"
   ]
  },
  {
   "cell_type": "code",
   "execution_count": 6,
   "metadata": {},
   "outputs": [
    {
     "name": "stdout",
     "output_type": "stream",
     "text": [
      "2\n",
      "<property object at 0x1078e12f0>\n",
      "<property object at 0x1078e1350>\n"
     ]
    }
   ],
   "source": [
    "class PythonGrid:\n",
    "    BOUND_COUNT = 2\n",
    "    @property\n",
    "    def xmin(self):\n",
    "        return 0\n",
    "    @property\n",
    "    def xmax(self):\n",
    "        return 8\n",
    "print(PythonGrid.BOUND_COUNT)\n",
    "print(PythonGrid.xmin)\n",
    "print(PythonGrid.xmax)"
   ]
  },
  {
   "cell_type": "markdown",
   "metadata": {},
   "source": [
    "In addition to `def_property_readonly` and `def_property_readonly_static`, pybind11 also provides:\n",
    "\n",
    "* `def_property` and `def_property_static` for read/write properties with C++ accessors.\n",
    "* `def_readonly` and `def_readonly_static` for read-only access to C++ data members.\n",
    "* `def_readwrite` and `def_readwrite_static` for read/write access to C++ data members."
   ]
  },
  {
   "cell_type": "markdown",
   "metadata": {},
   "source": [
    "## Named and keyword arguments"
   ]
  },
  {
   "cell_type": "markdown",
   "metadata": {},
   "source": [
    "Pybind11 allows us to name Python arguments.  I take the advantage for wrapping the constructor of `Grid`:\n",
    "\n",
    "```cpp\n",
    ".def(\n",
    "    py::init([](real_type xmin, real_type xmax, size_t nelm) {\n",
    "        return Grid::construct(xmin, xmax, nelm);\n",
    "    }),\n",
    "    py::arg(\"xmin\"), py::arg(\"xmax\"), py::arg(\"nelm\")\n",
    ")\n",
    "```\n",
    "\n",
    "and a special-purpose function:\n",
    "\n",
    "```cpp\n",
    ".def(\"__str__\", &detail::to_str<wrapped_type>)\n",
    "```"
   ]
  },
  {
   "cell_type": "code",
   "execution_count": 7,
   "metadata": {},
   "outputs": [
    {
     "name": "stdout",
     "output_type": "stream",
     "text": [
      "directly call Grid.__str__(): Grid(xmin=0, xmax=8, ncelm=256)\n",
      "call str(Grid): Grid(xmin=0, xmax=8, ncelm=256)\n"
     ]
    }
   ],
   "source": [
    "grid = libst.Grid(xmin=0, xmax=8, nelm=4*64)\n",
    "print('directly call Grid.__str__():', grid.__str__())\n",
    "print('call str(Grid):', str(grid))"
   ]
  },
  {
   "cell_type": "markdown",
   "metadata": {},
   "source": [
    "`pybind11:arg` also allows default value to the arguments (keyword arguments).  For example, see what I have for all the solver classes (`spacetime/include/spacetime/python/common.hpp`):\n",
    "\n",
    "```cpp\n",
    ".def\n",
    "(\n",
    "    \"selms\"\n",
    "  , [](wrapped_type & self, bool odd_plane)\n",
    "    { return elm_iter_type(self.shared_from_this(), odd_plane, 0, true); }\n",
    "  , py::arg(\"odd_plane\")=false\n",
    ")\n",
    "```"
   ]
  },
  {
   "cell_type": "code",
   "execution_count": 8,
   "metadata": {},
   "outputs": [
    {
     "name": "stdout",
     "output_type": "stream",
     "text": [
      "SolverElementIterator(selm, on_even_plane, current=0, nelem=257)\n",
      "SolverElementIterator(selm, on_even_plane, current=0, nelem=257)\n",
      "SolverElementIterator(selm, on_odd_plane, current=0, nelem=256)\n",
      "SolverElementIterator(selm, on_even_plane, current=0, nelem=257)\n",
      "SolverElementIterator(selm, on_odd_plane, current=0, nelem=256)\n"
     ]
    }
   ],
   "source": [
    "grid = libst.Grid(0, 4*2*np.pi, 4*64)\n",
    "cfl = 1\n",
    "dx = (grid.xmax - grid.xmin) / grid.ncelm\n",
    "dt = dx * cfl\n",
    "svr = libst.LinearScalarSolver(grid=grid, time_increment=dt)\n",
    "\n",
    "print(svr.selms())\n",
    "print(svr.selms(False))\n",
    "print(svr.selms(True))\n",
    "print(svr.selms(odd_plane=False))\n",
    "print(svr.selms(odd_plane=True))"
   ]
  },
  {
   "cell_type": "markdown",
   "metadata": {},
   "source": [
    "## What happens in Python stays in Python (or pybind11)\n",
    "\n",
    "When wrapping from C++ to Python, there are constructs only available in the scripting language but not the low-level implementation.  When it happens, write the adapting code in the pybind11 layer and do not pollute the low-level implementation.\n",
    "\n",
    "One example is Python iterator protocol.  The adapting code is (`spacetime/include/spacetime/python/common.hpp`):\n",
    "\n",
    "```cpp\n",
    "template< typename ST >\n",
    "class SolverElementIterator\n",
    "{\n",
    "\n",
    "public:\n",
    "\n",
    "    using solver_type = ST;\n",
    "\n",
    "    SolverElementIterator() = delete;\n",
    "    SolverElementIterator(std::shared_ptr<ST> sol, bool odd_plane, size_t starting, bool selm)\n",
    "      : m_solver(std::move(sol)), m_odd_plane(odd_plane), m_current(starting), m_selm(selm)\n",
    "    {}\n",
    "\n",
    "    typename ST::celm_type next_celm()\n",
    "    {\n",
    "        size_t ncelm = m_solver->grid().ncelm();\n",
    "        if (m_odd_plane) { --ncelm; }\n",
    "        if (m_current >= ncelm) { throw pybind11::stop_iteration(); }\n",
    "        typename ST::celm_type ret = m_solver->celm(m_current, m_odd_plane);\n",
    "        ++m_current;\n",
    "        return ret;\n",
    "    }\n",
    "\n",
    "    typename ST::selm_type next_selm()\n",
    "    {\n",
    "        size_t nselm = m_solver->grid().nselm();\n",
    "        if (m_odd_plane) { --nselm; }\n",
    "        if (m_current >= nselm) { throw pybind11::stop_iteration(); }\n",
    "        typename ST::selm_type ret = m_solver->selm(m_current, m_odd_plane);\n",
    "        ++m_current;\n",
    "        return ret;\n",
    "    }\n",
    "\n",
    "    bool is_selm() const { return m_selm; }\n",
    "    bool on_odd_plane() const { return m_odd_plane; }\n",
    "    size_t current() const { return m_current; }\n",
    "    size_t nelem() const\n",
    "    {\n",
    "        size_t ret = is_selm() ? m_solver->grid().nselm() : m_solver->grid().ncelm();\n",
    "        if (m_odd_plane) { --ret; }\n",
    "        return ret;\n",
    "    }\n",
    "\n",
    "private:\n",
    "\n",
    "    std::shared_ptr<solver_type> m_solver;\n",
    "    bool m_odd_plane;\n",
    "    size_t m_current = 0;\n",
    "    bool m_selm = false;\n",
    "\n",
    "}; /* end class SolverElementIterator */\n",
    "```\n",
    "\n",
    "The wrapping code is:\n",
    "\n",
    "```cpp\n",
    "using elm_iter_type = SolverElementIterator<wrapped_type>;\n",
    "std::string elm_pyname = std::string(pyname) + \"ElementIterator\";\n",
    "pybind11::class_< elm_iter_type >(*mod, elm_pyname.c_str())\n",
    "    .def(\"__str__\", &detail::to_str<elm_iter_type>)\n",
    "    .def(\"__iter__\", [](elm_iter_type & self){ return self; })\n",
    "    .def(\n",
    "        \"__next__\"\n",
    "      , [](elm_iter_type & self)\n",
    "        {\n",
    "            py::object ret;\n",
    "            if (self.is_selm()) { ret = py::cast(self.next_selm()); }\n",
    "            else                { ret = py::cast(self.next_celm()); }\n",
    "            return ret;\n",
    "        }\n",
    "    )\n",
    ";\n",
    "```"
   ]
  },
  {
   "cell_type": "markdown",
   "metadata": {},
   "source": [
    "Let's use a concrete solver of linear wave (governing equation is $u_t + u_x = 0$) to demonstrate how it works in Python:"
   ]
  },
  {
   "cell_type": "code",
   "execution_count": 9,
   "metadata": {},
   "outputs": [
    {
     "data": {
      "text/plain": [
       "[<matplotlib.lines.Line2D at 0x107412d10>]"
      ]
     },
     "execution_count": 9,
     "metadata": {},
     "output_type": "execute_result"
    },
    {
     "data": {
      "image/png": "[encoded data removed]",
      "text/plain": [
       "<Figure size 1080x720 with 1 Axes>"
      ]
     },
     "metadata": {
      "needs_background": "light"
     },
     "output_type": "display_data"
    }
   ],
   "source": [
    "grid = libst.Grid(0, 4*2*np.pi, 4*64)\n",
    "cfl = 1\n",
    "dx = (grid.xmax - grid.xmin) / grid.ncelm\n",
    "dt = dx * cfl\n",
    "svr = libst.LinearScalarSolver(grid=grid, time_increment=dt)\n",
    "\n",
    "# Initialize\n",
    "for e in svr.selms(odd_plane=False): # NOTE: 'selms' returns a template instance of SolverElementIterator\n",
    "    if e.xctr < 2*np.pi or e.xctr > 2*2*np.pi:\n",
    "        v = 0\n",
    "        dv = 0\n",
    "    else:\n",
    "        v = np.sin(e.xctr)\n",
    "        dv = np.cos(e.xctr)\n",
    "    e.set_so0(0, v)\n",
    "    e.set_so1(0, dv)\n",
    "\n",
    "# Plot it\n",
    "plt.figure(figsize=(15,10))\n",
    "plt.xlim((0, 8))\n",
    "plt.xlabel('$x$ $(\\pi)$')\n",
    "plt.ylabel('$y$')\n",
    "plt.grid()\n",
    "plt.plot(svr.xctr() / np.pi, svr.get_so0(0), '-')"
   ]
  },
  {
   "cell_type": "markdown",
   "metadata": {},
   "source": [
    "# See how Python plays"
   ]
  },
  {
   "cell_type": "markdown",
   "metadata": {},
   "source": [
    "## Linear wave\n",
    "\n",
    "The governing equation is\n",
    "\n",
    "\\begin{align*}\n",
    "\\frac{\\partial u}{\\partial t} + \\frac{\\partial u}{\\partial x} = 0\n",
    "\\end{align*}\n",
    "\n",
    "We will see a propagating wave from left to right with phase velocity of unity."
   ]
  },
  {
   "cell_type": "code",
   "execution_count": 10,
   "metadata": {},
   "outputs": [
    {
     "data": {
      "text/plain": [
       "<matplotlib.legend.Legend at 0x1068ba690>"
      ]
     },
     "execution_count": 10,
     "metadata": {},
     "output_type": "execute_result"
    },
    {
     "data": {
      "image/png": "[encoded data removed]",
      "text/plain": [
       "<Figure size 1080x720 with 1 Axes>"
      ]
     },
     "metadata": {
      "needs_background": "light"
     },
     "output_type": "display_data"
    }
   ],
   "source": [
    "grid = libst.Grid(0, 4*2*np.pi, 4*64)\n",
    "cfl = 1\n",
    "dx = (grid.xmax - grid.xmin) / grid.ncelm\n",
    "dt = dx * cfl\n",
    "svr = libst.LinearScalarSolver(grid=grid, time_increment=dt)\n",
    "\n",
    "# Initialize\n",
    "for e in svr.selms(odd_plane=False):\n",
    "    if e.xctr < 2*np.pi or e.xctr > 2*2*np.pi:\n",
    "        v = 0\n",
    "        dv = 0\n",
    "    else:\n",
    "        v = np.sin(e.xctr)\n",
    "        dv = np.cos(e.xctr)\n",
    "    e.set_so0(0, v)\n",
    "    e.set_so1(0, dv)\n",
    "    \n",
    "\n",
    "plt.figure(figsize=(15,10))\n",
    "plt.xlim((0, 8))\n",
    "plt.xlabel('$x$ $(\\pi)$')\n",
    "plt.ylabel('$u$')\n",
    "plt.grid()\n",
    "plt.plot(svr.xctr() / np.pi, svr.get_so0(0), '-', label='begin')\n",
    "\n",
    "svr.setup_march()\n",
    "svr.march_alpha2(50)\n",
    "plt.plot(svr.xctr() / np.pi, svr.get_so0(0), '-', label='end')\n",
    "\n",
    "plt.legend()"
   ]
  },
  {
   "cell_type": "markdown",
   "metadata": {},
   "source": [
    "See a movie:"
   ]
  },
  {
   "cell_type": "code",
   "execution_count": 11,
   "metadata": {},
   "outputs": [],
   "source": [
    "grid = libst.Grid(0, 4*2*np.pi, 4*64)\n",
    "cfl = 1\n",
    "dx = (grid.xmax - grid.xmin) / grid.ncelm\n",
    "dt = dx * cfl\n",
    "svr = libst.LinearScalarSolver(grid=grid, time_increment=dt)\n",
    "\n",
    "# Initialize\n",
    "for e in svr.selms(odd_plane=False):\n",
    "    if e.xctr < 2*np.pi or e.xctr > 2*2*np.pi:\n",
    "        v = 0\n",
    "        dv = 0\n",
    "    else:\n",
    "        v = np.sin(e.xctr)\n",
    "        dv = np.cos(e.xctr)\n",
    "    e.set_so0(0, v)\n",
    "    e.set_so1(0, dv)\n",
    "\n",
    "def animate(nsteps, ninterval):\n",
    "    fig, ax = plt.subplots(figsize=(15,10))\n",
    "\n",
    "    ax.set_xlim((svr.selm(0).x/np.pi, svr.selm(svr.grid.ncelm).x/np.pi))\n",
    "    ax.set_ylim((-1.2, 1.2))\n",
    "    ax.set_xlabel('$x$ $(\\pi)$')\n",
    "    ax.set_ylabel('$u$')\n",
    "    ax.grid()\n",
    "\n",
    "    line, = ax.plot([], [], \"-\")\n",
    "\n",
    "    def init():\n",
    "        svr.setup_march()\n",
    "        line.set_data(svr.xctr()/np.pi, svr.get_so0(0))\n",
    "        return (line,)\n",
    "\n",
    "    def animate(i):\n",
    "        if i != 0:\n",
    "            svr.march_alpha2(ninterval)\n",
    "        line.set_data(svr.xctr()/np.pi, svr.get_so0(0))\n",
    "        return (line,)\n",
    "\n",
    "    anim = animation.FuncAnimation(fig, animate, init_func=init,\n",
    "                                   frames=nsteps+1, interval=100,\n",
    "                                   blit=True)\n",
    "    return HTML(anim.to_jshtml())\n",
    "            \n",
    "#animate(100, 10) # Don't check in the animation to git, since it's big."
   ]
  },
  {
   "cell_type": "markdown",
   "metadata": {},
   "source": [
    "## The inviscid Burgers equation\n",
    "\n",
    "The second example is a non-linear equation:\n",
    "\n",
    "\\begin{align*}\n",
    "\\frac{\\partial u}{\\partial t} + u \\frac{\\partial u}{\\partial x} = 0\n",
    "\\end{align*}\n",
    "\n",
    "The wave propagates in a way that is not predictable."
   ]
  },
  {
   "cell_type": "code",
   "execution_count": 12,
   "metadata": {},
   "outputs": [
    {
     "data": {
      "text/plain": [
       "<matplotlib.legend.Legend at 0x1083b20d0>"
      ]
     },
     "execution_count": 12,
     "metadata": {},
     "output_type": "execute_result"
    },
    {
     "data": {
      "image/png": "[encoded data removed]",
      "text/plain": [
       "<Figure size 1080x720 with 1 Axes>"
      ]
     },
     "metadata": {
      "needs_background": "light"
     },
     "output_type": "display_data"
    }
   ],
   "source": [
    "res = 32\n",
    "xcrd = np.arange(res+1) / res * 2 * np.pi\n",
    "\n",
    "time_stop = 2*np.pi\n",
    "\n",
    "grid = libst.Grid(xcrd)\n",
    "cfl_max = 1.0\n",
    "dx = (grid.xmax - grid.xmin) / grid.ncelm\n",
    "dt_max = dx * cfl_max\n",
    "nstep = int(np.ceil(time_stop / dt_max))\n",
    "dt = time_stop / nstep\n",
    "cfl = dt / dx\n",
    "\n",
    "svr = libst.InviscidBurgersSolver(grid=grid, time_increment=dt)\n",
    "\n",
    "# Initialize\n",
    "svr.set_so0(0, np.sin(svr.xctr()))\n",
    "svr.set_so1(0, np.cos(svr.xctr()))\n",
    "\n",
    "plt.figure(figsize=(15,10))\n",
    "plt.xlim((0, 2))\n",
    "plt.xlabel('$x$ $(\\pi)$')\n",
    "plt.ylabel('$u$')\n",
    "plt.grid()\n",
    "plt.plot(svr.xctr() / np.pi, svr.get_so0(0), '-', label='begin')\n",
    "\n",
    "svr.setup_march()\n",
    "svr.march_alpha2(50)\n",
    "plt.plot(svr.xctr() / np.pi, svr.get_so0(0), '-', label='end')\n",
    "\n",
    "plt.legend()"
   ]
  },
  {
   "cell_type": "code",
   "execution_count": 13,
   "metadata": {},
   "outputs": [],
   "source": [
    "res = 32\n",
    "xcrd = np.arange(res+1) / res * 2 * np.pi\n",
    "\n",
    "time_stop = 2*np.pi\n",
    "\n",
    "grid = libst.Grid(xcrd)\n",
    "cfl_max = 1.0\n",
    "dx = (grid.xmax - grid.xmin) / grid.ncelm\n",
    "dt_max = dx * cfl_max\n",
    "nstep = int(np.ceil(time_stop / dt_max))\n",
    "dt = time_stop / nstep\n",
    "cfl = dt / dx\n",
    "\n",
    "svr = libst.InviscidBurgersSolver(grid=grid, time_increment=dt)\n",
    "\n",
    "# Initialize\n",
    "svr.set_so0(0, np.sin(svr.xctr()))\n",
    "svr.set_so1(0, np.cos(svr.xctr()))\n",
    "\n",
    "def animate(nsteps):\n",
    "    fig, ax = plt.subplots(figsize=(15,10))\n",
    "\n",
    "    ax.set_xlim((svr.selm(0).x/np.pi, svr.selm(svr.grid.ncelm).x/np.pi))\n",
    "    ax.set_ylim((-1.2, 1.2))\n",
    "    ax.set_xlabel('$x$ $(\\pi)$')\n",
    "    ax.set_ylabel('$u$')\n",
    "    ax.grid()\n",
    "\n",
    "    line, = ax.plot([], [], \"+-\")\n",
    "\n",
    "    def init():\n",
    "        svr.setup_march()\n",
    "        line.set_data(svr.xctr()/np.pi, svr.get_so0(0))\n",
    "        return (line,)\n",
    "\n",
    "    def animate(i):\n",
    "        if i != 0:\n",
    "            svr.march_alpha2(1)\n",
    "        line.set_data(svr.xctr()/np.pi, svr.get_so0(0))\n",
    "        return (line,)\n",
    "\n",
    "    anim = animation.FuncAnimation(fig, animate, init_func=init,\n",
    "                                   frames=nsteps+1, interval=100,\n",
    "                                   blit=True)\n",
    "    return HTML(anim.to_jshtml())\n",
    "            \n",
    "#animate(50) # Don't check in the animation to git, since it's big."
   ]
  },
  {
   "cell_type": "markdown",
   "metadata": {},
   "source": [
    "# Manipulate Python objects in C++\n",
    "\n",
    "Pybind11 provides C++ API for manipulating Python object (the C `struct PyObject`), so that we don't need to dig into the Python C API and worry about the reference counting by hand."
   ]
  },
  {
   "cell_type": "markdown",
   "metadata": {},
   "source": [
    "The first example is to create a `None` object from C++."
   ]
  },
  {
   "cell_type": "code",
   "execution_count": 14,
   "metadata": {},
   "outputs": [],
   "source": [
    "%%pybind11 -c=\"-O3\"\n",
    "\n",
    "#include \"pybind11/pybind11.h\"\n",
    "\n",
    "PYBIND11_MODULE(code_none, m)\n",
    "{\n",
    "    namespace py = pybind11;\n",
    "\n",
    "    m\n",
    "        .def\n",
    "        (\n",
    "            \"create_none\", []() { return py::none(); }\n",
    "        )\n",
    "    ;\n",
    "}"
   ]
  },
  {
   "cell_type": "code",
   "execution_count": 15,
   "metadata": {},
   "outputs": [
    {
     "name": "stdout",
     "output_type": "stream",
     "text": [
      "<built-in method create_none of PyCapsule object at 0x1083b5690>\n",
      "<class 'NoneType'>\n",
      "None\n"
     ]
    }
   ],
   "source": [
    "print(create_none)\n",
    "print(type(create_none()))\n",
    "print(create_none())"
   ]
  },
  {
   "cell_type": "markdown",
   "metadata": {},
   "source": [
    "`pybind11::object` is the C++ counterpart of `PyObject` in C, but automatically does reference counting for us."
   ]
  },
  {
   "cell_type": "code",
   "execution_count": 16,
   "metadata": {},
   "outputs": [],
   "source": [
    "%%pybind11 -c=\"-O3\"\n",
    "\n",
    "#include \"pybind11/pybind11.h\"\n",
    "\n",
    "PYBIND11_MODULE(code_object, m)\n",
    "{\n",
    "    namespace py = pybind11;\n",
    "\n",
    "    m\n",
    "        .def\n",
    "        (\n",
    "            \"return_none\"\n",
    "          , []()\n",
    "            {\n",
    "                py::object ret = py::none();\n",
    "                return ret;\n",
    "            }\n",
    "        )\n",
    "    ;\n",
    "}"
   ]
  },
  {
   "cell_type": "code",
   "execution_count": 17,
   "metadata": {},
   "outputs": [
    {
     "name": "stdout",
     "output_type": "stream",
     "text": [
      "<built-in method return_none of PyCapsule object at 0x10894cc90> None\n"
     ]
    }
   ],
   "source": [
    "print(return_none, return_none())"
   ]
  },
  {
   "cell_type": "markdown",
   "metadata": {},
   "source": [
    "Pybind11 allows us to use `pybind11.attr` to assign attribute to a Python object."
   ]
  },
  {
   "cell_type": "code",
   "execution_count": 18,
   "metadata": {},
   "outputs": [],
   "source": [
    "%%pybind11 -c=\"-O3\"\n",
    "\n",
    "#include \"pybind11/pybind11.h\"\n",
    "\n",
    "PYBIND11_MODULE(code_attr, m)\n",
    "{\n",
    "    namespace py = pybind11;\n",
    "\n",
    "    m.attr(\"string_name\") = \"string_content\";\n",
    "}"
   ]
  },
  {
   "cell_type": "code",
   "execution_count": 19,
   "metadata": {},
   "outputs": [
    {
     "name": "stdout",
     "output_type": "stream",
     "text": [
      "<class 'str'> string_content\n"
     ]
    }
   ],
   "source": [
    "print(type(string_name), string_name)"
   ]
  },
  {
   "cell_type": "markdown",
   "metadata": {},
   "source": [
    "We may use the pybind11 C"
   ]
  },
  {
   "cell_type": "code",
   "execution_count": 20,
   "metadata": {},
   "outputs": [],
   "source": [
    "%%pybind11 -c=\"-O3\"\n",
    "\n",
    "#include \"pybind11/pybind11.h\"\n",
    "\n",
    "PYBIND11_MODULE(code1, m)\n",
    "{\n",
    "    namespace py = pybind11;\n",
    "\n",
    "    m\n",
    "        .def\n",
    "        (\n",
    "            \"create_none\", []() { return py::none(); }\n",
    "        )\n",
    "        .def\n",
    "        (\n",
    "            \"return_none\"\n",
    "          , []()\n",
    "            {\n",
    "                py::object ret = py::none();\n",
    "                return ret;\n",
    "            }\n",
    "        )\n",
    "        .def\n",
    "        (\n",
    "            \"return_numpy_version\"\n",
    "          , []()\n",
    "            {\n",
    "                py::object numpy = py::module::import(\"numpy\");\n",
    "                return numpy.attr(\"__version__\");\n",
    "            }\n",
    "        )\n",
    "    ;\n",
    "    \n",
    "    m.attr(\"string_name\") = \"string_content\";\n",
    "    \n",
    "    m.attr(\"alias_to_return_none\") = m.attr(\"return_none\");\n",
    "}"
   ]
  },
  {
   "cell_type": "code",
   "execution_count": 21,
   "metadata": {},
   "outputs": [
    {
     "name": "stdout",
     "output_type": "stream",
     "text": [
      "<built-in method create_none of PyCapsule object at 0x1083ae4b0> None\n",
      "<built-in method return_none of PyCapsule object at 0x1083ae5d0> None\n",
      "1.17.0.dev0+3c3ba10\n",
      "<class 'str'> string_content\n",
      "<built-in method return_none of PyCapsule object at 0x1083ae5d0> None\n"
     ]
    }
   ],
   "source": [
    "print(create_none, create_none())\n",
    "print(return_none, return_none())\n",
    "print(return_numpy_version())\n",
    "print(type(string_name), string_name)\n",
    "print(alias_to_return_none, alias_to_return_none())"
   ]
  },
  {
   "cell_type": "markdown",
   "metadata": {},
   "source": [
    "# Python containers\n",
    "\n",
    "Pybind11 provides C++ API for creating and manipulating the most important Python containers: `tuple`, `list`, and `dict`.  See https://pybind11.readthedocs.io/en/stable/advanced/pycpp/object.html and the unit tests for more information."
   ]
  },
  {
   "cell_type": "markdown",
   "metadata": {},
   "source": [
    "## `tuple`"
   ]
  },
  {
   "cell_type": "code",
   "execution_count": 22,
   "metadata": {},
   "outputs": [],
   "source": [
    "%%pybind11 -c=\"-O3\"\n",
    "\n",
    "#include \"pybind11/pybind11.h\"\n",
    "\n",
    "PYBIND11_MODULE(code_tuple, m)\n",
    "{\n",
    "    namespace py = pybind11;\n",
    "\n",
    "    py::tuple my_tuple = py::make_tuple(\"string_data_in_tuple\", 10, 3.1415926);\n",
    "\n",
    "    m.attr(\"my_tuple\") = my_tuple;\n",
    "}"
   ]
  },
  {
   "cell_type": "code",
   "execution_count": 23,
   "metadata": {},
   "outputs": [
    {
     "name": "stdout",
     "output_type": "stream",
     "text": [
      "<class 'tuple'> ('string_data_in_tuple', 10, 3.1415926)\n"
     ]
    }
   ],
   "source": [
    "print(type(my_tuple), my_tuple)"
   ]
  },
  {
   "cell_type": "markdown",
   "metadata": {},
   "source": [
    "## `list`"
   ]
  },
  {
   "cell_type": "code",
   "execution_count": 24,
   "metadata": {},
   "outputs": [],
   "source": [
    "%%pybind11 -c=\"-O3\"\n",
    "\n",
    "#include \"pybind11/pybind11.h\"\n",
    "\n",
    "PYBIND11_MODULE(code2, m)\n",
    "{\n",
    "    namespace py = pybind11;\n",
    "\n",
    "    py::list my_list = py::list();\n",
    "\n",
    "    my_list.append(\"string_data_in_list\");\n",
    "    my_list.append(11);\n",
    "    my_list.append(2.71828);\n",
    "\n",
    "    py::list my_list2 = py::make_tuple(\"string_data_in_list2\", 12);\n",
    "\n",
    "    m.attr(\"my_list\") = my_list;\n",
    "    m.attr(\"my_list2\") = my_list2;\n",
    "}"
   ]
  },
  {
   "cell_type": "code",
   "execution_count": 25,
   "metadata": {},
   "outputs": [
    {
     "name": "stdout",
     "output_type": "stream",
     "text": [
      "<class 'list'> ['string_data_in_list', 11, 2.71828]\n"
     ]
    }
   ],
   "source": [
    "print(type(my_list), my_list)"
   ]
  },
  {
   "cell_type": "code",
   "execution_count": 26,
   "metadata": {},
   "outputs": [
    {
     "name": "stdout",
     "output_type": "stream",
     "text": [
      "<class 'list'> ['string_data_in_list2', 12]\n"
     ]
    }
   ],
   "source": [
    "print(type(my_list2), my_list2)"
   ]
  },
  {
   "cell_type": "markdown",
   "metadata": {},
   "source": [
    "## `dict`"
   ]
  },
  {
   "cell_type": "code",
   "execution_count": 27,
   "metadata": {},
   "outputs": [],
   "source": [
    "%%pybind11 -c=\"-O3\"\n",
    "\n",
    "#include \"pybind11/pybind11.h\"\n",
    "\n",
    "PYBIND11_MODULE(code2, m)\n",
    "{\n",
    "    namespace py = pybind11;\n",
    "\n",
    "    py::dict my_dict;\n",
    "\n",
    "    my_dict[\"key_string\"] = \"string_data_in_dict\";\n",
    "    my_dict[\"key_int\"] = 13;\n",
    "    my_dict[\"key_real\"] = 1.414;\n",
    "\n",
    "    m.attr(\"my_dict\") = my_dict;\n",
    "}"
   ]
  },
  {
   "cell_type": "code",
   "execution_count": 28,
   "metadata": {},
   "outputs": [
    {
     "name": "stdout",
     "output_type": "stream",
     "text": [
      "<class 'dict'> {'key_string': 'string_data_in_dict', 'key_int': 13, 'key_real': 1.414}\n"
     ]
    }
   ],
   "source": [
    "print(type(my_dict), my_dict)"
   ]
  },
  {
   "cell_type": "markdown",
   "metadata": {},
   "source": [
    "# Exercises"
   ]
  },
  {
   "cell_type": "markdown",
   "metadata": {},
   "source": [
    "# References\n",
    "\n",
    "1. S.C. Chang, \"The Method of Space-Time Conservation Element and Solution Element -- A New Approach for Solving the Navier-Stokes and Euler Equations,\" J. Comput. Phys., 119, pp. 295-324, (1995).  DOI: [10.1006/jcph.1995.1137](https://doi.org/10.1006/jcph.1995.1137)"
   ]
  }
 ],
 "metadata": {
  "kernelspec": {
   "display_name": "Python 3",
   "language": "python",
   "name": "python3"
  },
  "language_info": {
   "codemirror_mode": {
    "name": "ipython",
    "version": 3
   },
   "file_extension": ".py",
   "mimetype": "text/x-python",
   "name": "python",
   "nbconvert_exporter": "python",
   "pygments_lexer": "ipython3",
   "version": "3.7.4+"
  }
 },
 "nbformat": 4,
 "nbformat_minor": 2
}
