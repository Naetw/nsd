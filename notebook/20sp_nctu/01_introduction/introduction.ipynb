{
 "cells": [
  {
   "cell_type": "markdown",
   "metadata": {},
   "source": [
    "# Introduction"
   ]
  },
  {
   "cell_type": "markdown",
   "metadata": {
    "slideshow": {
     "slide_type": "subslide"
    }
   },
   "source": [
    "What is numerical software:\n",
    "\n",
    "* Original purpose of digital computers: Electronic Numerical Integrator and Computer (ENIAC) (1945).\n",
    "* Numerical software is:\n",
    "  * Not visually pleasant, usually no graphical user interface\n",
    "  * Mathematically intensive, unintuitive to code\n",
    "  * Computationally intensive, often incorporating parallelism, distributed computing, and special hardware"
   ]
  },
  {
   "cell_type": "markdown",
   "metadata": {
    "slideshow": {
     "slide_type": "subslide"
    }
   },
   "source": [
    "# Why develop numerical software\n",
    "\n",
    "* Study scientific, engineering, and mathematical problems:\n",
    "  1. Observation\n",
    "  2. Genralize to a theory in math\n",
    "  3. Obtain analytical solutions for simple setup\n",
    "  4. Get stuck with **complex** setup\n",
    "  5. Numerical analysis comes to rescue\n",
    "  6. ... **a lot of code development** ...\n",
    "  7. Release a software package\n",
    "* Things become marketable: communication, visualization\n",
    "* Things become possible: fluid dynamics, astrophysics, machine learning"
   ]
  },
  {
   "cell_type": "markdown",
   "metadata": {
    "slideshow": {
     "slide_type": "subslide"
    }
   },
   "source": [
    "# Numerical software = C++ + Python\n",
    "\n",
    "* Numerical software is usually developed as a platform, working like a library that provides data structures and helpers for problem solving.\n",
    "* The users will use a scripting engine it provides to build applications.  Python is a popular choice for scripting.\n",
    "* C++ gives the fine control and allows assembly that is necessary to utilize every drop of hardware: multi-core, multi-threading, cache, vector processing, etc.\n",
    "* Python is high-level for housekeeping and setup, because doing that in C++ is painful."
   ]
  },
  {
   "cell_type": "markdown",
   "metadata": {
    "slideshow": {
     "slide_type": "subslide"
    }
   },
   "source": [
    "# More reasons for Python\n",
    "\n",
    "* Python provides a better way to describe the physical or mathematical problem.\n",
    "* Python can easily build an even higher-level application, using GUI, scripting, or both.\n",
    "* Is there alternative for C++?  No.  For Python?  Yes.  But Python is the easiest choice for its versatility and simplicity.\n",
    "* A numerical software developer sees through the abstraction stack:\n",
    "  * The highest-level application is presented as a Python script.\n",
    "  * The Python script drives the number-crunching C++ library.\n",
    "  * C++ is the syntactic sugar for the machine code."
   ]
  }
 ],
 "metadata": {
  "kernelspec": {
   "display_name": "Python 3",
   "language": "python",
   "name": "python3"
  },
  "language_info": {
   "codemirror_mode": {
    "name": "ipython",
    "version": 3
   },
   "file_extension": ".py",
   "mimetype": "text/x-python",
   "name": "python",
   "nbconvert_exporter": "python",
   "pygments_lexer": "ipython3",
   "version": "3.7.4+"
  }
 },
 "nbformat": 4,
 "nbformat_minor": 2
}
