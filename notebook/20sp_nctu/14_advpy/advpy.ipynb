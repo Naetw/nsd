{
 "cells": [
  {
   "cell_type": "markdown",
   "metadata": {},
   "source": [
    "# Advanced Python\n",
    "\n",
    "1. Iterator\n",
    "   1. List comprehension\n",
    "   2. Generator\n",
    "   3. Generator expression\n",
    "2. Stack frame\n",
    "   1. `frame` object\n",
    "3. Customizing module import with `sys.meta_path`\n",
    "4. Descriptor\n",
    "   1. Keep data on the instance\n",
    "5. Metaclass\n",
    "5. Type introspection and abstract base class (abc)"
   ]
  },
  {
   "cell_type": "code",
   "execution_count": null,
   "metadata": {},
   "outputs": [],
   "source": [
    "import sys\n",
    "import os\n",
    "import pprint"
   ]
  },
  {
   "cell_type": "markdown",
   "metadata": {},
   "source": [
    "# Iterator\n",
    "\n",
    "While processing data in memory, they are iterated one by one.  Assume we have 10 elements in a list."
   ]
  },
  {
   "cell_type": "code",
   "execution_count": null,
   "metadata": {},
   "outputs": [],
   "source": [
    "data = list(range(10))\n",
    "print(data, type(data))"
   ]
  },
  {
   "cell_type": "markdown",
   "metadata": {},
   "source": [
    "Python uses the [iterator protocol](https://docs.python.org/3/library/stdtypes.html#iterator-types) to get one element a time:"
   ]
  },
  {
   "cell_type": "code",
   "execution_count": null,
   "metadata": {},
   "outputs": [],
   "source": [
    "class ListIterator:\n",
    "\n",
    "    def __init__(self, data):\n",
    "        self.data = data\n",
    "        self.it = None\n",
    "\n",
    "    def __iter__(self):\n",
    "        return self\n",
    "\n",
    "    def __next__(self):\n",
    "        if None is self.it:\n",
    "            self.it = 0\n",
    "        elif self.it >= len(self.data)-1:\n",
    "            raise StopIteration\n",
    "        else:\n",
    "            self.it += 1\n",
    "        return self.data[self.it]"
   ]
  },
  {
   "cell_type": "markdown",
   "metadata": {},
   "source": [
    "The `for ... in ...` construct applies to the iterator object.  Every time the construct needs the next element, `ListIterator.__next__()` is called:"
   ]
  },
  {
   "cell_type": "code",
   "execution_count": null,
   "metadata": {},
   "outputs": [],
   "source": [
    "list_iterator = ListIterator(data)\n",
    "print(list_iterator)\n",
    "print(dir(list_iterator))\n",
    "for i in list_iterator:\n",
    "    print(i)"
   ]
  },
  {
   "cell_type": "markdown",
   "metadata": {},
   "source": [
    "Of course, you don't really need to write your own `ListIterator` for iterating a list, because Python builds in an iterator already:"
   ]
  },
  {
   "cell_type": "code",
   "execution_count": null,
   "metadata": {},
   "outputs": [],
   "source": [
    "list_iterator2 = iter(data)\n",
    "print(list_iterator2)\n",
    "print(dir(list_iterator2))\n",
    "for i in list_iterator2:\n",
    "    print(i)"
   ]
  },
  {
   "cell_type": "markdown",
   "metadata": {},
   "source": [
    "The built-in iterator is created by calling the `__iter__()` method on the container object (`iter()` simply does it for you):"
   ]
  },
  {
   "cell_type": "code",
   "execution_count": null,
   "metadata": {},
   "outputs": [],
   "source": [
    "list_iterator3 = data.__iter__()\n",
    "print(list_iterator3)\n",
    "for i in list_iterator3:\n",
    "    print(i)"
   ]
  },
  {
   "cell_type": "markdown",
   "metadata": {},
   "source": [
    "And the `for ... in ...` construct actually knows about the iterator protocol:"
   ]
  },
  {
   "cell_type": "code",
   "execution_count": null,
   "metadata": {},
   "outputs": [],
   "source": [
    "for i in data:\n",
    "    print(i)"
   ]
  },
  {
   "cell_type": "markdown",
   "metadata": {},
   "source": [
    "## List comprehension\n",
    "\n",
    "List comprehension is the construct `[... for ... in ...]`.  Python borrowed the syntax of list comprehension from other languages, e.g., Haskell, and it follows the iterator protocol.  It is very convenient.  For example, the above `for` loop can be replaced by a one-liner:"
   ]
  },
  {
   "cell_type": "code",
   "execution_count": null,
   "metadata": {},
   "outputs": [],
   "source": [
    "print(\"\\n\".join([str(i) for i in data]))"
   ]
  },
  {
   "cell_type": "markdown",
   "metadata": {},
   "source": [
    "## Generator"
   ]
  },
  {
   "cell_type": "code",
   "execution_count": null,
   "metadata": {},
   "outputs": [],
   "source": [
    "def list_generator(input_data):\n",
    "    for i in input_data:\n",
    "        yield i\n",
    "\n",
    "generator = list_generator(data)\n",
    "print(generator)\n",
    "print(dir(generator))\n",
    "for i in list_generator(data):\n",
    "    print(i)"
   ]
  },
  {
   "cell_type": "markdown",
   "metadata": {},
   "source": [
    "## Generator expression\n",
    "\n",
    "A more convenient way of creating a generator is to use the generator expression `(... for ... in ...)`.  Note this looks like the list comprehension `[... for ... in ...]`, but uses parentheses to replace the brackets."
   ]
  },
  {
   "cell_type": "code",
   "execution_count": null,
   "metadata": {},
   "outputs": [],
   "source": [
    "generator2 = (i for i in data)\n",
    "print(generator2)\n",
    "print(dir(generator2))\n",
    "for i in generator2:\n",
    "    print(i)"
   ]
  },
  {
   "cell_type": "markdown",
   "metadata": {},
   "source": [
    "By using the generator expression, the data printing one-liner can drop the brackets:"
   ]
  },
  {
   "cell_type": "code",
   "execution_count": null,
   "metadata": {},
   "outputs": [],
   "source": [
    "print(\"\\n\".join(str(i) for i in data))\n",
    "# Compare the the list comprehension:\n",
    "# print(\"\\n\".join( [ str(i) for i in data ] ))"
   ]
  },
  {
   "cell_type": "markdown",
   "metadata": {},
   "source": [
    "# Python stack frame\n",
    "\n",
    "(C)Python uses a stack-based interpreter.  We are allowed to peek all the previous stack frames:"
   ]
  },
  {
   "cell_type": "code",
   "execution_count": null,
   "metadata": {},
   "outputs": [],
   "source": [
    "import traceback\n",
    "\n",
    "traceback.print_stack()"
   ]
  },
  {
   "cell_type": "markdown",
   "metadata": {},
   "source": [
    "## `frame` object\n",
    "\n",
    "We can get the `frame` object of the current stack frame using [`inspect.currentframe()`](https://docs.python.org/3/library/inspect.html#inspect.currentframe):"
   ]
  },
  {
   "cell_type": "code",
   "execution_count": null,
   "metadata": {},
   "outputs": [],
   "source": [
    "import inspect\n",
    "\n",
    "f = inspect.currentframe()"
   ]
  },
  {
   "cell_type": "markdown",
   "metadata": {},
   "source": [
    "A `frame` object has the following attributes:\n",
    "\n",
    "* Namespace:\n",
    "  * `f_builtins`: builtin namespace seen by this frame\n",
    "  * `f_globals`: global namespace seen by this frame\n",
    "  * `f_locals`: local namespace seen by this frame\n",
    "* Other:\n",
    "  * `f_back`: next outer frame object (this frame's caller)\n",
    "  * `f_code`: code object being executed in this frame\n",
    "  * `f_lasti`: index of last attempted instruction in bytecode\n",
    "  * `f_lineno`: current line number in Python source code"
   ]
  },
  {
   "cell_type": "code",
   "execution_count": null,
   "metadata": {},
   "outputs": [],
   "source": [
    "print([k for k in dir(f) if not k.startswith('__')])"
   ]
  },
  {
   "cell_type": "markdown",
   "metadata": {},
   "source": [
    "We can learn many things about the frame in the object.  For example, we can take a look in the builtin namespace:"
   ]
  },
  {
   "cell_type": "code",
   "execution_count": null,
   "metadata": {},
   "outputs": [],
   "source": [
    "print(f.f_builtins.keys())"
   ]
  },
  {
   "cell_type": "markdown",
   "metadata": {},
   "source": [
    "A mysterious `code` object:"
   ]
  },
  {
   "cell_type": "code",
   "execution_count": null,
   "metadata": {},
   "outputs": [],
   "source": [
    "print(f.f_code)"
   ]
  },
  {
   "cell_type": "markdown",
   "metadata": {},
   "source": [
    "Because a `frame` object holds everything a construct uses, after finishing using the `frame` object, make sure to break the reference to it.  If we don't do it, it may take long time for the interpreter to break the reference for you."
   ]
  },
  {
   "cell_type": "code",
   "execution_count": null,
   "metadata": {},
   "outputs": [],
   "source": [
    "f.clear()\n",
    "del f"
   ]
  },
  {
   "cell_type": "code",
   "execution_count": null,
   "metadata": {},
   "outputs": [],
   "source": [
    "for it, fi in enumerate(inspect.stack()):\n",
    "    sys.stdout.write('frame #{}:\\n  {}\\n\\n'.format(it, fi))"
   ]
  },
  {
   "cell_type": "markdown",
   "metadata": {},
   "source": [
    "```python\n",
    "#!/usr/bin/env python3\n",
    "\n",
    "import sys\n",
    "import inspect\n",
    "\n",
    "def main():\n",
    "    for it, fi in enumerate(inspect.stack()):\n",
    "        sys.stdout.write('frame #{}:\\n  {}\\n\\n'.format(it, fi))\n",
    "\n",
    "if __name__ == '__main__':\n",
    "    main()\n",
    "```"
   ]
  },
  {
   "cell_type": "code",
   "execution_count": null,
   "metadata": {},
   "outputs": [],
   "source": [
    "!./showframe.py"
   ]
  },
  {
   "cell_type": "markdown",
   "metadata": {},
   "source": [
    "# Customizing module import with `sys.meta_path`\n",
    "\n",
    "Python [`importlib`](https://docs.python.org/3/library/importlib.html) allows high degree of freedom in customizing module import flow.  Here I will use an example to load a module, `onemod`, locating in an alternate directory, `altdir/`, and ask Python to load it from the non-standard location."
   ]
  },
  {
   "cell_type": "code",
   "execution_count": null,
   "metadata": {},
   "outputs": [],
   "source": [
    "# Bookkeeping code: keep the original meta_path.\n",
    "old_meta_path = sys.meta_path[:]\n",
    "#sys.meta_path = old_meta_path[:-1]"
   ]
  },
  {
   "cell_type": "markdown",
   "metadata": {},
   "source": [
    "`importlib` provides many facilities.  The theme in this example is [`sys.meta_path`](https://docs.python.org/3/library/sys.html#sys.meta_path).  It defines a list of ['MetaPathFinder'](https://docs.python.org/3/library/importlib.html#importlib.abc.MetaPathFinder) objects for customizing the import process."
   ]
  },
  {
   "cell_type": "code",
   "execution_count": null,
   "metadata": {},
   "outputs": [],
   "source": [
    "sys.meta_path = old_meta_path\n",
    "print(sys.meta_path)"
   ]
  },
  {
   "cell_type": "markdown",
   "metadata": {},
   "source": [
    "At this point, the `onemod` cannot be imported, because `altdir/` is not in `sys.path`:"
   ]
  },
  {
   "cell_type": "code",
   "execution_count": null,
   "metadata": {},
   "outputs": [],
   "source": [
    "try:\n",
    "    import onemod\n",
    "except ModuleNotFoundError as e:\n",
    "    traceback.print_exc()"
   ]
  },
  {
   "cell_type": "markdown",
   "metadata": {},
   "source": [
    "In a normal Python course, you will be asked to modify `sys.path` to include `altdir/` for correctly import `onemod`.  That is uninteresting, so we will use `MetaPathFinder`.  Here we subclass the abstract base class (ABC) and override the `find_spec()` method, to tell it to load the `onemod` module at the place we specify.\n",
    "\n",
    "For our path finder to work, we need to properly set up a [`ModuleSpec`](https://docs.python.org/3/library/importlib.html#importlib.machinery.ModuleSpec), and create a [`SourceFileLoader`](https://docs.python.org/3/library/importlib.html#importlib.machinery.SourceFileLoader) object for it."
   ]
  },
  {
   "cell_type": "code",
   "execution_count": null,
   "metadata": {},
   "outputs": [],
   "source": [
    "import importlib.abc\n",
    "import importlib.machinery\n",
    "\n",
    "class MyMetaPathFinder(importlib.abc.MetaPathFinder):\n",
    "    def find_spec(self, fullname, path, target=None):\n",
    "        if fullname == 'onemod':\n",
    "            print('DEBUG: fullname: {} , path: {} , target: {}'.format(fullname, path, target))\n",
    "            fpath = os.path.abspath('altdir/onemod.py')\n",
    "            loader = importlib.machinery.SourceFileLoader('onemod', fpath)\n",
    "            return importlib.machinery.ModuleSpec(fullname, loader, origin=fpath)\n",
    "        else:\n",
    "            return None\n",
    "\n",
    "sys.meta_path = old_meta_path + [MyMetaPathFinder()]\n",
    "print(sys.meta_path)"
   ]
  },
  {
   "cell_type": "markdown",
   "metadata": {},
   "source": [
    "It only deals with `onemod`.  To test it, ask it to load a module that does not exist:"
   ]
  },
  {
   "cell_type": "code",
   "execution_count": null,
   "metadata": {},
   "outputs": [],
   "source": [
    "try:\n",
    "    import one_non_existing_module\n",
    "except ModuleNotFoundError as e:\n",
    "    traceback.print_exc()"
   ]
  },
  {
   "cell_type": "markdown",
   "metadata": {
    "slideshow": {
     "slide_type": "subslide"
    }
   },
   "source": [
    "But after the meta path finder is inserted into meta path, `onemod` can be loaded:"
   ]
  },
  {
   "cell_type": "code",
   "execution_count": null,
   "metadata": {},
   "outputs": [],
   "source": [
    "import onemod\n",
    "print(\"show content in onemod module:\", onemod.content)"
   ]
  },
  {
   "cell_type": "markdown",
   "metadata": {},
   "source": [
    "See the module we loaded.  Compare it with a 'normal module'."
   ]
  },
  {
   "cell_type": "code",
   "execution_count": null,
   "metadata": {},
   "outputs": [],
   "source": [
    "import re\n",
    "print('onemod:', onemod)\n",
    "print('re:', re)"
   ]
  },
  {
   "cell_type": "markdown",
   "metadata": {},
   "source": [
    "And the module objects have an important field `__spec__`, which is the `ModuleSpec` we created:"
   ]
  },
  {
   "cell_type": "code",
   "execution_count": null,
   "metadata": {},
   "outputs": [],
   "source": [
    "print('onemod.__spec__:', onemod.__spec__)\n",
    "print('re.__spec__:', re.__spec__)"
   ]
  },
  {
   "cell_type": "code",
   "execution_count": null,
   "metadata": {},
   "outputs": [],
   "source": [
    "# Bookkeeping code.\n",
    "sys.modules.pop('onemod', None)"
   ]
  },
  {
   "cell_type": "markdown",
   "metadata": {},
   "source": [
    "# Descriptor\n",
    "\n",
    "The [descriptor protocol](https://docs.python.org/3/howto/descriptor.html) allows us to route attribute access to anywhere outside the class."
   ]
  },
  {
   "cell_type": "code",
   "execution_count": null,
   "metadata": {},
   "outputs": [],
   "source": [
    "class ClsAccessor:\n",
    "    \"\"\"Routing access to all instance attributes to the descriptor object.\"\"\"\n",
    "\n",
    "    def __init__(self, name):\n",
    "        self._name = name\n",
    "        self._val = None\n",
    "\n",
    "    def __get__(self, obj, objtype):\n",
    "        print('On object {} , retrieve: {}'.format(obj, self._name))\n",
    "        return self._val\n",
    "\n",
    "    def __set__(self, obj, val):\n",
    "        print('On object {} , update: {}'.format(obj, self._name))\n",
    "        self._val = val\n",
    "\n",
    "class MyClass:\n",
    "    x = ClsAccessor('x')\n",
    "\n",
    "o = MyClass()"
   ]
  },
  {
   "cell_type": "markdown",
   "metadata": {},
   "source": [
    "See the message printed while getting the attribute 'x':"
   ]
  },
  {
   "cell_type": "code",
   "execution_count": null,
   "metadata": {},
   "outputs": [],
   "source": [
    "print(o.x)"
   ]
  },
  {
   "cell_type": "markdown",
   "metadata": {},
   "source": [
    "Setting the attribute also shows a message:"
   ]
  },
  {
   "cell_type": "code",
   "execution_count": null,
   "metadata": {},
   "outputs": [],
   "source": [
    "o.x = 10\n",
    "print(o.x)"
   ]
  },
  {
   "cell_type": "markdown",
   "metadata": {},
   "source": [
    "Because the attribute value is kept in the descriptor, and the descriptor is kept in the 'class' object, attributes of all instances of `MyClass` share the same value."
   ]
  },
  {
   "cell_type": "code",
   "execution_count": null,
   "metadata": {},
   "outputs": [],
   "source": [
    "o2 = MyClass()\n",
    "print(o2.x) # Not None!"
   ]
  },
  {
   "cell_type": "markdown",
   "metadata": {},
   "source": [
    "## Keep data on the instance\n",
    "\n",
    "Having all instances sharing the attribute value isn't always desirable.  Descriptor protocol allows to bind the values to the instance too."
   ]
  },
  {
   "cell_type": "code",
   "execution_count": null,
   "metadata": {},
   "outputs": [],
   "source": [
    "class InsAccessor:\n",
    "    \"\"\"Routing access to all instance attributes to alternate names on the instance.\"\"\"\n",
    "\n",
    "    def __init__(self, name):\n",
    "        self._name = name\n",
    "\n",
    "    def __get__(self, obj, objtype):\n",
    "        print('On object {} , retrieve: {}'.format(obj, self._name))\n",
    "        varname = '_acs' + self._name\n",
    "        if not hasattr(obj, varname):\n",
    "            setattr(obj, varname, None)\n",
    "        return getattr(obj, varname)\n",
    "\n",
    "    def __set__(self, obj, val):\n",
    "        print('On object {} , update: {}'.format(obj, self._name))\n",
    "        varname = '_acs' + self._name\n",
    "        return setattr(obj, varname, val)\n",
    "\n",
    "class MyClass2:\n",
    "    x = InsAccessor('x')\n",
    "\n",
    "mo = MyClass2()"
   ]
  },
  {
   "cell_type": "markdown",
   "metadata": {},
   "source": [
    "Create an instance to test the descriptor."
   ]
  },
  {
   "cell_type": "code",
   "execution_count": null,
   "metadata": {},
   "outputs": [],
   "source": [
    "print(mo.x)"
   ]
  },
  {
   "cell_type": "code",
   "execution_count": null,
   "metadata": {},
   "outputs": [],
   "source": [
    "mo.x = 10\n",
    "print(mo.x)"
   ]
  },
  {
   "cell_type": "markdown",
   "metadata": {},
   "source": [
    "In a new instance, the value uses the initial value:"
   ]
  },
  {
   "cell_type": "code",
   "execution_count": null,
   "metadata": {},
   "outputs": [],
   "source": [
    "mo2 = MyClass2()\n",
    "print(mo2.x)"
   ]
  },
  {
   "cell_type": "markdown",
   "metadata": {},
   "source": [
    "# Metaclass\n",
    "\n",
    "Python class is also an object."
   ]
  },
  {
   "cell_type": "code",
   "execution_count": null,
   "metadata": {},
   "outputs": [],
   "source": [
    "class ClassIsObject:\n",
    "    pass\n",
    "\n",
    "print(ClassIsObject)\n",
    "print(ClassIsObject.__dict__)"
   ]
  },
  {
   "cell_type": "markdown",
   "metadata": {},
   "source": [
    "[Metaclass](https://docs.python.org/3/reference/datamodel.html#metaclasses) allows programmers to customize class creation."
   ]
  },
  {
   "cell_type": "code",
   "execution_count": null,
   "metadata": {},
   "outputs": [],
   "source": [
    "class AutoAccessor:\n",
    "    \"\"\"Routing access to all instance attributes to alternate names on the instance.\"\"\"\n",
    "\n",
    "    def __init__(self):\n",
    "        self.name = None\n",
    "\n",
    "    def __get__(self, obj, objtype):\n",
    "        print('On object {} , retrieve: {}'.format(obj, self.name))\n",
    "        varname = '_acs' + self.name\n",
    "        if not hasattr(obj, varname):\n",
    "            setattr(obj, varname, None)\n",
    "        return getattr(obj, varname)\n",
    "\n",
    "    def __set__(self, obj, val):\n",
    "        print('On object {} , update: {}'.format(obj, self.name))\n",
    "        varname = '_acs' + self.name\n",
    "        return setattr(obj, varname, val)\n",
    "\n",
    "class AutoAccessorMeta(type):\n",
    "\n",
    "    def __new__(cls, name, bases, namespace):\n",
    "\n",
    "        print('DEBUG before names:', name)\n",
    "        print('DEBUG before bases:', bases)\n",
    "        print('DEBUG before namespace:', namespace)\n",
    "\n",
    "        for k, v in namespace.items():\n",
    "            if isinstance(v, AutoAccessor):\n",
    "                v.name = k\n",
    "\n",
    "        # Create the class object for MyAutoClass.\n",
    "        newcls = super(AutoAccessorMeta, cls).__new__(cls, name, bases, namespace)\n",
    "\n",
    "        print('DEBUG after names:', name)\n",
    "        print('DEBUG after bases:', bases)\n",
    "        print('DEBUG after namespace:', namespace)\n",
    "\n",
    "        return newcls"
   ]
  },
  {
   "cell_type": "markdown",
   "metadata": {},
   "source": [
    "We will use the descriptor to test the metaclass.  The new descriptor class `AutoAccessor` doesn't take the attribute name in the constructor.  Instead, `AutoAccessorMeta` assigns the correct attribute name."
   ]
  },
  {
   "cell_type": "code",
   "execution_count": null,
   "metadata": {},
   "outputs": [],
   "source": [
    "class MyAutoClass(metaclass=AutoAccessorMeta):\n",
    "    x = AutoAccessor()  # Note: no name is given.\n",
    "\n",
    "ao = MyAutoClass()"
   ]
  },
  {
   "cell_type": "code",
   "execution_count": null,
   "metadata": {},
   "outputs": [],
   "source": [
    "print(ao.x)"
   ]
  },
  {
   "cell_type": "code",
   "execution_count": null,
   "metadata": {},
   "outputs": [],
   "source": [
    "ao.x = 20\n",
    "print(ao.x)"
   ]
  }
 ],
 "metadata": {
  "kernelspec": {
   "display_name": "Python 3",
   "language": "python",
   "name": "python3"
  },
  "language_info": {
   "codemirror_mode": {
    "name": "ipython",
    "version": 3
   },
   "file_extension": ".py",
   "mimetype": "text/x-python",
   "name": "python",
   "nbconvert_exporter": "python",
   "pygments_lexer": "ipython3",
   "version": "3.7.4+"
  }
 },
 "nbformat": 4,
 "nbformat_minor": 2
}
