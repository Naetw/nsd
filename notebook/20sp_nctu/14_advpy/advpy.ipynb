{
 "cells": [
  {
   "cell_type": "markdown",
   "metadata": {},
   "source": [
    "# Advanced Python\n",
    "\n",
    "1. Iterator\n",
    "   1. List comprehension\n",
    "   2. Generator\n",
    "   3. Generator expression\n",
    "2. Stack frame and import mechanism\n",
    "3. Descriptor and meta class\n",
    "4. Type introspection and abstract base class (abc)"
   ]
  },
  {
   "cell_type": "code",
   "execution_count": null,
   "metadata": {},
   "outputs": [],
   "source": [
    "import pprint"
   ]
  },
  {
   "cell_type": "markdown",
   "metadata": {},
   "source": [
    "# Iterator\n",
    "\n",
    "While processing data in memory, they are iterated one by one.  Assume we have 10 elements in a list."
   ]
  },
  {
   "cell_type": "code",
   "execution_count": null,
   "metadata": {},
   "outputs": [],
   "source": [
    "data = list(range(10))\n",
    "print(data, type(data))"
   ]
  },
  {
   "cell_type": "markdown",
   "metadata": {},
   "source": [
    "Python uses the [iterator protocol](https://docs.python.org/3/library/stdtypes.html#iterator-types) to get one element a time:"
   ]
  },
  {
   "cell_type": "code",
   "execution_count": null,
   "metadata": {},
   "outputs": [],
   "source": [
    "class ListIterator:\n",
    "\n",
    "    def __init__(self, data):\n",
    "        self.data = data\n",
    "        self.it = None\n",
    "\n",
    "    def __iter__(self):\n",
    "        return self\n",
    "\n",
    "    def __next__(self):\n",
    "        if None is self.it:\n",
    "            self.it = 0\n",
    "        elif self.it >= len(self.data)-1:\n",
    "            raise StopIteration\n",
    "        else:\n",
    "            self.it += 1\n",
    "        return self.data[self.it]"
   ]
  },
  {
   "cell_type": "markdown",
   "metadata": {},
   "source": [
    "The `for ... in ...` construct applies to the iterator object.  Every time the construct needs the next element, `ListIterator.__next__()` is called:"
   ]
  },
  {
   "cell_type": "code",
   "execution_count": null,
   "metadata": {},
   "outputs": [],
   "source": [
    "list_iterator = ListIterator(data)\n",
    "print(list_iterator)\n",
    "print(dir(list_iterator))\n",
    "for i in list_iterator:\n",
    "    print(i)"
   ]
  },
  {
   "cell_type": "markdown",
   "metadata": {},
   "source": [
    "Of course, you don't really need to write your own `ListIterator` for iterating a list, because Python builds in an iterator already:"
   ]
  },
  {
   "cell_type": "code",
   "execution_count": null,
   "metadata": {},
   "outputs": [],
   "source": [
    "list_iterator2 = iter(data)\n",
    "print(list_iterator2)\n",
    "print(dir(list_iterator2))\n",
    "for i in list_iterator2:\n",
    "    print(i)"
   ]
  },
  {
   "cell_type": "markdown",
   "metadata": {},
   "source": [
    "The built-in iterator is created by calling the `__iter__()` method on the container object (`iter()` simply does it for you):"
   ]
  },
  {
   "cell_type": "code",
   "execution_count": null,
   "metadata": {},
   "outputs": [],
   "source": [
    "list_iterator3 = data.__iter__()\n",
    "print(list_iterator3)\n",
    "for i in list_iterator3:\n",
    "    print(i)"
   ]
  },
  {
   "cell_type": "markdown",
   "metadata": {},
   "source": [
    "And the `for ... in ...` construct actually knows about the iterator protocol:"
   ]
  },
  {
   "cell_type": "code",
   "execution_count": null,
   "metadata": {},
   "outputs": [],
   "source": [
    "for i in data:\n",
    "    print(i)"
   ]
  },
  {
   "cell_type": "markdown",
   "metadata": {},
   "source": [
    "## List comprehension\n",
    "\n",
    "List comprehension is the construct `[... for ... in ...]`.  Python borrowed the syntax of list comprehension from other languages, e.g., Haskell, and it follows the iterator protocol.  It is very convenient.  For example, the above `for` loop can be replaced by a one-liner:"
   ]
  },
  {
   "cell_type": "code",
   "execution_count": null,
   "metadata": {},
   "outputs": [],
   "source": [
    "print(\"\\n\".join([str(i) for i in data]))"
   ]
  },
  {
   "cell_type": "markdown",
   "metadata": {},
   "source": [
    "## Generator"
   ]
  },
  {
   "cell_type": "code",
   "execution_count": null,
   "metadata": {},
   "outputs": [],
   "source": [
    "def list_generator(input_data):\n",
    "    for i in input_data:\n",
    "        yield i\n",
    "\n",
    "generator = list_generator(data)\n",
    "print(generator)\n",
    "print(dir(generator))\n",
    "for i in list_generator(data):\n",
    "    print(i)"
   ]
  },
  {
   "cell_type": "markdown",
   "metadata": {},
   "source": [
    "## Generator expression\n",
    "\n",
    "A more convenient way of creating a generator is to use the generator expression `(... for ... in ...)`.  Note this looks like the list comprehension `[... for ... in ...]`, but uses parentheses to replace the brackets."
   ]
  },
  {
   "cell_type": "code",
   "execution_count": null,
   "metadata": {},
   "outputs": [],
   "source": [
    "generator2 = (i for i in data)\n",
    "print(generator2)\n",
    "print(dir(generator2))\n",
    "for i in generator2:\n",
    "    print(i)"
   ]
  },
  {
   "cell_type": "markdown",
   "metadata": {},
   "source": [
    "By using the generator expression, the data printing one-liner can drop the brackets:"
   ]
  },
  {
   "cell_type": "code",
   "execution_count": null,
   "metadata": {},
   "outputs": [],
   "source": [
    "print(\"\\n\".join(str(i) for i in data))\n",
    "# Compare the the list comprehension:\n",
    "# print(\"\\n\".join( [ str(i) for i in data ] ))"
   ]
  }
 ],
 "metadata": {
  "kernelspec": {
   "display_name": "Python 3",
   "language": "python",
   "name": "python3"
  },
  "language_info": {
   "codemirror_mode": {
    "name": "ipython",
    "version": 3
   },
   "file_extension": ".py",
   "mimetype": "text/x-python",
   "name": "python",
   "nbconvert_exporter": "python",
   "pygments_lexer": "ipython3",
   "version": "3.7.4+"
  }
 },
 "nbformat": 4,
 "nbformat_minor": 2
}
