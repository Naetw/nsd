{
 "cells": [
  {
   "cell_type": "markdown",
   "metadata": {},
   "source": [
    "# array-oriented design\n",
    "\n",
    "1. Design interface with arrays\n",
    "2. Conversion between dynamic and static semantics\n",
    "3. Insert profiling code"
   ]
  },
  {
   "cell_type": "markdown",
   "metadata": {},
   "source": [
    "# Design interface with arrays\n",
    "\n",
    "There are multiple ways to access arrays in C++, from Python.  But no matter what approach is used, we must be careful about the object (memory) ownership.  There are some guidelines:\n",
    "\n",
    "* Use arrays when the data need to go to Python.\n",
    "* Create ndarray from a pointer to a buffer.\n",
    "* C++ constness.  Python doesn't have the concept of constness (Python has mutability).\n",
    "  * Ndarray is mutable.  Returning a buffer as ndarray from a const C++ object violates the constness and it may make the data inconsistent.\n",
    "  * Returning a copy of the buffer preserves the constness, but incurs overhead.\n",
    "* Prefer structure of arrays to array of structure."
   ]
  },
  {
   "cell_type": "markdown",
   "metadata": {},
   "source": [
    "## Struct of array and array of struct\n",
    "\n",
    "```cpp\n",
    "struct StructOfArray\n",
    "{\n",
    "    std::vector<double> x;\n",
    "    std::vector<double> y;\n",
    "};\n",
    "\n",
    "struct PointProxy\n",
    "{\n",
    "    StructOfArray * soa;\n",
    "    size_t idx;\n",
    "    double   x() const { return soa.x[idx]; }\n",
    "    double & x()       { return soa.x[idx]; }\n",
    "    double   y() const { return soa.y[idx]; }\n",
    "    double & y()       { return soa.y[idx]; }\n",
    "};\n",
    "\n",
    "/*\n",
    " * Array of struct:\n",
    " */\n",
    "struct Point\n",
    "{\n",
    "    double x, y;\n",
    "};\n",
    "\n",
    "using ArrayOfStruct = std::vector<Point>;\n",
    "```"
   ]
  },
  {
   "cell_type": "markdown",
   "metadata": {},
   "source": [
    "# Conversion between dynamic and static semantics"
   ]
  },
  {
   "cell_type": "markdown",
   "metadata": {},
   "source": [
    "## Do it your self\n",
    "\n",
    "It's not a bad idea to do it manually.  Spelling the static to dynamic conversion makes it clear what do we want to do.  When we work in the inner-most loop, no `PyObject` or virtual function table should be there.\n",
    "\n",
    "```cpp\n",
    "template <size_t ND>\n",
    "class SpaceBase\n",
    "{\n",
    "public:\n",
    "    static constexpr const size_t NDIM = ND;\n",
    "    using serial_type = uint32_t;\n",
    "    using real_type = double;\n",
    "}; /* end class SpaceBase */\n",
    "\n",
    "class StaticGrid1d\n",
    "  : public StaticGridBase<1>\n",
    "{\n",
    "}; /* end class StaticGrid1d */\n",
    "\n",
    "class StaticGrid2d\n",
    "  : public StaticGridBase<2>\n",
    "{\n",
    "}; /* end class StaticGrid2d */\n",
    "\n",
    "class StaticGrid3d\n",
    "  : public StaticGridBase<3>\n",
    "{\n",
    "}; /* end class StaticGrid3d */\n",
    "\n",
    "/*\n",
    " * WrapStaticGridBase has the pybind11 wrapping code.\n",
    " */\n",
    "\n",
    "class WrapStaticGrid1d\n",
    "  : public WrapStaticGridBase< WrapStaticGrid1d, StaticGrid1d >\n",
    "{\n",
    "}; /* end class WrapStaticGrid1d */\n",
    "\n",
    "class WrapStaticGrid2d\n",
    "  : public WrapStaticGridBase< WrapStaticGrid2d, StaticGrid2d >\n",
    "{\n",
    "}; /* end class WrapStaticGrid2d */\n",
    "\n",
    "class WrapStaticGrid3d\n",
    "  : public WrapStaticGridBase< WrapStaticGrid3d, StaticGrid3d >\n",
    "{\n",
    "}; /* end class WrapStaticGrid3d */\n",
    "\n",
    "PYBIND11_MODULE(_modmesh, mod)\n",
    "{\n",
    "    WrapStaticGrid1d::commit(mod);\n",
    "    WrapStaticGrid2d::commit(mod);\n",
    "    WrapStaticGrid3d::commit(mod);\n",
    "}\n",
    "```"
   ]
  },
  {
   "cell_type": "markdown",
   "metadata": {},
   "source": [
    "## Example: `pybind11::cppfunction`\n",
    "\n",
    "### `pybind11::cppfunction`\n",
    "\n",
    "https://github.com/pybind/pybind11/blob/v2.4.3/include/pybind11/pybind11.h#L56\n",
    "\n",
    "```cpp\n",
    "/// Wraps an arbitrary C++ function/method/lambda function/.. into a callable Python object\n",
    "class cpp_function : public function {\n",
    "public:\n",
    "    cpp_function() { }\n",
    "    cpp_function(std::nullptr_t) { }\n",
    "\n",
    "    /// Construct a cpp_function from a vanilla function pointer\n",
    "    template <typename Return, typename... Args, typename... Extra>\n",
    "    cpp_function(Return (*f)(Args...), const Extra&... extra) {\n",
    "        initialize(f, f, extra...);\n",
    "    }\n",
    "\n",
    "    /// Construct a cpp_function from a lambda function (possibly with internal state)\n",
    "    template <typename Func, typename... Extra,\n",
    "              typename = detail::enable_if_t<detail::is_lambda<Func>::value>>\n",
    "    cpp_function(Func &&f, const Extra&... extra) {\n",
    "        initialize(std::forward<Func>(f),\n",
    "                   (detail::function_signature_t<Func> *) nullptr, extra...);\n",
    "    }\n",
    "\n",
    "    /// Construct a cpp_function from a class method (non-const)\n",
    "    template <typename Return, typename Class, typename... Arg, typename... Extra>\n",
    "    cpp_function(Return (Class::*f)(Arg...), const Extra&... extra) {\n",
    "        initialize([f](Class *c, Arg... args) -> Return { return (c->*f)(args...); },\n",
    "                   (Return (*) (Class *, Arg...)) nullptr, extra...);\n",
    "    }\n",
    "\n",
    "    /// Construct a cpp_function from a class method (const)\n",
    "    template <typename Return, typename Class, typename... Arg, typename... Extra>\n",
    "    cpp_function(Return (Class::*f)(Arg...) const, const Extra&... extra) {\n",
    "        initialize([f](const Class *c, Arg... args) -> Return { return (c->*f)(args...); },\n",
    "                   (Return (*)(const Class *, Arg ...)) nullptr, extra...);\n",
    "    }\n",
    "\n",
    "// ...\n",
    "```\n",
    "\n",
    "### `pybind11::cppfunction::initialize`\n",
    "\n",
    "https://github.com/pybind/pybind11/blob/v2.4.3/include/pybind11/pybind11.h#L98\n",
    "\n",
    "```cpp\n",
    "/// Special internal constructor for functors, lambda functions, etc.\n",
    "template <typename Func, typename Return, typename... Args, typename... Extra>\n",
    "void initialize(Func &&f, Return (*)(Args...), const Extra&... extra) {\n",
    "// ...\n",
    "```\n",
    "\n",
    "### `pybind11::cppfunction::dispatch`\n",
    "\n",
    "https://github.com/pybind/pybind11/blob/v2.4.3/include/pybind11/pybind11.h#L423\n",
    "\n",
    "```cpp\n",
    "static PyObject *dispatcher(PyObject *self, PyObject *args_in, PyObject *kwargs_in) {\n",
    "// ...\n",
    "```"
   ]
  },
  {
   "cell_type": "markdown",
   "metadata": {},
   "source": [
    "# Insert profiling code\n",
    "\n",
    "In addition to using OS-provided profiling tools, e.g., Linux's perf and Macos's Instruments, we should also add a custom profiling layer in the code.  You may need to port your code to a platform that doens't have very good system profiler.  Your custom profiler will become the safety net."
   ]
  },
  {
   "cell_type": "markdown",
   "metadata": {},
   "source": [
    "```cpp\n",
    "/*\n",
    " * MODMESH_PROFILE defined: Enable profiling API.\n",
    " */\n",
    "#ifdef MODMESH_PROFILE\n",
    "\n",
    "#define MODMESH_TIME(NAME) \\\n",
    "    ScopedTimer local_scoped_timer_ ## __LINE__(NAME);\n",
    "\n",
    "/*\n",
    " * No MODMESH_PROFILE defined: Disable profiling API.\n",
    " */\n",
    "#else // MODMESH_PROFILE\n",
    "\n",
    "#define MODMESH_TIME(NAME)\n",
    "\n",
    "#endif // MODMESH_PROFILE\n",
    "/*\n",
    " * End MODMESH_PROFILE.\n",
    " */\n",
    "\n",
    "struct ScopedTimer\n",
    "{\n",
    "\n",
    "    ScopedTimer() = delete;\n",
    "\n",
    "    ScopedTimer(const char * name) : m_name(name) {}\n",
    "\n",
    "    ~ScopedTimer()\n",
    "    {\n",
    "        TimeRegistry::me().add(m_name, m_sw.lap());\n",
    "    }\n",
    "\n",
    "    StopWatch m_sw;\n",
    "    char const * m_name;\n",
    "\n",
    "}; /* end struct ScopedTimer */\n",
    "\n",
    "// Manually\n",
    "void StaticGrid1d::fill(StaticGrid1d::real_type val)\n",
    "{\n",
    "    MODMESH_TIME(\"StaticGrid1d::fill\");\n",
    "    std::fill(m_coord.get(), m_coord.get()+m_nx, val);\n",
    "}\n",
    "```"
   ]
  },
  {
   "cell_type": "markdown",
   "metadata": {},
   "source": [
    "## Profiler turned off"
   ]
  },
  {
   "cell_type": "code",
   "execution_count": null,
   "metadata": {},
   "outputs": [],
   "source": [
    "!rm -rf modmesh/build ; make -C modmesh buildext"
   ]
  },
  {
   "cell_type": "code",
   "execution_count": null,
   "metadata": {},
   "outputs": [],
   "source": [
    "!./fill.py"
   ]
  },
  {
   "cell_type": "markdown",
   "metadata": {},
   "source": [
    "## Profiler turned on"
   ]
  },
  {
   "cell_type": "code",
   "execution_count": null,
   "metadata": {},
   "outputs": [],
   "source": [
    "!touch modmesh/Makefile ; make -C modmesh buildext MODMESH_PROFILE=ON"
   ]
  },
  {
   "cell_type": "code",
   "execution_count": null,
   "metadata": {},
   "outputs": [],
   "source": [
    "!./fill.py"
   ]
  },
  {
   "cell_type": "markdown",
   "metadata": {},
   "source": [
    "# References\n",
    "\n",
    "1. https://github.com/yse/easy_profiler\n",
    "2. http://www.brofiler.com"
   ]
  }
 ],
 "metadata": {
  "kernelspec": {
   "display_name": "Python 3",
   "language": "python",
   "name": "python3"
  },
  "language_info": {
   "codemirror_mode": {
    "name": "ipython",
    "version": 3
   },
   "file_extension": ".py",
   "mimetype": "text/x-python",
   "name": "python",
   "nbconvert_exporter": "python",
   "pygments_lexer": "ipython3",
   "version": "3.7.4+"
  }
 },
 "nbformat": 4,
 "nbformat_minor": 2
}
