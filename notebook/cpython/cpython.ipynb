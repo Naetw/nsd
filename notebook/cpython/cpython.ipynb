{
 "cells": [
  {
   "cell_type": "code",
   "execution_count": 1,
   "metadata": {},
   "outputs": [
    {
     "data": {
      "application/javascript": [
       "\n",
       "    require(['notebook/js/codecell'], function(cc) {\n",
       "        cc.CodeCell.options_default.highlight_modes['magic_text/x-c++src'] =\n",
       "            {reg: [/^\\s*%%pybind11/]};\n",
       "    });\n",
       "    "
      ]
     },
     "metadata": {},
     "output_type": "display_data"
    },
    {
     "data": {
      "text/html": [
       "\n",
       "    <style>\n",
       "    .cm-s-ipython span.cm-variable-3 {\n",
       "        color: #208ffb;\n",
       "        font-weight: bold;\n",
       "    }\n",
       "    </style>\n",
       "    "
      ]
     },
     "metadata": {},
     "output_type": "display_data"
    }
   ],
   "source": [
    "%load_ext ipybind\n",
    "\n",
    "import sys"
   ]
  },
  {
   "cell_type": "markdown",
   "metadata": {},
   "source": [
    "# cpython API: operate Python from C\n",
    "\n",
    "1. Use cpython API with pybind11\n",
    "2. `PyObject` reference counting\n",
    "3. Built-in types\n",
    "   1. Cached value\n",
    "   2. Attribute access\n",
    "   3. Function call\n",
    "   4. Tuple\n",
    "   5. Dictionary\n",
    "   6. List\n",
    "4. Useful operations\n",
    "   1. Import\n",
    "   2. Exception\n",
    "5. Python memory management\n",
    "   1. PyMem interface\n",
    "   2. Small memory optimization\n",
    "   3. Tracemalloc"
   ]
  },
  {
   "cell_type": "markdown",
   "metadata": {},
   "source": [
    "# Use cpython API with pybind11"
   ]
  },
  {
   "cell_type": "code",
   "execution_count": 2,
   "metadata": {},
   "outputs": [],
   "source": [
    "%%pybind11 -c=\"-O3\"\n",
    "\n",
    "#include \"pybind11/pybind11.h\"\n",
    "#include \"Python.h\" // Unnecessary\n",
    "\n",
    "using namespace pybind11;\n",
    "\n",
    "PYBIND11_MODULE(ex_long, m)\n",
    "{\n",
    "    PyObject * v = PyLong_FromLong(2000000);\n",
    "    m.attr(\"integer_value\") = v;\n",
    "    Py_DECREF(v);\n",
    "}"
   ]
  },
  {
   "cell_type": "code",
   "execution_count": 3,
   "metadata": {},
   "outputs": [
    {
     "name": "stdout",
     "output_type": "stream",
     "text": [
      "<class 'int'> 2000000\n"
     ]
    }
   ],
   "source": [
    "print(type(integer_value), integer_value)"
   ]
  },
  {
   "cell_type": "markdown",
   "metadata": {},
   "source": [
    "We can use any Python C API with pybind11.\n",
    "\n",
    "When we import `pybind11/pybind11.h`, we don't need to import `Python.h`, becuase the former does it for us.  But please note that `pybind11/pybind11.h` or `Python.h` should be included before every other inclusion."
   ]
  },
  {
   "cell_type": "markdown",
   "metadata": {},
   "source": [
    "# `PyObject` reference counting"
   ]
  },
  {
   "cell_type": "code",
   "execution_count": 4,
   "metadata": {},
   "outputs": [],
   "source": [
    "%%pybind11 -c=\"-O3\"\n",
    "\n",
    "#include \"pybind11/pybind11.h\"\n",
    "\n",
    "using namespace pybind11;\n",
    "\n",
    "static PyObject * s;\n",
    "\n",
    "PYBIND11_MODULE(ex_str, m)\n",
    "{\n",
    "    s = PyUnicode_FromString(\"string_from_c\");\n",
    "    m.attr(\"string_value\") = s;\n",
    "    Py_DECREF(s);\n",
    "    m\n",
    "        .def\n",
    "        (\n",
    "            \"show_ref_count_with_handle\"\n",
    "          , [](handle const & h)\n",
    "            {\n",
    "                return Py_REFCNT(h.ptr());\n",
    "            }\n",
    "        )\n",
    "        .def\n",
    "        (\n",
    "            \"show_ref_count_with_object\"\n",
    "          , [](object const & o)\n",
    "            {\n",
    "                return Py_REFCNT(o.ptr());\n",
    "            }\n",
    "        )\n",
    "        .def\n",
    "        (\n",
    "            \"show_string_value_ref_count\"\n",
    "          , [&]()\n",
    "            {\n",
    "                return Py_REFCNT(s);\n",
    "            }\n",
    "        )\n",
    "    ;\n",
    "}"
   ]
  },
  {
   "cell_type": "code",
   "execution_count": 5,
   "metadata": {},
   "outputs": [
    {
     "name": "stdout",
     "output_type": "stream",
     "text": [
      "<class 'str'> string_from_c\n",
      "before aliasing\n",
      "7 refcnt by object\n",
      "6 refcnt by handle\n",
      "5 refcnt by sys\n",
      "4 refcnt from c++\n",
      "after aliasing\n",
      "8 refcnt by object\n",
      "7 refcnt by handle\n",
      "6 refcnt by sys\n",
      "5 refcnt from c++\n"
     ]
    }
   ],
   "source": [
    "def check_string_value():\n",
    "    print(type(string_value), string_value)\n",
    "    print('before aliasing')\n",
    "    print(show_ref_count_with_object(string_value), 'refcnt by object')\n",
    "    print(show_ref_count_with_handle(string_value), 'refcnt by handle')\n",
    "    print(sys.getrefcount(string_value), 'refcnt by sys')\n",
    "    print(show_string_value_ref_count(), 'refcnt from c++')\n",
    "    string_value_aliasing = string_value\n",
    "    print('after aliasing')\n",
    "    print(show_ref_count_with_object(string_value), 'refcnt by object')\n",
    "    print(show_ref_count_with_handle(string_value), 'refcnt by handle')\n",
    "    print(sys.getrefcount(string_value), 'refcnt by sys')\n",
    "    print(show_string_value_ref_count(), 'refcnt from c++')\n",
    "check_string_value()"
   ]
  },
  {
   "cell_type": "markdown",
   "metadata": {},
   "source": [
    "Pybind11 offers two low-level shorthands for reference counting: `handle::inc_ref()` and `handle::dec_ref()`.  If we don't want to go so low-level, it provides `reinterpret_borrow` and `reinterpret_steal` function templates."
   ]
  },
  {
   "cell_type": "markdown",
   "metadata": {},
   "source": [
    "# Built-in types"
   ]
  },
  {
   "cell_type": "markdown",
   "metadata": {},
   "source": [
    "## Cached value\n",
    "\n",
    "Python caches small (-5 to 256) integers: https://github.com/python/cpython/blob/4830f581af57dd305c02c1fd72299ecb5b090eca/Objects/longobject.c#L40 .  Don't get surprised when you see a large reference count for some of them integers:"
   ]
  },
  {
   "cell_type": "code",
   "execution_count": 6,
   "metadata": {},
   "outputs": [
    {
     "name": "stdout",
     "output_type": "stream",
     "text": [
      "ref counts of 0: 5783\n",
      "ref counts of 257: 3\n"
     ]
    }
   ],
   "source": [
    "print('ref counts of 0:', sys.getrefcount(0))\n",
    "print('ref counts of 257:', sys.getrefcount(257))"
   ]
  },
  {
   "cell_type": "markdown",
   "metadata": {},
   "source": [
    "Real number doesn't have that cache:"
   ]
  },
  {
   "cell_type": "code",
   "execution_count": 7,
   "metadata": {},
   "outputs": [
    {
     "name": "stdout",
     "output_type": "stream",
     "text": [
      "3\n"
     ]
    }
   ],
   "source": [
    "print(sys.getrefcount(0.0))"
   ]
  },
  {
   "cell_type": "markdown",
   "metadata": {},
   "source": [
    "Python interns strings consisting of alphanumerical and underscore characters."
   ]
  },
  {
   "cell_type": "code",
   "execution_count": 8,
   "metadata": {},
   "outputs": [
    {
     "name": "stdout",
     "output_type": "stream",
     "text": [
      "True\n",
      "3177\n"
     ]
    }
   ],
   "source": [
    "print('' is '')\n",
    "print(sys.getrefcount(''))"
   ]
  },
  {
   "cell_type": "code",
   "execution_count": 9,
   "metadata": {},
   "outputs": [
    {
     "name": "stdout",
     "output_type": "stream",
     "text": [
      "4\n",
      "True\n",
      "True\n",
      "5\n"
     ]
    }
   ],
   "source": [
    "def check_string_intern():\n",
    "    s1 = 'numerical'\n",
    "    print(sys.getrefcount('numerical'))\n",
    "    print(s1 is 'numerical')\n",
    "    s2 = 'num' + 'erical'\n",
    "    print(s1 is s2)\n",
    "    print(sys.getrefcount('numerical'))\n",
    "check_string_intern()"
   ]
  },
  {
   "cell_type": "markdown",
   "metadata": {},
   "source": [
    "## Attribute access\n",
    "\n",
    "The Python object protocol defines a set of API for accessing object attributes.  Here is a simple example that sets and gets an attribute of an object using the API:\n",
    "\n",
    "```cpp\n",
    "int PyObject_SetAttr(PyObject *o, PyObject *attr_name, PyObject *v)\n",
    "PyObject* PyObject_GetAttr(PyObject *o, PyObject *attr_name)\n",
    "```"
   ]
  },
  {
   "cell_type": "code",
   "execution_count": 10,
   "metadata": {},
   "outputs": [],
   "source": [
    "%%pybind11 -c=\"-O3\"\n",
    "\n",
    "#include \"pybind11/pybind11.h\"\n",
    "\n",
    "using namespace pybind11;\n",
    "\n",
    "void attach_attr(PyObject * o, PyObject * name, PyObject * attr)\n",
    "{\n",
    "    /*int ret =*/\n",
    "    PyObject_SetAttr(o, name, attr);\n",
    "}\n",
    "\n",
    "PyObject * retrieve_attr(PyObject * o, PyObject * name)\n",
    "{\n",
    "    PyObject * ret = PyObject_GetAttr(o, name);\n",
    "    return ret;\n",
    "}\n",
    "\n",
    "PYBIND11_MODULE(ex_attr, m)\n",
    "{\n",
    "    m\n",
    "        .def\n",
    "        (\n",
    "            \"attach_attr\"\n",
    "          , [](object & o, object & name, object & attr)\n",
    "            {\n",
    "                attach_attr(o.ptr(), name.ptr(), attr.ptr());\n",
    "            }\n",
    "        )\n",
    "        .def\n",
    "        (\n",
    "            \"retrieve_attr\"\n",
    "          , [](object & o, object & name)\n",
    "            {\n",
    "                handle(retrieve_attr(o.ptr(), name.ptr()));\n",
    "            }\n",
    "        )\n",
    "    ;\n",
    "}"
   ]
  },
  {
   "cell_type": "code",
   "execution_count": 11,
   "metadata": {},
   "outputs": [
    {
     "name": "stdout",
     "output_type": "stream",
     "text": [
      "3\n",
      "4\n",
      "True\n",
      "4\n",
      "5\n"
     ]
    }
   ],
   "source": [
    "class Cls():\n",
    "    pass\n",
    "obj = Cls()\n",
    "val = 'attached value'\n",
    "print(sys.getrefcount(val))\n",
    "\n",
    "attach_attr(obj, 'name', val)\n",
    "print(sys.getrefcount(val))\n",
    "\n",
    "print(obj.name is val)\n",
    "print(sys.getrefcount(val))\n",
    "\n",
    "val2 = retrieve_attr(obj, 'name')\n",
    "print(sys.getrefcount(val))"
   ]
  },
  {
   "cell_type": "markdown",
   "metadata": {},
   "source": [
    "There are shorthand versions of the API that takes C string for the attribute name:"
   ]
  },
  {
   "cell_type": "code",
   "execution_count": 12,
   "metadata": {},
   "outputs": [],
   "source": [
    "%%pybind11 -c=\"-O3\"\n",
    "\n",
    "#include \"pybind11/pybind11.h\"\n",
    "\n",
    "#include <string>\n",
    "\n",
    "using namespace pybind11;\n",
    "\n",
    "void attach_attr(PyObject * o, char const * name, PyObject * attr)\n",
    "{\n",
    "    /*int ret =*/\n",
    "    PyObject_SetAttrString(o, name, attr);\n",
    "}\n",
    "\n",
    "PyObject * retrieve_attr(PyObject * o, char const * name)\n",
    "{\n",
    "    PyObject * ret = PyObject_GetAttrString(o, name);\n",
    "    return ret;\n",
    "}\n",
    "\n",
    "PYBIND11_MODULE(ex_attr_by_string, m)\n",
    "{\n",
    "    m\n",
    "        .def\n",
    "        (\n",
    "            \"attach_attr_by_string\"\n",
    "          , [](object & o, object & name, object & attr)\n",
    "            {\n",
    "                std::string name_str = cast<std::string>(name);\n",
    "                attach_attr(o.ptr(), name_str.c_str(), attr.ptr());\n",
    "            }\n",
    "        )\n",
    "        .def\n",
    "        (\n",
    "            \"retrieve_attr_by_string\"\n",
    "          , [](object & o, object & name)\n",
    "            {\n",
    "                std::string name_str = cast<std::string>(name);\n",
    "                handle(retrieve_attr(o.ptr(), name_str.c_str()));\n",
    "            }\n",
    "        )\n",
    "    ;\n",
    "}"
   ]
  },
  {
   "cell_type": "code",
   "execution_count": 13,
   "metadata": {},
   "outputs": [
    {
     "name": "stdout",
     "output_type": "stream",
     "text": [
      "3\n",
      "4\n",
      "True\n",
      "4\n",
      "5\n"
     ]
    }
   ],
   "source": [
    "class Cls():\n",
    "    pass\n",
    "obj = Cls()\n",
    "val = 'attached value'\n",
    "print(sys.getrefcount(val))\n",
    "\n",
    "attach_attr_by_string(obj, 'name', val)\n",
    "print(sys.getrefcount(val))\n",
    "\n",
    "print(obj.name is val)\n",
    "print(sys.getrefcount(val))\n",
    "\n",
    "val2 = retrieve_attr_by_string(obj, 'name')\n",
    "print(sys.getrefcount(val))"
   ]
  },
  {
   "cell_type": "markdown",
   "metadata": {},
   "source": [
    "See also the C API documentation for object protocol: https://docs.python.org/3/c-api/object.html ."
   ]
  },
  {
   "cell_type": "markdown",
   "metadata": {},
   "source": [
    "## Function call\n",
    "\n",
    "This section shows how to make Python function call from C."
   ]
  },
  {
   "cell_type": "code",
   "execution_count": 14,
   "metadata": {},
   "outputs": [],
   "source": [
    "%%pybind11 -c=\"-O3\"\n",
    "\n",
    "#include \"pybind11/pybind11.h\"\n",
    "\n",
    "#include <string>\n",
    "\n",
    "using namespace pybind11;\n",
    "\n",
    "PyObject * function_call(PyObject * callable, PyObject * args, PyObject * kw)\n",
    "{\n",
    "    PyObject * ret = PyObject_Call(callable, args, kw);\n",
    "    return ret;\n",
    "}\n",
    "\n",
    "PYBIND11_MODULE(ex_call, m)\n",
    "{\n",
    "    m\n",
    "        .def\n",
    "        (\n",
    "            \"function_call\"\n",
    "          , [](object & o, tuple & t, dict & kw)\n",
    "            {\n",
    "                return handle(function_call(o.ptr(), t.ptr(), kw.ptr()));\n",
    "            }\n",
    "        )\n",
    "    ;\n",
    "}"
   ]
  },
  {
   "cell_type": "code",
   "execution_count": 15,
   "metadata": {},
   "outputs": [
    {
     "name": "stdout",
     "output_type": "stream",
     "text": [
      "(direct call)   results: first argument, default\n",
      "(function_call) results: first argument, default\n",
      "(direct call)   results: first argument, non default\n",
      "(function_call) results: first argument, non default\n"
     ]
    }
   ],
   "source": [
    "def my_func(arg1, kw1='default'):\n",
    "    return 'results: {}, {}'.format(arg1, kw1)\n",
    "\n",
    "print('(direct call)  ', my_func('first argument'))\n",
    "print('(function_call)', function_call(my_func, ('first argument',), {}))\n",
    "\n",
    "print('(direct call)  ', my_func('first argument', kw1='non default'))\n",
    "print('(function_call)', function_call(my_func, ('first argument',), {'kw1': 'non default'}))"
   ]
  },
  {
   "cell_type": "markdown",
   "metadata": {},
   "source": [
    "See the object protocol (https://docs.python.org/3/c-api/object.html) for other variants of the API."
   ]
  },
  {
   "cell_type": "markdown",
   "metadata": {},
   "source": [
    "## Tuple"
   ]
  },
  {
   "cell_type": "code",
   "execution_count": 16,
   "metadata": {},
   "outputs": [],
   "source": [
    "%%pybind11 -c=\"-O3\"\n",
    "\n",
    "#include \"pybind11/pybind11.h\"\n",
    "\n",
    "#include <string>\n",
    "\n",
    "using namespace pybind11;\n",
    "\n",
    "PyObject * reverse_tuple(PyObject * tup)\n",
    "{\n",
    "    PyObject * ret = PyTuple_New(PyTuple_Size(tup));\n",
    "\n",
    "    for (Py_ssize_t i = 0 ; i < PyTuple_Size(tup) ; ++i)\n",
    "    {\n",
    "        PyObject * item = PyTuple_GetItem(tup, i);\n",
    "        Py_INCREF(item);\n",
    "        PyTuple_SetItem(ret, i, item); // This only works when 1 == Py_REFCNT(ret)\n",
    "    }\n",
    "\n",
    "    return ret;\n",
    "}\n",
    "\n",
    "PYBIND11_MODULE(ex_tuple, m)\n",
    "{\n",
    "    m\n",
    "        .def\n",
    "        (\n",
    "            \"reverse_tuple\"\n",
    "          , [](tuple & t)\n",
    "            {\n",
    "                return handle(reverse_tuple(t.ptr()));\n",
    "            }\n",
    "        )\n",
    "    ;\n",
    "}"
   ]
  },
  {
   "cell_type": "code",
   "execution_count": 17,
   "metadata": {},
   "outputs": [
    {
     "name": "stdout",
     "output_type": "stream",
     "text": [
      "3\n",
      "4\n"
     ]
    }
   ],
   "source": [
    "tv0 = \"value0\"\n",
    "tv1 = object()\n",
    "tup = (tv0, tv1)\n",
    "print(sys.getrefcount(tv1))\n",
    "rtup = reverse_tuple(tup)\n",
    "print(sys.getrefcount(tv1))"
   ]
  },
  {
   "cell_type": "markdown",
   "metadata": {},
   "source": [
    "See https://docs.python.org/3/c-api/tuple.html for tuple C API.  `PyTuple_SetItem` implementation: https://github.com/python/cpython/blob/v3.8.0/Objects/tupleobject.c#L167 ."
   ]
  },
  {
   "cell_type": "markdown",
   "metadata": {},
   "source": [
    "## Dictionary\n",
    "\n"
   ]
  },
  {
   "cell_type": "code",
   "execution_count": 18,
   "metadata": {},
   "outputs": [],
   "source": [
    "%%pybind11 -c=\"-O3\"\n",
    "\n",
    "#include \"pybind11/pybind11.h\"\n",
    "\n",
    "#include <string>\n",
    "\n",
    "using namespace pybind11;\n",
    "\n",
    "PyObject * make_dict()\n",
    "{\n",
    "    PyObject * ret = PyDict_New();\n",
    "    return ret;\n",
    "}\n",
    "\n",
    "void add_dict_item(PyObject * d, PyObject * k, PyObject * v)\n",
    "{\n",
    "    /*int ret =*/\n",
    "    PyDict_SetItem(d, k, v);\n",
    "}\n",
    "\n",
    "PYBIND11_MODULE(ex_dict, m)\n",
    "{\n",
    "    m\n",
    "        .def\n",
    "        (\n",
    "            \"make_dict\"\n",
    "          , []()\n",
    "            {\n",
    "                return handle(make_dict());\n",
    "            }\n",
    "        )\n",
    "        .def\n",
    "        (\n",
    "            \"add_dict_item\"\n",
    "          , [](dict & d, object & k, object & v)\n",
    "            {\n",
    "                add_dict_item(d.ptr(), k.ptr(), v.ptr());\n",
    "            }\n",
    "        )\n",
    "    ;\n",
    "}"
   ]
  },
  {
   "cell_type": "code",
   "execution_count": 19,
   "metadata": {},
   "outputs": [
    {
     "name": "stdout",
     "output_type": "stream",
     "text": [
      "False\n",
      "True\n",
      "{'k1': 'value1'}\n",
      "{'k1': 'value1'}\n",
      "True\n"
     ]
    }
   ],
   "source": [
    "d0 = {}\n",
    "d1 = make_dict()\n",
    "print(d0 is d1)\n",
    "print(d0 == d1)\n",
    "d0['k1'] = 'value1'\n",
    "print(d0)\n",
    "add_dict_item(d1, 'k1', 'value1')\n",
    "print(d1)\n",
    "print(d0 == d1)"
   ]
  },
  {
   "cell_type": "markdown",
   "metadata": {},
   "source": [
    "Dictionary API: https://docs.python.org/3/c-api/dict.html ."
   ]
  },
  {
   "cell_type": "markdown",
   "metadata": {},
   "source": [
    "## List"
   ]
  },
  {
   "cell_type": "code",
   "execution_count": 20,
   "metadata": {},
   "outputs": [],
   "source": [
    "%%pybind11 -c=\"-O3\"\n",
    "\n",
    "#include \"pybind11/pybind11.h\"\n",
    "\n",
    "#include <string>\n",
    "\n",
    "using namespace pybind11;\n",
    "\n",
    "PyObject * make_list_from_iterator(PyObject * o)\n",
    "{\n",
    "    PyObject * iter = PyObject_GetIter(o);\n",
    "    PyObject * ret = PyList_New(0);\n",
    "    PyObject * item = nullptr;\n",
    "    while (nullptr != (item = PyIter_Next(iter)))\n",
    "    {\n",
    "        PyList_Append(ret, item);\n",
    "        Py_DECREF(item);\n",
    "    }\n",
    "    Py_DECREF(iter);\n",
    "    return ret;\n",
    "}\n",
    "\n",
    "PYBIND11_MODULE(ex_list, m)\n",
    "{\n",
    "    m\n",
    "        .def\n",
    "        (\n",
    "            \"make_list_from_iterator\"\n",
    "          , [](object & o)\n",
    "            {\n",
    "                PyObject * ret = make_list_from_iterator(o.ptr());\n",
    "                return handle(ret);\n",
    "            }\n",
    "        )\n",
    "    ;\n",
    "}"
   ]
  },
  {
   "cell_type": "code",
   "execution_count": 21,
   "metadata": {},
   "outputs": [
    {
     "name": "stdout",
     "output_type": "stream",
     "text": [
      "4\n",
      "5\n",
      "['first value', 'second value']\n"
     ]
    }
   ],
   "source": [
    "v0 = 'first value'\n",
    "v1 = 'second value'\n",
    "tup = (v0, v1)\n",
    "print(sys.getrefcount(v1))\n",
    "lst = make_list_from_iterator(tup)\n",
    "print(sys.getrefcount(v1))\n",
    "print(lst)"
   ]
  },
  {
   "cell_type": "markdown",
   "metadata": {},
   "source": [
    "See more information at https://docs.python.org/3/c-api/list.html and https://docs.python.org/3/c-api/iter.html ."
   ]
  },
  {
   "cell_type": "markdown",
   "metadata": {},
   "source": [
    "# Useful operations"
   ]
  },
  {
   "cell_type": "markdown",
   "metadata": {},
   "source": [
    "## Import"
   ]
  },
  {
   "cell_type": "code",
   "execution_count": 22,
   "metadata": {},
   "outputs": [],
   "source": [
    "%%pybind11 -c=\"-O3\"\n",
    "\n",
    "#include \"pybind11/pybind11.h\"\n",
    "\n",
    "#include <string>\n",
    "\n",
    "using namespace pybind11;\n",
    "\n",
    "PyObject * get_modules()\n",
    "{\n",
    "    PyObject * sysmod = PyImport_ImportModule(\"sys\");\n",
    "    PyObject * modules = PyObject_GetAttrString(sysmod, \"modules\");\n",
    "    Py_DECREF(sysmod);\n",
    "    return modules;\n",
    "}\n",
    "\n",
    "PYBIND11_MODULE(ex_import, m)\n",
    "{\n",
    "    m\n",
    "        .def\n",
    "        (\n",
    "            \"get_modules\"\n",
    "          , []()\n",
    "            {\n",
    "                PyObject * ret = get_modules();\n",
    "                return handle(ret);\n",
    "            }\n",
    "        )\n",
    "    ;\n",
    "}"
   ]
  },
  {
   "cell_type": "code",
   "execution_count": 23,
   "metadata": {},
   "outputs": [
    {
     "name": "stdout",
     "output_type": "stream",
     "text": [
      "<class 'dict'> 877\n"
     ]
    }
   ],
   "source": [
    "modules = get_modules();\n",
    "print(type(modules), len(modules))"
   ]
  },
  {
   "cell_type": "markdown",
   "metadata": {},
   "source": [
    "## Exception"
   ]
  },
  {
   "cell_type": "code",
   "execution_count": 24,
   "metadata": {},
   "outputs": [],
   "source": [
    "%%pybind11 -c=\"-O3\"\n",
    "\n",
    "#include \"pybind11/pybind11.h\"\n",
    "\n",
    "#include <string>\n",
    "\n",
    "using namespace pybind11;\n",
    "\n",
    "PyObject * function_with_exception(PyObject * o)\n",
    "{\n",
    "    // Normal processing code.\n",
    "    PyObject * iter = PyObject_GetIter(o);\n",
    "    if (nullptr == iter) { return nullptr; }\n",
    "    PyObject * ret = PyList_New(0);\n",
    "    if (nullptr == ret) { return nullptr; }\n",
    "    PyObject * item = nullptr;\n",
    "    while (nullptr != (item = PyIter_Next(iter)))\n",
    "    {\n",
    "        int status = PyList_Append(ret, item);\n",
    "        Py_DECREF(item);\n",
    "        if (0 != status) { return nullptr; }\n",
    "    }\n",
    "    Py_DECREF(iter);\n",
    "\n",
    "    // Exception.\n",
    "    PyErr_SetString(PyExc_RuntimeError, \"intentional exception\");\n",
    "    Py_DECREF(ret); // Don't forget to clean up.\n",
    "    return nullptr;\n",
    "}\n",
    "\n",
    "PYBIND11_MODULE(ex_except, m)\n",
    "{\n",
    "    m\n",
    "        .def\n",
    "        (\n",
    "            \"function_with_exception\"\n",
    "          , [](object & o)\n",
    "            {\n",
    "                PyObject * ret = function_with_exception(o.ptr());\n",
    "                if (nullptr == ret) { throw error_already_set(); }\n",
    "                return handle(ret);\n",
    "            }\n",
    "        )\n",
    "    ;\n",
    "}"
   ]
  },
  {
   "cell_type": "code",
   "execution_count": 25,
   "metadata": {},
   "outputs": [
    {
     "ename": "TypeError",
     "evalue": "'int' object is not iterable",
     "output_type": "error",
     "traceback": [
      "\u001b[0;31m---------------------------------------------------------------------------\u001b[0m",
      "\u001b[0;31mTypeError\u001b[0m                                 Traceback (most recent call last)",
      "\u001b[0;32m<ipython-input-25-ebe6d8f0c75f>\u001b[0m in \u001b[0;36m<module>\u001b[0;34m\u001b[0m\n\u001b[0;32m----> 1\u001b[0;31m \u001b[0mfunction_with_exception\u001b[0m\u001b[0;34m(\u001b[0m\u001b[0;36m1\u001b[0m\u001b[0;34m)\u001b[0m\u001b[0;34m\u001b[0m\u001b[0;34m\u001b[0m\u001b[0m\n\u001b[0m",
      "\u001b[0;31mTypeError\u001b[0m: 'int' object is not iterable"
     ]
    }
   ],
   "source": [
    "function_with_exception(1)"
   ]
  },
  {
   "cell_type": "code",
   "execution_count": 26,
   "metadata": {},
   "outputs": [
    {
     "ename": "RuntimeError",
     "evalue": "intentional exception",
     "output_type": "error",
     "traceback": [
      "\u001b[0;31m---------------------------------------------------------------------------\u001b[0m",
      "\u001b[0;31mRuntimeError\u001b[0m                              Traceback (most recent call last)",
      "\u001b[0;32m<ipython-input-26-6d728ba60286>\u001b[0m in \u001b[0;36m<module>\u001b[0;34m\u001b[0m\n\u001b[1;32m      1\u001b[0m \u001b[0mtup\u001b[0m \u001b[0;34m=\u001b[0m \u001b[0;34m(\u001b[0m\u001b[0;34m'first value'\u001b[0m\u001b[0;34m,\u001b[0m \u001b[0;34m'second value'\u001b[0m\u001b[0;34m)\u001b[0m\u001b[0;34m\u001b[0m\u001b[0;34m\u001b[0m\u001b[0m\n\u001b[0;32m----> 2\u001b[0;31m \u001b[0mfunction_with_exception\u001b[0m\u001b[0;34m(\u001b[0m\u001b[0;34m(\u001b[0m\u001b[0;34m'first value'\u001b[0m\u001b[0;34m,\u001b[0m \u001b[0;34m'second value'\u001b[0m\u001b[0;34m)\u001b[0m\u001b[0;34m)\u001b[0m\u001b[0;34m\u001b[0m\u001b[0;34m\u001b[0m\u001b[0m\n\u001b[0m",
      "\u001b[0;31mRuntimeError\u001b[0m: intentional exception"
     ]
    }
   ],
   "source": [
    "tup = ('first value', 'second value')\n",
    "function_with_exception(('first value', 'second value'))"
   ]
  },
  {
   "cell_type": "markdown",
   "metadata": {},
   "source": [
    "# Python memory management\n",
    "\n",
    "Python has its own memory manager.  When writing Python extension, they should be used for `PyObject`.  The memory managing system has three levels:\n",
    "\n",
    "1. Raw memory interface: wrapper to the C standard memory managers.  It allows distinct addressed returned when requesting 0 byte.  GIL is not involved.\n",
    "2. Normal memory interface: 'pymalloc' with small memory optimization.  GIL is required when calling.\n",
    "3. Object memory interface: allocate for `PyObject`.  GIL is required when calling.\n",
    "\n",
    "The public API are:\n",
    "\n",
    "```c\n",
    "void * PyMem_RawMalloc(size_t size);\n",
    "void * PyMem_RawCalloc(size_t nelem, size_t elsize);\n",
    "void * PyMem_RawRealloc(void *ptr, size_t new_size);\n",
    "void   PyMem_RawFree(void *ptr);\n",
    "\n",
    "void * PyMem_Malloc(size_t size);\n",
    "void * PyMem_Calloc(size_t nelem, size_t elsize);\n",
    "void * PyMem_Realloc(void *ptr, size_t new_size);\n",
    "void   PyMem_Free(void *ptr);\n",
    "\n",
    "void * PyObject_Malloc(size_t size);\n",
    "void * PyObject_Calloc(size_t nelem, size_t elsize);\n",
    "void * PyObject_Realloc(void *ptr, size_t new_size);\n",
    "void   PyObject_Free(void *ptr);\n",
    "```\n",
    "\n",
    "\n",
    "In [`Include/cpython/pymem.h`](https://github.com/python/cpython/blob/v3.8.0/Include/cpython/pymem.h#L53), Python provides a struct and a set of API to switch to custom memory managers:\n",
    "\n",
    "```c\n",
    "typedef struct {\n",
    "    /* user context passed as the first argument to the 4 functions */\n",
    "    void *ctx;\n",
    "\n",
    "    /* allocate a memory block */\n",
    "    void* (*malloc) (void *ctx, size_t size);\n",
    "\n",
    "    /* allocate a memory block initialized by zeros */\n",
    "    void* (*calloc) (void *ctx, size_t nelem, size_t elsize);\n",
    "\n",
    "    /* allocate or resize a memory block */\n",
    "    void* (*realloc) (void *ctx, void *ptr, size_t new_size);\n",
    "\n",
    "    /* release a memory block */\n",
    "    void (*free) (void *ctx, void *ptr);\n",
    "} PyMemAllocatorEx;\n",
    "\n",
    "/* Get the memory block allocator of the specified domain. */\n",
    "PyAPI_FUNC(void) PyMem_GetAllocator(PyMemAllocatorDomain domain,\n",
    "                                    PyMemAllocatorEx *allocator);\n",
    "\n",
    "/* Set the memory block allocator of the specified domain.\n",
    "\n",
    "   The new allocator must return a distinct non-NULL pointer when requesting\n",
    "   zero bytes.\n",
    "\n",
    "   For the PYMEM_DOMAIN_RAW domain, the allocator must be thread-safe: the GIL\n",
    "   is not held when the allocator is called.\n",
    "\n",
    "   If the new allocator is not a hook (don't call the previous allocator), the\n",
    "   PyMem_SetupDebugHooks() function must be called to reinstall the debug hooks\n",
    "   on top on the new allocator. */\n",
    "PyAPI_FUNC(void) PyMem_SetAllocator(PyMemAllocatorDomain domain,\n",
    "                                    PyMemAllocatorEx *allocator);\n",
    "```\n",
    "\n",
    "The documentation is at https://docs.python.org/3/c-api/memory.html#customize-memory-allocators .  The public API is wrappers to the functions populated in the struct, e.g.:\n",
    "\n",
    "```c\n",
    "void *\n",
    "PyMem_RawMalloc(size_t size)\n",
    "{\n",
    "    /*\n",
    "     * Limit ourselves to PY_SSIZE_T_MAX bytes to prevent security holes.\n",
    "     * Most python internals blindly use a signed Py_ssize_t to track\n",
    "     * things without checking for overflows or negatives.\n",
    "     * As size_t is unsigned, checking for size < 0 is not required.\n",
    "     */\n",
    "    if (size > (size_t)PY_SSIZE_T_MAX)\n",
    "        return NULL;\n",
    "    return _PyMem_Raw.malloc(_PyMem_Raw.ctx, size);\n",
    "}\n",
    "```\n",
    "\n",
    "See https://github.com/python/cpython/blob/v3.8.0/Objects/obmalloc.c#L562 for the code."
   ]
  },
  {
   "cell_type": "markdown",
   "metadata": {},
   "source": [
    "## Small memory optimization\n",
    "\n",
    "Take a look at the documentation: https://github.com/python/cpython/blob/v3.8.0/Objects/obmalloc.c#L766 .  This is the 'pymalloc', and it uses 256 KB for allocation not greater than 512 bytes."
   ]
  },
  {
   "cell_type": "markdown",
   "metadata": {},
   "source": [
    "## tracemalloc\n",
    "\n",
    "`tracemalloc` is a standard library that uses the custom memory manager to profile and debug Python memory use: https://docs.python.org/3/library/tracemalloc.html .  We can follow the implementation to create more specific analysis."
   ]
  }
 ],
 "metadata": {
  "kernelspec": {
   "display_name": "Python 3",
   "language": "python",
   "name": "python3"
  },
  "language_info": {
   "codemirror_mode": {
    "name": "ipython",
    "version": 3
   },
   "file_extension": ".py",
   "mimetype": "text/x-python",
   "name": "python",
   "nbconvert_exporter": "python",
   "pygments_lexer": "ipython3",
   "version": "3.7.4+"
  }
 },
 "nbformat": 4,
 "nbformat_minor": 2
}
