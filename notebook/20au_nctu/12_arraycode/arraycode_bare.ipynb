{
 "cells": [
  {
   "cell_type": "code",
   "execution_count": null,
   "metadata": {
    "slideshow": {
     "slide_type": "skip"
    }
   },
   "outputs": [],
   "source": [
    "%load_ext ipybind\n",
    "%matplotlib inline\n",
    "\n",
    "import warnings\n",
    "warnings.filterwarnings('default')\n",
    "\n",
    "import numpy as np\n",
    "\n",
    "import matplotlib.pyplot as plt\n",
    "import matplotlib.ticker as mticker\n",
    "plt.rc('figure', figsize=(8, 8))"
   ]
  },
  {
   "cell_type": "markdown",
   "metadata": {
    "slideshow": {
     "slide_type": "slide"
    }
   },
   "source": [
    "# Array code in C++\n",
    "\n",
    "xtensor (http://xtensor.readthedocs.io/) is an array library in C++.  It defines the multi-dimensional array data structure suitable for compile-time optimization.  The array library helps us organize code and achieve fast runtime.\n",
    "\n",
    "1. Python is slow but easy to write\n",
    "2. Speed up by using numpy (still in Python)\n",
    "3. Xtensor: write iterative code in C++ speed using arrays\n",
    "4. Effect of house-keeping code"
   ]
  },
  {
   "cell_type": "markdown",
   "metadata": {
    "slideshow": {
     "slide_type": "slide"
    }
   },
   "source": [
    "# Python is slow\n",
    "\n",
    "Python is usually slow when it comes to number-crunching.  But as I will show, it's so convenient to code.\n",
    "\n",
    "Here we consider a boundary value problem of the Laplace equation for temperature distribution in a $1\\times1$ square area.\n",
    "\n",
    "\\begin{align}\n",
    "& \\frac{\\partial^2 u}{\\partial x^2} + \\frac{\\partial^2 u}{\\partial y^2} = 0 \\quad (0<x<1; 0<y<1) \\\\\n",
    "&\\left\\{\\begin{array}{lll}\n",
    "u(0,y) = 0, & u(1,y) = \\sin(\\pi y) & \\rule{4ex}{0pt} (0 \\le y \\le 1) \\\\\n",
    "u(x,0) = 0, & u(x,1) = 0 & \\rule{4ex}{0pt} (0 \\le x \\le 1)\n",
    "\\end{array}\\right.\n",
    "\\end{align}"
   ]
  },
  {
   "cell_type": "markdown",
   "metadata": {
    "slideshow": {
     "slide_type": "subslide"
    }
   },
   "source": [
    "To solve it numerically, we choose the finite-difference method.  The finite-difference method needs a grid to discretize the spatial domain.  The simplest spatial discretization is the homogeneous Cartesian grid.  Let's make a $51\\times51$ Cartesian grid."
   ]
  },
  {
   "cell_type": "code",
   "execution_count": null,
   "metadata": {
    "slideshow": {
     "slide_type": "-"
    }
   },
   "outputs": [],
   "source": [
    "def make_grid():\n",
    "    nx = 51\n",
    "    x = np.linspace(0, 1, nx)\n",
    "    gx, gy = np.meshgrid(x, x)\n",
    "    u = np.zeros_like(gx)\n",
    "    u[0,:] = 0\n",
    "    u[-1,:] = 1 * np.sin(np.linspace(0,np.pi,nx))\n",
    "    u[:,0] = 0\n",
    "    u[:,-1] = 0\n",
    "    return nx, x, u"
   ]
  },
  {
   "cell_type": "code",
   "execution_count": null,
   "metadata": {
    "slideshow": {
     "slide_type": "skip"
    }
   },
   "outputs": [],
   "source": [
    "def show_grid(size):\n",
    "    fig, ax = plt.subplots(figsize=(size,size))\n",
    "    ax.set_xlim(0, 1)\n",
    "    ax.set_ylim(0, 1)\n",
    "    ax.set_xticks(x, minor=True)\n",
    "    ax.set_yticks(x, minor=True)\n",
    "    ax.set_xlabel('$x$')\n",
    "    ax.set_ylabel('$y$')\n",
    "    ax.grid(True, which='minor')"
   ]
  },
  {
   "cell_type": "code",
   "execution_count": null,
   "metadata": {
    "slideshow": {
     "slide_type": "subslide"
    }
   },
   "outputs": [],
   "source": [
    "nx, x, uoriginal = make_grid(); show_grid(10)"
   ]
  },
  {
   "cell_type": "markdown",
   "metadata": {
    "slideshow": {
     "slide_type": "subslide"
    }
   },
   "source": [
    "After the grid is defined, we may derive the finite-differencing formula.  Use the Taylor series expansion to obtain the difference equation:\n",
    "\n",
    "\\begin{align}\n",
    "%\n",
    "& \\frac{u(x_{i+1}, y_j) - 2u(x_i, y_j) + u(x_{i-1}, y_j)}{(\\Delta x)^2} \\\\\n",
    "&\\quad + \\frac{u(x_i, y_{j+1}) - 2u(x_i, y_j) + u(x_i, y_{j+1})}{(\\Delta y)^2} = 0\n",
    "%\n",
    "\\end{align}\n",
    "\n",
    "Note $\\Delta x = \\Delta y$.  The difference equation is rewritten as\n",
    "\n",
    "\\begin{align}\n",
    "%\n",
    "u(x_i, y_j) = \\frac{u(x_{i+1}, y_j) + u(x_{i-1}, y_j) + u(x_i, y_{j+1}) + u(x_i, y_{j-1})}{4}\n",
    "%\n",
    "\\end{align}\n",
    "\n",
    "Apply the point-Jacobi method to write a formula to iteratively solve the difference equaion:\n",
    "\n",
    "\\begin{align}\n",
    "%\n",
    "u^{n+1}(x_i, y_i) = \\frac{u^n(x_{i+1}, y_j) + u^n(x_{i-1}, y_j) + u^n(x_i, y_{j+1}) + u^n(x_i, y_{j-1})}{4}\n",
    "%\n",
    "\\end{align}\n",
    "\n",
    "where $u^n$ is the solution at the $n$-th iteration."
   ]
  },
  {
   "cell_type": "markdown",
   "metadata": {
    "slideshow": {
     "slide_type": "subslide"
    }
   },
   "source": [
    "Now we can use Python to quickly implement the solver:"
   ]
  },
  {
   "cell_type": "code",
   "execution_count": null,
   "metadata": {},
   "outputs": [],
   "source": [
    "def solve_python_loop():\n",
    "    u = uoriginal.copy()\n",
    "    un = u.copy()\n",
    "    converged = False\n",
    "    step = 0\n",
    "    # Outer loop.\n",
    "    while not converged:\n",
    "        step += 1\n",
    "        # Inner loops. One for x and the other for y.\n",
    "        for it in range(1, nx-1):\n",
    "            for jt in range(1, nx-1):\n",
    "                un[it,jt] = (u[it+1,jt] + u[it-1,jt] + u[it,jt+1] + u[it,jt-1]) / 4\n",
    "        norm = np.abs(un-u).max()\n",
    "        u[...] = un[...]\n",
    "        converged = True if norm < 1.e-5 else False\n",
    "    return u, step, norm"
   ]
  },
  {
   "cell_type": "code",
   "execution_count": null,
   "metadata": {
    "slideshow": {
     "slide_type": "skip"
    }
   },
   "outputs": [],
   "source": [
    "def show_result(u, step, norm, size=7):\n",
    "    print(\"step\", step, \"norm\", norm)\n",
    "    fig, ax = plt.subplots(figsize=(size,size))\n",
    "    cs = ax.contour(x, x, u.T)\n",
    "    ax.clabel(cs, inline=1, fontsize=10)\n",
    "\n",
    "    ax.set_xticks(np.linspace(0,1,6))\n",
    "    ax.set_yticks(np.linspace(0,1,6))\n",
    "    ax.set_xlabel('$x$')\n",
    "    ax.set_ylabel('$y$')\n",
    "\n",
    "    ax.grid(True, which='minor')"
   ]
  },
  {
   "cell_type": "code",
   "execution_count": null,
   "metadata": {
    "slideshow": {
     "slide_type": "subslide"
    }
   },
   "outputs": [],
   "source": [
    "%%time\n",
    "# Run the Python solver\n",
    "u, step, norm = solve_python_loop()"
   ]
  },
  {
   "cell_type": "code",
   "execution_count": null,
   "metadata": {},
   "outputs": [],
   "source": [
    "show_result(u, step, norm)"
   ]
  },
  {
   "cell_type": "markdown",
   "metadata": {
    "slideshow": {
     "slide_type": "subslide"
    }
   },
   "source": [
    "It takes quite a while (around 5 seconds) to converge with 2097 iterations."
   ]
  },
  {
   "cell_type": "markdown",
   "metadata": {
    "slideshow": {
     "slide_type": "skip"
    }
   },
   "source": [
    "Is the calculation correct?  For any numerical appliaction, correctness is the first condition.\n",
    "\n",
    "We may compare the numerical soluation with the analytical solution.  Recall the PDE and its boundary conditions:\n",
    "\n",
    "\\begin{align}\n",
    "& \\frac{\\partial^2 u}{\\partial x^2} + \\frac{\\partial^2 u}{\\partial y^2} = 0 \\quad (0<x<1; 0<y<1) \\\\\n",
    "&\\left\\{\\begin{array}{lll}\n",
    "u(0,y) = 0, & u(1,y) = \\sin(\\pi y) & \\rule{4ex}{0pt} (0 \\le y \\le 1) \\\\\n",
    "u(x,0) = 0, & u(x,1) = 0 & \\rule{4ex}{0pt} (0 \\le x \\le 1)\n",
    "\\end{array}\\right.\n",
    "\\end{align}\n",
    "\n",
    "Use separation of variable.  Assume the solution $u(x,y) = \\phi(x)\\psi(y)$.\n",
    "\n",
    "\\begin{align*}\n",
    "%\n",
    "& \\frac{\\partial^2 u}{\\partial x^2} + \\frac{\\partial^2 u}{\\partial y^2} = 0 \\quad \\Rightarrow \\quad\n",
    "\\phi''\\psi + \\phi\\psi'' = 0 \\\\\n",
    "& \\Rightarrow \\quad \\frac{\\phi''}{\\phi} = -\\frac{\\psi''}{\\psi} = \\lambda\n",
    "%\n",
    "\\end{align*}\n",
    "\n",
    "\\begin{align*}\n",
    "%\n",
    "\\left\\{\\begin{array}{ll}\n",
    "\\phi'' - \\lambda\\phi = 0, & \\phi(0) = 0 \\\\\n",
    "\\psi'' + \\lambda\\psi = 0, & \\psi(0) = 0, \\, \\psi(1) = 0\n",
    "\\end{array}\\right.\n",
    "%\n",
    "\\end{align*}\n",
    "\n",
    "$\\lambda$ is the eigenvalue.  The general solution of the ODE of $\\psi$ can be obtained as\n",
    "\n",
    "\\begin{align*}\n",
    "%\n",
    "\\psi(y) = c\\cos(\\kappa y) + d\\sin(\\kappa y), \\quad \\kappa^2 = \\lambda\n",
    "%\n",
    "\\end{align*}\n",
    "\n",
    "Substitude the boundary conditions to the general solution\n",
    "\n",
    "\\begin{align*}\n",
    "%\n",
    "& \\psi(0) = c = 0 \\, \\Rightarrow \\, c = 0 \\\\\n",
    "& \\psi(1) = d\\sin(\\kappa) = 0 \\, \\Rightarrow \\, \\kappa = n\\pi, \\, n = 1, 2, 3, \\ldots \\\\\n",
    "& \\psi(y) = \\sum_{n=1}^{\\infty} \\psi_n(y), \\; \\mbox{where} \\; \\psi_n(y) = d_n\\sin(n\\pi y) \\\\\n",
    "& \\Rightarrow \\psi(y) = \\sum_{n=1}^{\\infty} d_n \\sin(n\\pi y)\n",
    "%\n",
    "\\end{align*}\n",
    "\n",
    "Substitute the eigenvalue $\\lambda$ into the ODE of $\\phi$\n",
    "\n",
    "\\begin{align*}\n",
    "%\n",
    "\\phi'' - (n\\pi)^2\\phi = 0\n",
    "%\n",
    "\\end{align*}\n",
    "\n",
    "The general solution is\n",
    "\n",
    "\\begin{align*}\n",
    "%\n",
    "\\phi_n(x) = a_n\\cosh(\\kappa x) + b_n\\sinh(\\kappa x)\n",
    "%\n",
    "\\end{align*}\n",
    "\n",
    "Apply the boundary condition $\\phi_n(0) = a_n = 0$ and obtain $\\phi_n(x) = b_n\\sinh(\\kappa x)$.\n",
    "\n",
    "The solution $u(x, y)$ can now be written as\n",
    "\n",
    "\\begin{align*}\n",
    "%\n",
    "u(x,y) = \\sum_{n=1}^{\\infty}\\phi_n(x)\\psi_n(y) = \\sum_{n=1}^{\\infty} \\alpha_n \\sinh(n\\pi x)\\sin(n\\pi y)\n",
    "%\n",
    "\\end{align*}\n",
    "\n",
    "where $\\alpha_n = b_nd_n$.  Apply the last boundary condition\n",
    "\n",
    "\\begin{align*}\n",
    "%\n",
    "u(1,y) = \\sin(\\pi y) = \\sum_{n=1}^{\\infty}\\alpha_n\\sinh(n\\pi)\\sin(n\\pi)\n",
    "%\n",
    "\\end{align*}\n",
    "\n",
    "It is obtained that $\\alpha_1 = \\sinh^{-1}(\\pi)$ and $\\alpha_k = 0 \\forall k = 2, 3, \\ldots$.  The solution of $u$ is obtained:\n",
    "\n",
    "\\begin{align*}\n",
    "%\n",
    "u(x, y) = \\frac{\\sinh(\\pi x)}{\\sinh(\\pi)} \\sin(\\pi y)\n",
    "%\n",
    "\\end{align*}"
   ]
  },
  {
   "cell_type": "code",
   "execution_count": null,
   "metadata": {},
   "outputs": [],
   "source": [
    "def solve_analytical():\n",
    "    u = np.empty((len(x), len(x)), dtype='float64')\n",
    "    for ix, cx in enumerate(x):\n",
    "        u[ix, :] = np.sinh(np.pi*cx) / np.sinh(np.pi) * np.sin(np.pi*x)\n",
    "    return u\n",
    "\n",
    "uanalytical = solve_analytical()\n",
    "show_result(uanalytical, 0, 0)\n",
    "# Calculate the L inf norm.\n",
    "print(\"Linf of difference is %f\" % np.abs(u - uanalytical).max())"
   ]
  },
  {
   "cell_type": "markdown",
   "metadata": {},
   "source": [
    "Say $u_a$ is the analytical solution.  $|u-u_a|_{\\infty}$ is good enough.  Let's make the Python version as golden."
   ]
  },
  {
   "cell_type": "code",
   "execution_count": null,
   "metadata": {
    "slideshow": {
     "slide_type": "-"
    }
   },
   "outputs": [],
   "source": [
    "ugolden = u.copy()"
   ]
  },
  {
   "cell_type": "markdown",
   "metadata": {
    "slideshow": {
     "slide_type": "slide"
    }
   },
   "source": [
    "# Array-based code with numpy\n",
    "\n",
    "We usually can use numpy to speed up the slow Python loops.  Numpy implements fast calculations in C.  By using numpy, we essentially delegate the calculation to C."
   ]
  },
  {
   "cell_type": "code",
   "execution_count": null,
   "metadata": {},
   "outputs": [],
   "source": [
    "def solve_array():\n",
    "    u = uoriginal.copy()\n",
    "    un = u.copy()\n",
    "    converged = False\n",
    "    step = 0\n",
    "    while not converged:\n",
    "        step += 1\n",
    "        un[1:nx-1,1:nx-1] = (u[2:nx,1:nx-1] + u[0:nx-2,1:nx-1] +\n",
    "                             u[1:nx-1,2:nx] + u[1:nx-1,0:nx-2]) / 4\n",
    "        norm = np.abs(un-u).max()\n",
    "        u[...] = un[...]\n",
    "        converged = True if norm < 1.e-5 else False\n",
    "    return u, step, norm"
   ]
  },
  {
   "cell_type": "code",
   "execution_count": null,
   "metadata": {
    "slideshow": {
     "slide_type": "subslide"
    }
   },
   "outputs": [],
   "source": [
    "%%time\n",
    "u, step, norm = solve_array()"
   ]
  },
  {
   "cell_type": "markdown",
   "metadata": {},
   "source": [
    "The speed is much better: less than 0.1 second.  The speed up is more than 60x."
   ]
  },
  {
   "cell_type": "code",
   "execution_count": null,
   "metadata": {},
   "outputs": [],
   "source": [
    "assert (u == ugolden).all(); show_result(u, step, norm)"
   ]
  },
  {
   "cell_type": "markdown",
   "metadata": {
    "slideshow": {
     "slide_type": "slide"
    }
   },
   "source": [
    "# Nested loop in C++\n",
    "\n",
    "Oftentimes numpy is still not fast enough.  Besides, it's not really easy to read.  Nested loop reads more straight-forward for our point-Jacobi method.  Now xtensor comes to help.\n",
    "\n",
    "Except the parentheses, the C++ version looks almost the same as the Python version."
   ]
  },
  {
   "cell_type": "code",
   "execution_count": null,
   "metadata": {
    "slideshow": {
     "slide_type": "skip"
    }
   },
   "outputs": [],
   "source": [
    "%%pybind11 -c=\"-O3\"\n",
    "\n",
    "#include \"pybind11/pybind11.h\"\n",
    "#define FORCE_IMPORT_ARRAY\n",
    "#include \"xtensor-python/pyarray.hpp\"\n",
    "\n",
    "#include <vector>\n",
    "#include <algorithm>\n",
    "#include <tuple>\n",
    "#include <iostream>\n",
    "\n",
    "#include \"xtensor/xarray.hpp\"\n",
    "#include \"xtensor/xadapt.hpp\"\n",
    "#include \"xtensor/xview.hpp\"\n",
    "\n",
    "std::tuple<xt::xarray<double>, size_t, double>\n",
    "solve1(xt::xarray<double> u)\n",
    "{\n",
    "    const size_t nx = u.shape(0);\n",
    "    xt::xarray<double> un = u;\n",
    "    bool converged = false;\n",
    "    size_t step = 0;\n",
    "    double norm;\n",
    "    while (!converged)\n",
    "    {\n",
    "        ++step;\n",
    "        for (size_t it=1; it<nx-1; ++it)\n",
    "        {\n",
    "            for (size_t jt=1; jt<nx-1; ++jt)\n",
    "            {\n",
    "                un(it,jt) = (u(it+1,jt) + u(it-1,jt) + u(it,jt+1) + u(it,jt-1)) / 4;\n",
    "            }\n",
    "        }\n",
    "        norm = xt::amax(xt::abs(un-u))();\n",
    "        if (norm < 1.e-5) { converged = true; }\n",
    "        u = un;\n",
    "    }\n",
    "    return std::make_tuple(u, step, norm);\n",
    "}\n",
    "\n",
    "PYBIND11_MODULE(code1, m)\n",
    "{\n",
    "    xt::import_numpy();\n",
    "    m.def\n",
    "    (\n",
    "        \"solve_cpp\", [](xt::pyarray<double> & uin) { return solve1(xt::xarray<double>(uin)); }\n",
    "    );\n",
    "}"
   ]
  },
  {
   "cell_type": "code",
   "execution_count": null,
   "metadata": {
    "slideshow": {
     "slide_type": "subslide"
    }
   },
   "outputs": [],
   "source": [
    "%%time\n",
    "u, step, norm = solve_cpp(uoriginal)"
   ]
  },
  {
   "cell_type": "code",
   "execution_count": null,
   "metadata": {},
   "outputs": [],
   "source": [
    "assert (u == ugolden).all(); show_result(u, step, norm)"
   ]
  },
  {
   "cell_type": "markdown",
   "metadata": {
    "slideshow": {
     "slide_type": "slide"
    }
   },
   "source": [
    "# Major source of overhead: data preparation\n",
    "\n",
    "Numerical calculation takes time.  Intuitively, developers spend time on optimizing the number-crunching code.  However, for a useful application, the house-keeping code for preparing the calculation data and post-processing the results is equally important.\n",
    "\n",
    "In our previous example of solving the Laplace equation, all the conditions are hard-coded.  It's OK for the teaching purpose, but not useful to those who don't know so much about the math and numerical.  This time, I will use an example of curve fitting to show how the house-keeping code affects performance, and xtensor comes to help.\n",
    "\n",
    "We will do polynomial curve fitting for data in groups of variable length."
   ]
  },
  {
   "cell_type": "code",
   "execution_count": null,
   "metadata": {},
   "outputs": [],
   "source": [
    "%%time\n",
    "# np.unique returns a sorted array.\n",
    "xdata = np.unique(np.random.sample(1000000) * 1000)\n",
    "ydata = np.random.sample(len(xdata)) * 1000"
   ]
  },
  {
   "cell_type": "markdown",
   "metadata": {},
   "source": [
    "The data are prepared.  Now, the code to fit the curve is totally in C++."
   ]
  },
  {
   "cell_type": "code",
   "execution_count": null,
   "metadata": {},
   "outputs": [],
   "source": [
    "%%pybind11 -c=\"-O3\"\n",
    "\n",
    "#include \"pybind11/pybind11.h\"\n",
    "#define FORCE_IMPORT_ARRAY\n",
    "#include \"xtensor-python/pyarray.hpp\"\n",
    "\n",
    "#include <vector>\n",
    "#include <algorithm>\n",
    "\n",
    "#include \"xtensor/xarray.hpp\"\n",
    "#include \"xtensor/xadapt.hpp\"\n",
    "#include \"xtensor/xview.hpp\"\n",
    "#include \"xtensor-blas/xlinalg.hpp\"\n",
    "\n",
    "using array_type = xt::xarray<double>;\n",
    "\n",
    "template <class AT>\n",
    "xt::xarray<double> fit_poly(AT & xarr, AT & yarr, size_t order)\n",
    "{\n",
    "    if (xarr.size() != yarr.size()) { throw std::runtime_error(\"xarr and yarr size mismatch\"); }\n",
    "    \n",
    "    xt::xarray<double> matrix(std::vector<size_t>{order+1, order+1});\n",
    "\n",
    "    for (size_t it=0; it<order+1; ++it)\n",
    "    {\n",
    "        for (size_t jt=0; jt<order+1; ++jt)\n",
    "        {\n",
    "            double & val = matrix(it, jt);\n",
    "            val = 0;\n",
    "            for (size_t kt=0; kt<xarr.size(); ++kt) { val += pow(xarr[kt], it+jt); }\n",
    "        }\n",
    "    }\n",
    "\n",
    "    xt::xarray<double> rhs(std::vector<size_t>{order+1});\n",
    "    for (size_t jt=0; jt<order+1; ++jt)\n",
    "    {\n",
    "        rhs[jt] = 0;\n",
    "        for (size_t kt=0; kt<yarr.size(); ++kt) { rhs[jt] += pow(xarr[kt], jt) * yarr[kt]; }\n",
    "    }\n",
    "\n",
    "    xt::xarray<double> lhs = xt::linalg::solve(matrix, rhs);\n",
    "    std::reverse(lhs.begin(), lhs.end()); // to make numpy.poly1d happy.\n",
    "\n",
    "    return lhs;\n",
    "}\n",
    "\n",
    "template <class AT>\n",
    "xt::xarray<double> fit_polys(xt::xarray<double> & xarr, xt::xarray<double> & yarr, size_t order)\n",
    "{\n",
    "    size_t xmin = std::floor(*std::min_element(xarr.begin(), xarr.end()));\n",
    "    size_t xmax = std::ceil(*std::max_element(xarr.begin(), xarr.end()));\n",
    "    size_t ninterval = xmax - xmin;\n",
    "\n",
    "    xt::xarray<double> lhs(std::vector<size_t>{ninterval, order+1});\n",
    "    lhs.fill(0); // sentinel.\n",
    "    size_t start=0;\n",
    "    for (size_t it=0; it<xmax; ++it)\n",
    "    {\n",
    "        size_t stop;\n",
    "        for (stop=start; stop<xarr.size(); ++stop) { if (xarr[stop]>=it+1) { break; } }\n",
    "\n",
    "        AT const sub_x = xt::view(xarr, xt::range(start, stop));\n",
    "        AT const sub_y = xt::view(yarr, xt::range(start, stop));        \n",
    "\n",
    "        xt::xarray<double> sub_lhs = fit_poly(sub_x, sub_y, order);\n",
    "        xt::view(lhs, it, xt::all()) = sub_lhs;\n",
    "        \n",
    "        start = stop;\n",
    "    }\n",
    "\n",
    "    return lhs;\n",
    "}\n",
    "\n",
    "PYBIND11_MODULE(example, m)\n",
    "{\n",
    "    xt::import_numpy();\n",
    "    m.def\n",
    "    (\n",
    "        \"fit_poly\"\n",
    "      , [](xt::pyarray<double> & xarr_in, xt::pyarray<double> & yarr_in, size_t order)\n",
    "        {\n",
    "            std::vector<size_t> xarr_shape(xarr_in.shape().begin(), xarr_in.shape().end());\n",
    "            xt::xarray<double> xarr = xt::adapt(xarr_in.data(), xarr_shape);\n",
    "\n",
    "            std::vector<size_t> yarr_shape(yarr_in.shape().begin(), yarr_in.shape().end());\n",
    "            xt::xarray<double> yarr = xt::adapt(yarr_in.data(), yarr_shape);\n",
    "\n",
    "            return fit_poly(xarr, yarr, order);\n",
    "        }\n",
    "    );\n",
    "    m.def\n",
    "    (\n",
    "        \"fit_polys\"\n",
    "      , [](xt::pyarray<double> & xarr_in, xt::pyarray<double> & yarr_in, size_t order)\n",
    "        {\n",
    "            std::vector<size_t> xarr_shape(xarr_in.shape().begin(), xarr_in.shape().end());\n",
    "            xt::xarray<double> xarr = xt::adapt(xarr_in.data(), xarr_shape);\n",
    "            std::vector<size_t> yarr_shape(yarr_in.shape().begin(), yarr_in.shape().end());\n",
    "            xt::xarray<double> yarr = xt::adapt(yarr_in.data(), yarr_shape);\n",
    "            return fit_polys<array_type>(xarr, yarr, order);\n",
    "        }\n",
    "    );\n",
    "}"
   ]
  },
  {
   "cell_type": "markdown",
   "metadata": {},
   "source": [
    "Call our `fit_poly` helper to find the fitted curve of a group of points."
   ]
  },
  {
   "cell_type": "code",
   "execution_count": null,
   "metadata": {},
   "outputs": [],
   "source": [
    "plt.rc('figure', figsize=(12, 8))\n",
    "\n",
    "def plot_poly_fitted(i):\n",
    "    slct = (xdata>=i)&(xdata<(i+1))\n",
    "    sub_x = xdata[slct]\n",
    "    sub_y = ydata[slct]\n",
    "    poly = fit_poly(sub_x, sub_y, 3)\n",
    "    print(poly)\n",
    "    poly = np.poly1d(poly)\n",
    "    xp = np.linspace(sub_x.min(), sub_x.max(), 100)\n",
    "    plt.plot(sub_x, sub_y, '.', xp, poly(xp), '-')\n",
    "    \n",
    "plot_poly_fitted(10)"
   ]
  },
  {
   "cell_type": "markdown",
   "metadata": {},
   "source": [
    "Now, let's see the impact to runtime from the house-keeping code outside the calculating helper."
   ]
  },
  {
   "cell_type": "code",
   "execution_count": null,
   "metadata": {},
   "outputs": [],
   "source": [
    "%%time\n",
    "# Do the calculation for the 1000 groups of points.\n",
    "polygroup = np.empty((1000, 3), dtype='float64')\n",
    "for i in range(1000):\n",
    "    # Use numpy to build the point group.\n",
    "    slct = (xdata>=i)&(xdata<(i+1))\n",
    "    sub_x = xdata[slct]\n",
    "    sub_y = ydata[slct]\n",
    "    polygroup[i,:] = fit_poly(sub_x, sub_y, 2)"
   ]
  },
  {
   "cell_type": "code",
   "execution_count": null,
   "metadata": {},
   "outputs": [],
   "source": [
    "%%time\n",
    "# Using numpy to build the point groups takes a lot of time.\n",
    "data_groups = []\n",
    "for i in range(1000):\n",
    "    slct = (xdata>=i)&(xdata<(i+1))\n",
    "    data_groups.append((xdata[slct], ydata[slct]))"
   ]
  },
  {
   "cell_type": "code",
   "execution_count": null,
   "metadata": {},
   "outputs": [],
   "source": [
    "%%time\n",
    "# Fitting helper runtime is much less than building the point groups.\n",
    "polygroup = np.empty((1000, 3), dtype='float64')\n",
    "for it, (sub_x, sub_y) in enumerate(data_groups):\n",
    "    polygroup[it,:] = fit_poly(sub_x, sub_y, 2)"
   ]
  },
  {
   "cell_type": "markdown",
   "metadata": {},
   "source": [
    "It's very productive to write house-keeping code in Python.  As we see, the price to pay is the runtime, and oftentimes memory as well.  But to spend 5x the runtime in house-keeping code is intolerable.  We need to write C++ to speed up.\n",
    "\n",
    "Now see the `fit_polys` C++ helper.  It detects the point group right before fitting."
   ]
  },
  {
   "cell_type": "code",
   "execution_count": null,
   "metadata": {},
   "outputs": [],
   "source": [
    "%%time\n",
    "rbatch = fit_polys(xdata, ydata, 2)"
   ]
  },
  {
   "cell_type": "markdown",
   "metadata": {},
   "source": [
    "The runtime of the house-keeping code becomes negligible.  You may verify the calculation results too."
   ]
  },
  {
   "cell_type": "code",
   "execution_count": null,
   "metadata": {},
   "outputs": [],
   "source": [
    "print(rbatch.shape)\n",
    "# Verify batch.\n",
    "assert (rbatch[i] == polygroup[i]).all()"
   ]
  },
  {
   "cell_type": "markdown",
   "metadata": {},
   "source": [
    "Another interesting experiment is to throw all the points as one group to `fit_poly`.  The runtime is very close to `fit_polys`."
   ]
  },
  {
   "cell_type": "code",
   "execution_count": null,
   "metadata": {},
   "outputs": [],
   "source": [
    "%%time\n",
    "allpoly = fit_poly(xdata, ydata, 2)"
   ]
  },
  {
   "cell_type": "markdown",
   "metadata": {},
   "source": [
    "The fitted curve is close to a straight line."
   ]
  },
  {
   "cell_type": "code",
   "execution_count": null,
   "metadata": {},
   "outputs": [],
   "source": [
    "print(allpoly)\n",
    "poly = np.poly1d(allpoly)\n",
    "xp = np.linspace(xdata.min(), xdata.max(), 100)\n",
    "plt.plot(xdata, ydata, '.', xp, poly(xp), '-')"
   ]
  },
  {
   "cell_type": "markdown",
   "metadata": {
    "slideshow": {
     "slide_type": "slide"
    }
   },
   "source": [
    "References:\n",
    "* xtensor; multi-dimensional arrays with broadcasting and lazy computing: https://xtensor.readthedocs.io\n",
    "* xtensor-python; Python bindings for the xtensor C++ multi-dimensional array library: https://xtensor-python.readthedocs.io\n",
    "* pybind11 — Seamless operability between C++11 and Python: https://pybind11.readthedocs.io/en/stable/\n",
    "* IPython / Jupyter integration for pybind11: https://github.com/aldanor/ipybind"
   ]
  },
  {
   "cell_type": "markdown",
   "metadata": {},
   "source": [
    "# Problems\n",
    "\n",
    "1. xtensor allows writing array-based code in C++, just like what numpy does for Python.  Use xtensor to write array-based code in C++ by modifying the C++ version of the point-Jacobi solver.  The array-based C++ version should not have the inner loops.\n",
    "2. By allowing changing the signature of the `fit_poly` function, how can we ensure the shapes of `xarr` and `yarr` to be the same, without the explicit check with `\"xarr and yarr size mismatch\"`?  Write code to show."
   ]
  }
 ],
 "metadata": {
  "kernelspec": {
   "display_name": "Python 3",
   "language": "python",
   "name": "python3"
  },
  "language_info": {
   "codemirror_mode": {
    "name": "ipython",
    "version": 3
   },
   "file_extension": ".py",
   "mimetype": "text/x-python",
   "name": "python",
   "nbconvert_exporter": "python",
   "pygments_lexer": "ipython3",
   "version": "3.7.4+"
  }
 },
 "nbformat": 4,
 "nbformat_minor": 2
}
