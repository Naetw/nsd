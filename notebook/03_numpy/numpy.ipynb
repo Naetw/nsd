{
 "cells": [
  {
   "cell_type": "code",
   "execution_count": 1,
   "metadata": {
    "slideshow": {
     "slide_type": "skip"
    }
   },
   "outputs": [],
   "source": [
    "%matplotlib inline\n",
    "\n",
    "import traceback\n",
    "import sys\n",
    "import os\n",
    "\n",
    "import numpy as np\n",
    "import matplotlib.pyplot as plt\n",
    "from IPython.core.magic import register_cell_magic\n",
    "from IPython.display import display, Audio, Image"
   ]
  },
  {
   "cell_type": "markdown",
   "metadata": {
    "slideshow": {
     "slide_type": "slide"
    }
   },
   "source": [
    "# Python and numpy\n",
    "\n",
    "* Organize Python modules\n",
    "* Use numpy for array-oriented code\n",
    "* Python tools for numerical analysis"
   ]
  },
  {
   "cell_type": "markdown",
   "metadata": {
    "slideshow": {
     "slide_type": "slide"
    }
   },
   "source": [
    "# Organize Python modules\n",
    "\n",
    "* One file containing Python code as a **script**\n",
    "* One Python file is a “**module**”\n",
    "* One directory containing Python files (satisfying some rules) is a “**package**”\n",
    "* “Module” is usually used in a loose way to refer to things that may be imported by Python “import” statement.  Then a “module” can mean (the strictly defined) module or a package.\n",
    "\n",
    "See examples in the [current directory](./)"
   ]
  },
  {
   "cell_type": "markdown",
   "metadata": {
    "slideshow": {
     "slide_type": "slide"
    }
   },
   "source": [
    "# What is a script and how it works\n",
    "\n",
    "* A script is a text file that the program loader sends to an engine (usually interpreter) to execute the content.\n",
    "* Executable permission needs to be set for the shell to run it:\n",
    "\n",
    "```\n",
    "$ ls -al step0.py      # executable bit not set\n",
    "-rw-r--r--  1 yungyuc  staff  574 Apr  7 22:18 step0.py\n",
    "$ ./step0.py pstake.py # can't run without permission\n",
    "-bash: ./step0.py: Permission denied\n",
    "$ chmod a+x step0.py   # set the executable bit\n",
    "$ ls -al step0.py      # executable bit is set\n",
    "-rwxr-xr-x  1 yungyuc  staff  574 Apr  7 22:18 step0.py*\n",
    "$ ./step0.py pstake.py # properly it runs\n",
    "811 lines in pstake.py\n",
    "```"
   ]
  },
  {
   "cell_type": "markdown",
   "metadata": {
    "slideshow": {
     "slide_type": "subslide"
    }
   },
   "source": [
    "# What’s a script\n",
    "\n",
    "* Scripts usually are for automating repetitive work.\n",
    "* Scripts should be short for quick implementation.\n",
    "\n",
    "The leading line in a script that starts with `#!` is called the *shebang*.  It tells the program loader which executable to run for the script.\n",
    "\n",
    "```python\n",
    "#!/usr/bin/env python3\n",
    "# ...\n",
    "```\n",
    "\n",
    "It won't work if executable permission isn't set on the script."
   ]
  },
  {
   "cell_type": "markdown",
   "metadata": {
    "slideshow": {
     "slide_type": "subslide"
    }
   },
   "source": [
    "# Example: line counting (`step0`)\n",
    "\n",
    "This is the first example: `step0.py` file in the [current directory](./).  It counts the number of lines in the file specified with the first argument."
   ]
  },
  {
   "cell_type": "code",
   "execution_count": 2,
   "metadata": {},
   "outputs": [
    {
     "name": "stdout",
     "output_type": "stream",
     "text": [
      "811 lines in pstake.py\r\n"
     ]
    }
   ],
   "source": [
    "!chmod u+x step0.py\n",
    "!./step0.py pstake.py"
   ]
  },
  {
   "cell_type": "markdown",
   "metadata": {},
   "source": [
    "Another way, regardless the executable bit, to run the script is to explicitly call the Python executable."
   ]
  },
  {
   "cell_type": "code",
   "execution_count": 3,
   "metadata": {},
   "outputs": [
    {
     "name": "stdout",
     "output_type": "stream",
     "text": [
      "811 lines in pstake.py\r\n"
     ]
    }
   ],
   "source": [
    "!chmod u-x step0.py\n",
    "!python3 step0.py pstake.py"
   ]
  },
  {
   "cell_type": "markdown",
   "metadata": {
    "slideshow": {
     "slide_type": "subslide"
    }
   },
   "source": [
    "# One-liner\n",
    "\n",
    "Python executable supports the <font color=\"red\">**`-c`**</font> argument for one-liner.  The content of the script is passed from the command line.  It's called one-liner because it usually only takes one line.\n",
    "\n",
    "One-liners are convenient for code that is only run once.  Quick to write but hard to read."
   ]
  },
  {
   "cell_type": "code",
   "execution_count": 4,
   "metadata": {},
   "outputs": [
    {
     "name": "stdout",
     "output_type": "stream",
     "text": [
      "811 lines\r\n"
     ]
    }
   ],
   "source": [
    "!python3 -c 'print(len(open(\"pstake.py\").readlines()), \"lines\")'"
   ]
  },
  {
   "cell_type": "markdown",
   "metadata": {
    "slideshow": {
     "slide_type": "slide"
    }
   },
   "source": [
    "# Make a module\n",
    "\n",
    "See the example file `step1.py` in the [current directory](./).  It factors out the line-counting code to a distinct function:\n",
    "\n",
    "```python\n",
    "def count_line(fname):\n",
    "    if os.path.exists(fname):\n",
    "        with open(fname) as fobj:\n",
    "            lines = fobj.readlines()\n",
    "        sys.stdout.write('{} lines in {}\\n'.format(len(lines), fname))\n",
    "    else:\n",
    "        sys.stdout.write('{} not found\\n'.format(fname))\n",
    "```"
   ]
  },
  {
   "cell_type": "markdown",
   "metadata": {
    "slideshow": {
     "slide_type": "subslide"
    }
   },
   "source": [
    "The other code is for processing command-line arguments.  It's only useful for a script, so we move it into an `if` test:\n",
    "\n",
    "```python\n",
    "# This tests whether the code is evaluated as a script.\n",
    "if __name__ == '__main__':\n",
    "    if len(sys.argv) < 2:\n",
    "        sys.stdout.write('missing file name\\n')\n",
    "    elif len(sys.argv) > 2:\n",
    "        sys.stdout.write('only one argument is allowed\\n')\n",
    "    else:\n",
    "        count_line(sys.argv[1])\n",
    "```"
   ]
  },
  {
   "cell_type": "markdown",
   "metadata": {
    "slideshow": {
     "slide_type": "subslide"
    }
   },
   "source": [
    "# Different behaviors on import\n",
    "\n",
    "Because **`step1`** checks for `__main__`, when it is imported as a module, nothing happens:"
   ]
  },
  {
   "cell_type": "code",
   "execution_count": 5,
   "metadata": {},
   "outputs": [],
   "source": [
    "!python3 -c 'import step1'"
   ]
  },
  {
   "cell_type": "markdown",
   "metadata": {},
   "source": [
    "But importing **`step0`** runs the code:"
   ]
  },
  {
   "cell_type": "code",
   "execution_count": 6,
   "metadata": {},
   "outputs": [
    {
     "name": "stdout",
     "output_type": "stream",
     "text": [
      "811 lines in pstake.py\r\n"
     ]
    }
   ],
   "source": [
    "!python3 -c 'import step0' pstake.py"
   ]
  },
  {
   "cell_type": "markdown",
   "metadata": {
    "slideshow": {
     "slide_type": "subslide"
    }
   },
   "source": [
    "To run the code, we now need to call the function defined in the **`step1`** module:"
   ]
  },
  {
   "cell_type": "code",
   "execution_count": 7,
   "metadata": {},
   "outputs": [
    {
     "name": "stdout",
     "output_type": "stream",
     "text": [
      "811 lines in pstake.py\r\n"
     ]
    }
   ],
   "source": [
    "!python3 -c 'import step1 ; step1.count_line(\"pstake.py\")'"
   ]
  },
  {
   "cell_type": "markdown",
   "metadata": {
    "slideshow": {
     "slide_type": "-"
    }
   },
   "source": [
    "But when running as a script, both behave the same:"
   ]
  },
  {
   "cell_type": "code",
   "execution_count": 8,
   "metadata": {},
   "outputs": [
    {
     "name": "stdout",
     "output_type": "stream",
     "text": [
      "811 lines in pstake.py\r\n"
     ]
    }
   ],
   "source": [
    "!python3 step0.py pstake.py"
   ]
  },
  {
   "cell_type": "code",
   "execution_count": 9,
   "metadata": {},
   "outputs": [
    {
     "name": "stdout",
     "output_type": "stream",
     "text": [
      "811 lines in pstake.py\r\n"
     ]
    }
   ],
   "source": [
    "!python3 step1.py pstake.py"
   ]
  },
  {
   "cell_type": "markdown",
   "metadata": {
    "slideshow": {
     "slide_type": "subslide"
    }
   },
   "source": [
    "# Run module as script\n",
    "\n",
    "Python executable supports the **`-m`** argument.  It imports the script as a module, and still runs it as a script."
   ]
  },
  {
   "cell_type": "code",
   "execution_count": 10,
   "metadata": {},
   "outputs": [
    {
     "name": "stdout",
     "output_type": "stream",
     "text": [
      "811 lines in pstake.py\r\n"
     ]
    }
   ],
   "source": [
    "!python3 -m step1 pstake.py"
   ]
  },
  {
   "cell_type": "markdown",
   "metadata": {},
   "source": [
    "With `python -m`, `step0.py` and `step1.py` again behave the same:"
   ]
  },
  {
   "cell_type": "code",
   "execution_count": 11,
   "metadata": {},
   "outputs": [
    {
     "name": "stdout",
     "output_type": "stream",
     "text": [
      "811 lines in pstake.py\r\n"
     ]
    }
   ],
   "source": [
    "!python3 -m step0 pstake.py"
   ]
  },
  {
   "cell_type": "markdown",
   "metadata": {
    "slideshow": {
     "slide_type": "slide"
    }
   },
   "source": [
    "# Make the module more like a library\n",
    "\n",
    "It's common to further factor out the code for script to a **`main`** function.  See the example file `step2.py` in the [current directory](./).\n",
    "\n",
    "```python\n",
    "def main():\n",
    "    if len(sys.argv) < 2:\n",
    "        sys.stdout.write('missing file name\\n')\n",
    "    elif len(sys.argv) > 2:\n",
    "        sys.stdout.write('only one argument is allowed\\n')\n",
    "    else:\n",
    "        count_line(sys.argv[1])\n",
    "\n",
    "\n",
    "# This tests whether the file is evaluated as a script.\n",
    "if __name__ == '__main__':\n",
    "    main()\n",
    "```"
   ]
  },
  {
   "cell_type": "markdown",
   "metadata": {
    "slideshow": {
     "slide_type": "subslide"
    }
   },
   "source": [
    "The behavior is the same as **`step1`**:"
   ]
  },
  {
   "cell_type": "code",
   "execution_count": 12,
   "metadata": {},
   "outputs": [
    {
     "name": "stdout",
     "output_type": "stream",
     "text": [
      "811 lines in pstake.py\r\n"
     ]
    }
   ],
   "source": [
    "# run as a script\n",
    "!python3 step2.py pstake.py"
   ]
  },
  {
   "cell_type": "code",
   "execution_count": 13,
   "metadata": {},
   "outputs": [
    {
     "name": "stdout",
     "output_type": "stream",
     "text": [
      "811 lines in pstake.py\r\n"
     ]
    }
   ],
   "source": [
    "# run the module as a script\n",
    "!python3 -m step2 pstake.py"
   ]
  },
  {
   "cell_type": "code",
   "execution_count": 14,
   "metadata": {},
   "outputs": [],
   "source": [
    "# only import the module\n",
    "!python3 -c 'import step2'"
   ]
  },
  {
   "cell_type": "code",
   "execution_count": 15,
   "metadata": {},
   "outputs": [
    {
     "name": "stdout",
     "output_type": "stream",
     "text": [
      "811 lines in pstake.py\r\n"
     ]
    }
   ],
   "source": [
    "# import and then run the new main function\n",
    "!python3 -c 'import step2 ; step2.main()' pstake.py"
   ]
  },
  {
   "cell_type": "markdown",
   "metadata": {
    "slideshow": {
     "slide_type": "slide"
    }
   },
   "source": [
    "# Make a package\n",
    "\n",
    "When the code grows to a point, you may need a directory to house it.  Let's use our simple example to show how to make a package.  See the [step3 example directory](./step3/).\n",
    "\n",
    "No file in the package version `step3` can be run as a script."
   ]
  },
  {
   "cell_type": "code",
   "execution_count": 16,
   "metadata": {},
   "outputs": [
    {
     "name": "stdout",
     "output_type": "stream",
     "text": [
      "Traceback (most recent call last):\r\n",
      "  File \"step3/__init__.py\", line 11, in <module>\r\n",
      "    from ._core import count_line\r\n",
      "ImportError: attempted relative import with no known parent package\r\n"
     ]
    }
   ],
   "source": [
    "# The package __init__.py doesn't work like a module.\n",
    "!python3 step3/__init__.py numpy.ipynb"
   ]
  },
  {
   "cell_type": "markdown",
   "metadata": {
    "slideshow": {
     "slide_type": "subslide"
    }
   },
   "source": [
    "Everything else remains working, including the `-m` option of Python executable."
   ]
  },
  {
   "cell_type": "code",
   "execution_count": 17,
   "metadata": {},
   "outputs": [
    {
     "name": "stdout",
     "output_type": "stream",
     "text": [
      "1479 lines in numpy.ipynb\r\n"
     ]
    }
   ],
   "source": [
    "!python3 -m step3 numpy.ipynb"
   ]
  },
  {
   "cell_type": "code",
   "execution_count": 18,
   "metadata": {},
   "outputs": [
    {
     "name": "stdout",
     "output_type": "stream",
     "text": [
      "1479 lines in numpy.ipynb\r\n"
     ]
    }
   ],
   "source": [
    "!python3 -c 'import step3 ; step3.main()' numpy.ipynb"
   ]
  },
  {
   "cell_type": "markdown",
   "metadata": {
    "slideshow": {
     "slide_type": "subslide"
    }
   },
   "source": [
    "# A really useful script\n",
    "\n",
    "Here I show a real-world example (`pstake.py` in the [current directory](./)) for how to write a useful script: convert [pstricks](http://tug.org/PSTricks/main.cgi/) to an image file."
   ]
  },
  {
   "cell_type": "code",
   "execution_count": 19,
   "metadata": {},
   "outputs": [
    {
     "name": "stdout",
     "output_type": "stream",
     "text": [
      "ls: cce.png: No such file or directory\n",
      "-rw-r--r--  1 yungyuc  staff  21458 Sep 30 21:45 cce.png\n"
     ]
    },
    {
     "data": {
      "text/html": [
       "<img src=\"cce.png\" width=\"800\"/>"
      ],
      "text/plain": [
       "<IPython.core.display.Image object>"
      ]
     },
     "execution_count": 19,
     "metadata": {},
     "output_type": "execute_result"
    }
   ],
   "source": [
    "!rm -f cce.png\n",
    "!ls cce.png\n",
    "!./pstake.py cce.tex cce.png 2>&1 > /dev/null\n",
    "!ls -al cce.png\n",
    "Image(url=\"cce.png\", width=800)"
   ]
  },
  {
   "cell_type": "markdown",
   "metadata": {
    "slideshow": {
     "slide_type": "slide"
    }
   },
   "source": [
    "# Numpy for array-centric code\n",
    "\n",
    "* Arrays are the best tool to manage homogeneous data.\n",
    "* The [numpy](http://www.numpy.org/) library provides everything we need for arrays in Python.\n",
    "* Arrays use contigous memory, sequence doesn't."
   ]
  },
  {
   "cell_type": "code",
   "execution_count": 20,
   "metadata": {},
   "outputs": [
    {
     "name": "stdout",
     "output_type": "stream",
     "text": [
      "A list: [1, 1, 2, 3, 5]\n"
     ]
    }
   ],
   "source": [
    "# Make a list (one type of Python sequence) of integers.\n",
    "lst = [1, 1, 2, 3, 5]\n",
    "print('A list:', lst)"
   ]
  },
  {
   "cell_type": "code",
   "execution_count": 21,
   "metadata": {},
   "outputs": [
    {
     "name": "stdout",
     "output_type": "stream",
     "text": [
      "An array: [1 1 2 3 5]\n"
     ]
    }
   ],
   "source": [
    "# Import the numpy library. It's a universal convention to alias it to \"np\".\n",
    "import numpy as np\n",
    "# Make an array from the sequence.\n",
    "array = np.array(lst)\n",
    "print('An array:', np.array(array))"
   ]
  },
  {
   "cell_type": "markdown",
   "metadata": {
    "slideshow": {
     "slide_type": "subslide"
    }
   },
   "source": [
    "# Key meta-data"
   ]
  },
  {
   "cell_type": "code",
   "execution_count": 22,
   "metadata": {},
   "outputs": [
    {
     "name": "stdout",
     "output_type": "stream",
     "text": [
      "shape: (2, 3)\n",
      "size: 6\n",
      "nbytes: 48\n",
      "itemsize: 8\n",
      "dtype: int64\n"
     ]
    }
   ],
   "source": [
    "array = np.array([[0, 1, 2], [3, 4, 5]])\n",
    "print(\"shape:\", array.shape)\n",
    "print(\"size:\", array.size)\n",
    "print(\"nbytes:\", array.nbytes)\n",
    "print(\"itemsize:\", array.itemsize)\n",
    "print(\"dtype:\", array.dtype)"
   ]
  },
  {
   "cell_type": "markdown",
   "metadata": {
    "slideshow": {
     "slide_type": "slide"
    }
   },
   "source": [
    "# Data type\n",
    "\n",
    "The numpy array is of type `numpy.ndarray`.  An `ndarray` has a property `dtype` for the data type the array uses:"
   ]
  },
  {
   "cell_type": "code",
   "execution_count": 23,
   "metadata": {},
   "outputs": [
    {
     "name": "stdout",
     "output_type": "stream",
     "text": [
      "<class 'numpy.ndarray'>\n",
      "int64\n"
     ]
    }
   ],
   "source": [
    "print(type(array))\n",
    "print(array.dtype)"
   ]
  },
  {
   "cell_type": "markdown",
   "metadata": {
    "slideshow": {
     "slide_type": "subslide"
    }
   },
   "source": [
    "`numpy.array` is the most basic `ndarray` constructor.  It detects the types in the input sequence data and choose the appropriate dtype for the constructed array."
   ]
  },
  {
   "cell_type": "code",
   "execution_count": 24,
   "metadata": {},
   "outputs": [
    {
     "name": "stdout",
     "output_type": "stream",
     "text": [
      "only int: [1 1 2 3 5] <class 'numpy.ndarray'> int64\n",
      "only real: [1. 1. 2. 3. 5.] <class 'numpy.ndarray'> float64\n",
      "int and real: [1. 1. 2. 3. 5.] <class 'numpy.ndarray'> float64\n"
     ]
    }
   ],
   "source": [
    "array1 = np.array([1, 1, 2, 3, 5]) # only integer\n",
    "print(\"only int:\", array1, type(array1), array1.dtype)\n",
    "array2 = np.array([1.0, 1.0, 2.0, 3.0, 5.0]) # only real\n",
    "print(\"only real:\", array2, type(array2), array2.dtype)\n",
    "array3 = np.array([1, 1, 2, 3, 5.0]) # integer and real\n",
    "print(\"int and real:\", array3, type(array3), array3.dtype)"
   ]
  },
  {
   "cell_type": "markdown",
   "metadata": {
    "slideshow": {
     "slide_type": "-"
    }
   },
   "source": [
    "* A Python list doesn't know the type it contains, but an array does.\n",
    "* The type information allows numpy to process the array data using pre-compiled C code."
   ]
  },
  {
   "cell_type": "markdown",
   "metadata": {
    "slideshow": {
     "slide_type": "slide"
    }
   },
   "source": [
    "# Construction\n",
    "\n",
    "Numpy provides a lot of helpers to construct arrays ([see here](https://www.numpy.org/devdocs/reference/routines.array-creation.html)).  The 3 most common constructors are `empty`, `zeros`, and `ones`:"
   ]
  },
  {
   "cell_type": "code",
   "execution_count": 25,
   "metadata": {},
   "outputs": [
    {
     "name": "stdout",
     "output_type": "stream",
     "text": [
      "It will contain garbage, but it doesn't waste time to initialize: [5.e-324 5.e-324 5.e-324 0.e+000]\n",
      "The contents are cleared with zeros: [0. 0. 0. 0.]\n",
      "Instead of zeros, fill it with ones: [1. 1. 1. 1.]\n",
      "All of their data types are float64 (double-precision floating-point): float64 float64 float64\n"
     ]
    }
   ],
   "source": [
    "empty_array = np.empty(4)\n",
    "print(\"It will contain garbage, but it doesn't waste time to initialize:\", empty_array)\n",
    "zeroed_array = np.zeros(4)\n",
    "print(\"The contents are cleared with zeros:\", zeroed_array)\n",
    "unity_array = np.ones(4)\n",
    "print(\"Instead of zeros, fill it with ones:\", unity_array)\n",
    "print(\"All of their data types are float64 (double-precision floating-point):\",\n",
    "      empty_array.dtype, zeroed_array.dtype, unity_array.dtype)"
   ]
  },
  {
   "cell_type": "markdown",
   "metadata": {
    "slideshow": {
     "slide_type": "subslide"
    }
   },
   "source": [
    "* `full` is a shorthand for `empty` and `fill`:"
   ]
  },
  {
   "cell_type": "code",
   "execution_count": 26,
   "metadata": {},
   "outputs": [
    {
     "name": "stdout",
     "output_type": "stream",
     "text": [
      "It's the same as creating an empty array and fill the value: [7. 7. 7. 7.]\n",
      "Build an array populated with an arbitrary value: [7 7 7 7]\n",
      "Build an array populated with an arbitrary real value: [7. 7. 7. 7.]\n"
     ]
    }
   ],
   "source": [
    "empty_array = np.empty(4)\n",
    "empty_array.fill(7)\n",
    "print(\"It's the same as creating an empty array and fill the value:\", empty_array)\n",
    "filled_array = np.full(4, 7)\n",
    "print(\"Build an array populated with an arbitrary value:\", filled_array)\n",
    "filled_real_array = np.full(4, 7.0)\n",
    "print(\"Build an array populated with an arbitrary real value:\", filled_real_array)"
   ]
  },
  {
   "cell_type": "markdown",
   "metadata": {
    "slideshow": {
     "slide_type": "-"
    }
   },
   "source": [
    "* `arange` builds a monotonically increasing array:"
   ]
  },
  {
   "cell_type": "code",
   "execution_count": 27,
   "metadata": {
    "slideshow": {
     "slide_type": "-"
    }
   },
   "outputs": [
    {
     "name": "stdout",
     "output_type": "stream",
     "text": [
      "Build an array with range: [0 1 2 3]\n",
      "Build with real range: [0. 1. 2. 3.]\n"
     ]
    }
   ],
   "source": [
    "ranged_array = np.arange(4)\n",
    "print(\"Build an array with range:\", ranged_array)\n",
    "ranged_real_array = np.arange(4.0)\n",
    "print(\"Build with real range:\", ranged_real_array)"
   ]
  },
  {
   "cell_type": "markdown",
   "metadata": {
    "slideshow": {
     "slide_type": "subslide"
    }
   },
   "source": [
    "`linspace` returns an array whose elements are evenly placed in a closed interval:"
   ]
  },
  {
   "cell_type": "code",
   "execution_count": 28,
   "metadata": {},
   "outputs": [
    {
     "name": "stdout",
     "output_type": "stream",
     "text": [
      "Create an equally-spaced array with 6 elements: [11.  11.4 11.8 12.2 12.6 13. ]\n"
     ]
    }
   ],
   "source": [
    "linear_array = np.linspace(11, 13, num=6)\n",
    "print(\"Create an equally-spaced array with 6 elements:\", linear_array)"
   ]
  },
  {
   "cell_type": "markdown",
   "metadata": {
    "slideshow": {
     "slide_type": "slide"
    }
   },
   "source": [
    "# Multi-dimensional arrays\n",
    "\n",
    "* Multi-dimensional arrays are the building-block of matrices and linear algebra.  Much more useful than one-dimensional arrays.\n",
    "* Create multi-dimensional arrays by stacking 1D:"
   ]
  },
  {
   "cell_type": "code",
   "execution_count": 29,
   "metadata": {},
   "outputs": [
    {
     "name": "stdout",
     "output_type": "stream",
     "text": [
      "A 1D array: [0 1 2 3 4 5 6 7 8 9]\n",
      "Horizontally stacked array: [0 1 2 3 4 5 6 7 8 9 0 1 2 3 4 5 6 7 8 9]\n",
      "Vertically stacked array: [[0 1 2 3 4 5 6 7 8 9]\n",
      " [0 1 2 3 4 5 6 7 8 9]]\n"
     ]
    }
   ],
   "source": [
    "ranged_array = np.arange(10)\n",
    "print(\"A 1D array:\", ranged_array)\n",
    "hstack_array = np.hstack([ranged_array, ranged_array])\n",
    "print(\"Horizontally stacked array:\", hstack_array)\n",
    "vstack_array = np.vstack([ranged_array, ranged_array])\n",
    "print(\"Vertically stacked array:\", vstack_array)"
   ]
  },
  {
   "cell_type": "markdown",
   "metadata": {
    "slideshow": {
     "slide_type": "subslide"
    }
   },
   "source": [
    "* `ndarray` by default is row-majoring:\n",
    "\n",
    "\\begin{align*}\n",
    "A = \\left(\\begin{array}{ccc}\n",
    "a_{00} & a_{01} & a_{02} \\\\\n",
    "a_{10} & a_{11} & a_{12}\n",
    "\\end{array}\\right)\n",
    "= \\left(\\begin{array}{ccc}\n",
    "0 & 1 & 2 \\\\\n",
    "3 & 4 & 5\n",
    "\\end{array}\\right)\n",
    "\\end{align*}"
   ]
  },
  {
   "cell_type": "code",
   "execution_count": 30,
   "metadata": {
    "slideshow": {
     "slide_type": "-"
    }
   },
   "outputs": [
    {
     "name": "stdout",
     "output_type": "stream",
     "text": [
      "original 1D array: [0 1 2 3 4 5]\n"
     ]
    }
   ],
   "source": [
    "original_array = np.arange(6)\n",
    "print(\"original 1D array:\", original_array)"
   ]
  },
  {
   "cell_type": "code",
   "execution_count": 31,
   "metadata": {
    "slideshow": {
     "slide_type": "-"
    }
   },
   "outputs": [
    {
     "name": "stdout",
     "output_type": "stream",
     "text": [
      "reshaped 2D array: [[0 1 2]\n",
      " [3 4 5]]\n"
     ]
    }
   ],
   "source": [
    "print(\"reshaped 2D array:\", original_array.reshape((2,3)))"
   ]
  },
  {
   "cell_type": "markdown",
   "metadata": {},
   "source": [
    "* Column-majoring:"
   ]
  },
  {
   "cell_type": "code",
   "execution_count": 32,
   "metadata": {},
   "outputs": [
    {
     "name": "stdout",
     "output_type": "stream",
     "text": [
      "reshaped 2D array: [[0 2 4]\n",
      " [1 3 5]]\n"
     ]
    }
   ],
   "source": [
    "print(\"reshaped 2D array:\", original_array.reshape((2,3), order='f'))"
   ]
  },
  {
   "cell_type": "markdown",
   "metadata": {
    "slideshow": {
     "slide_type": "subslide"
    }
   },
   "source": [
    "Example for 3D arrays:"
   ]
  },
  {
   "cell_type": "code",
   "execution_count": 33,
   "metadata": {
    "slideshow": {
     "slide_type": "-"
    }
   },
   "outputs": [
    {
     "name": "stdout",
     "output_type": "stream",
     "text": [
      "original 1D array: [ 0  1  2  3  4  5  6  7  8  9 10 11 12 13 14 15 16 17 18 19 20 21 22 23]\n"
     ]
    }
   ],
   "source": [
    "original_array = np.arange(24)\n",
    "print(\"original 1D array:\", original_array)"
   ]
  },
  {
   "cell_type": "code",
   "execution_count": 34,
   "metadata": {
    "slideshow": {
     "slide_type": "-"
    }
   },
   "outputs": [
    {
     "name": "stdout",
     "output_type": "stream",
     "text": [
      "reshaped 3D array: [[[ 0  1  2  3]\n",
      "  [ 4  5  6  7]\n",
      "  [ 8  9 10 11]]\n",
      "\n",
      " [[12 13 14 15]\n",
      "  [16 17 18 19]\n",
      "  [20 21 22 23]]]\n"
     ]
    }
   ],
   "source": [
    "reshaped_array = original_array.reshape((2,3,4))\n",
    "print(\"reshaped 3D array:\", reshaped_array)"
   ]
  },
  {
   "cell_type": "markdown",
   "metadata": {
    "slideshow": {
     "slide_type": "subslide"
    }
   },
   "source": [
    "For multi-dimensional arrays, operations can be done along any of the axes.  Take 2D for example.  First sum along the 0th-axis:\n",
    "\n",
    "\\begin{align*}\n",
    "A_{\\mathrm{along } 0} = \\left(\\begin{array}{ccc}\n",
    "a_{00} + a_{10} & a_{01} + a_{11} & a_{02} + a_{12}\n",
    "\\end{array}\\right)\n",
    "= \\left(\\begin{array}{ccc}\n",
    "3 & 5 & 7\n",
    "\\end{array}\\right)\n",
    "\\end{align*}\n",
    "\n",
    "Do it along the 1st-axis:\n",
    "\n",
    "\\begin{align*}\n",
    "A_{\\mathrm{along } 1} = \\left(\\begin{array}{cc}\n",
    "a_{00} + a_{01} + a_{02} & a_{10} + a_{11} + a_{12}\n",
    "\\end{array}\\right)\n",
    "= \\left(\\begin{array}{ccc}\n",
    "3 & 12\n",
    "\\end{array}\\right)\n",
    "\\end{align*}"
   ]
  },
  {
   "cell_type": "code",
   "execution_count": 35,
   "metadata": {},
   "outputs": [
    {
     "name": "stdout",
     "output_type": "stream",
     "text": [
      "Summation along 0th axis: [[12 14 16 18]\n",
      " [20 22 24 26]\n",
      " [28 30 32 34]]\n"
     ]
    }
   ],
   "source": [
    "print(\"Summation along 0th axis:\", reshaped_array.sum(axis=0))"
   ]
  },
  {
   "cell_type": "code",
   "execution_count": 36,
   "metadata": {},
   "outputs": [
    {
     "name": "stdout",
     "output_type": "stream",
     "text": [
      "Summation along 1st axis: [[12 15 18 21]\n",
      " [48 51 54 57]]\n"
     ]
    }
   ],
   "source": [
    "print(\"Summation along 1st axis:\", reshaped_array.sum(axis=1))"
   ]
  },
  {
   "cell_type": "markdown",
   "metadata": {
    "slideshow": {
     "slide_type": "slide"
    }
   },
   "source": [
    "# Selection: extract sub-array\n",
    "\n",
    "There are 3 ways to create sub-arrays:\n",
    "1. Slicing\n",
    "2. Integer indexing\n",
    "3. Boolean indexing"
   ]
  },
  {
   "cell_type": "markdown",
   "metadata": {
    "slideshow": {
     "slide_type": "subslide"
    }
   },
   "source": [
    "# Slicing\n",
    "\n",
    "The array created from slicing shares the buffer of the original one:"
   ]
  },
  {
   "cell_type": "code",
   "execution_count": 37,
   "metadata": {},
   "outputs": [
    {
     "name": "stdout",
     "output_type": "stream",
     "text": [
      "This is the original array: [0 1 2 3 4 5 6 7 8 9]\n",
      "This is the sub-array: [0 1 2 3 4]\n",
      "The sub-array is changed: [4 3 2 1 0]\n",
      "And the original array is changed too (!): [4 3 2 1 0 5 6 7 8 9]\n"
     ]
    }
   ],
   "source": [
    "array = np.arange(10)\n",
    "print(\"This is the original array:\", array)\n",
    "\n",
    "sub_array = array[:5]\n",
    "print(\"This is the sub-array:\", sub_array)\n",
    "\n",
    "sub_array[:] = np.arange(4, -1, -1)\n",
    "print(\"The sub-array is changed:\", sub_array)\n",
    "\n",
    "print(\"And the original array is changed too (!):\", array)"
   ]
  },
  {
   "cell_type": "markdown",
   "metadata": {
    "slideshow": {
     "slide_type": "subslide"
    }
   },
   "source": [
    "New buffer can be created by copying the returned array:"
   ]
  },
  {
   "cell_type": "code",
   "execution_count": 38,
   "metadata": {
    "slideshow": {
     "slide_type": "-"
    }
   },
   "outputs": [
    {
     "name": "stdout",
     "output_type": "stream",
     "text": [
      "Recreate the original array to show how to avoid this: [0. 1. 2. 3. 4. 5. 6. 7. 8. 9.]\n",
      "The sub-array is changed, again: [4. 3. 2. 1. 0.]\n",
      "But original array remains the same: [0. 1. 2. 3. 4. 5. 6. 7. 8. 9.]\n"
     ]
    }
   ],
   "source": [
    "array = np.arange(10.0)\n",
    "print(\"Recreate the original array to show how to avoid this:\", array)\n",
    "\n",
    "# Make a copy from the slice.\n",
    "sub_array = array[:5].copy()\n",
    "sub_array[:] = np.arange(4, -1, -1)\n",
    "print(\"The sub-array is changed, again:\", sub_array)\n",
    "print(\"But original array remains the same:\", array)"
   ]
  },
  {
   "cell_type": "markdown",
   "metadata": {
    "slideshow": {
     "slide_type": "subslide"
    }
   },
   "source": [
    "Slice one dimension in a multi-dimensional array:"
   ]
  },
  {
   "cell_type": "code",
   "execution_count": 39,
   "metadata": {
    "slideshow": {
     "slide_type": "-"
    }
   },
   "outputs": [
    {
     "name": "stdout",
     "output_type": "stream",
     "text": [
      "orignal:\n",
      "[[[ 0  1  2  3]\n",
      "  [ 4  5  6  7]\n",
      "  [ 8  9 10 11]]\n",
      "\n",
      " [[12 13 14 15]\n",
      "  [16 17 18 19]\n",
      "  [20 21 22 23]]]\n",
      "find 300, 301:\n",
      "[[[  0   1   2   3]\n",
      "  [  4   5   6 300]\n",
      "  [  8   9  10  11]]\n",
      "\n",
      " [[ 12  13  14  15]\n",
      "  [ 16  17  18 301]\n",
      "  [ 20  21  22  23]]]\n"
     ]
    }
   ],
   "source": [
    "array = np.arange(24).reshape((2,3,4))\n",
    "print(\"orignal:\\n%s\" % array)\n",
    "array[:,1,3] = np.arange(300,302)\n",
    "print(\"find 300, 301:\\n%s\" % array)"
   ]
  },
  {
   "cell_type": "markdown",
   "metadata": {
    "slideshow": {
     "slide_type": "subslide"
    }
   },
   "source": [
    "Slice two dimensions in a multi-dimensional array:"
   ]
  },
  {
   "cell_type": "code",
   "execution_count": 40,
   "metadata": {},
   "outputs": [
    {
     "name": "stdout",
     "output_type": "stream",
     "text": [
      "orignal:\n",
      "[[[ 0  1  2  3]\n",
      "  [ 4  5  6  7]\n",
      "  [ 8  9 10 11]]\n",
      "\n",
      " [[12 13 14 15]\n",
      "  [16 17 18 19]\n",
      "  [20 21 22 23]]]\n",
      "find the number [200,208):\n",
      "[[[200 201 202 203]\n",
      "  [  4   5   6   7]\n",
      "  [  8   9  10  11]]\n",
      "\n",
      " [[204 205 206 207]\n",
      "  [ 16  17  18  19]\n",
      "  [ 20  21  22  23]]]\n"
     ]
    }
   ],
   "source": [
    "array = np.arange(24).reshape((2,3,4))\n",
    "print(\"orignal:\\n%s\" % array)\n",
    "array[:,0,:] = np.arange(200,208).reshape((2,4))\n",
    "print(\"find the number [200,208):\\n%s\" % array)"
   ]
  },
  {
   "cell_type": "markdown",
   "metadata": {
    "slideshow": {
     "slide_type": "subslide"
    }
   },
   "source": [
    "# Integer indexing"
   ]
  },
  {
   "cell_type": "code",
   "execution_count": 41,
   "metadata": {},
   "outputs": [
    {
     "name": "stdout",
     "output_type": "stream",
     "text": [
      "select by indice 1, 3: [101 103]\n",
      "new array is bigger than the old one: [100 100 101 101 102 102 103 103 104 104 105 105]\n",
      "select by indice 1: [[103 104 105]]\n",
      "select by indice (0,0), (0,1), (1,2): [100 101 105] using [[0 0]\n",
      " [0 1]\n",
      " [1 2]]\n"
     ]
    }
   ],
   "source": [
    "array = np.arange(100, 106)\n",
    "slct = np.array([1, 3])\n",
    "print(\"select by indice 1, 3:\", array[slct])\n",
    "slct = np.array([0, 0, 1, 1, 2, 2, 3, 3, 4, 4, 5, 5])\n",
    "print(\"new array is bigger than the old one:\", array[slct])\n",
    "array2 = array.reshape((2,3))\n",
    "slct = np.array([1])\n",
    "print(\"select by indice 1:\", array2[slct])\n",
    "slct = np.array([[0,0], [0,1], [1,2]])\n",
    "print(\"select by indice (0,0), (0,1), (1,2):\", array2[slct[:,0],slct[:,1]],\n",
    "      \"using\", slct)"
   ]
  },
  {
   "cell_type": "markdown",
   "metadata": {
    "slideshow": {
     "slide_type": "subslide"
    }
   },
   "source": [
    "# Boolean selection\n",
    "\n",
    "The Boolean arrays filter wanted or unwanted elements in another array."
   ]
  },
  {
   "cell_type": "code",
   "execution_count": 42,
   "metadata": {},
   "outputs": [
    {
     "name": "stdout",
     "output_type": "stream",
     "text": [
      "The mask for less than 5: [ True  True  True  True  True False False False False False]\n",
      "The values that are less than 5 [0 1 2 3 4]\n",
      "All on mask: [ True  True  True  True  True  True  True  True  True  True]\n",
      "All off mask: [False False False False False False False False False False]\n"
     ]
    }
   ],
   "source": [
    "less_than_5 = ranged_array < 5\n",
    "print(\"The mask for less than 5:\", less_than_5)\n",
    "print(\"The values that are less than 5\", ranged_array[less_than_5])\n",
    "\n",
    "all_on_mask = np.ones(10, dtype='bool')\n",
    "print(\"All on mask:\", all_on_mask)\n",
    "\n",
    "all_off_mask = np.zeros(10, dtype='bool')\n",
    "print(\"All off mask:\", all_off_mask)"
   ]
  },
  {
   "cell_type": "markdown",
   "metadata": {
    "slideshow": {
     "slide_type": "slide"
    }
   },
   "source": [
    "# Broadcasting\n",
    "\n",
    "[Broadcasting](https://docs.scipy.org/doc/numpy-1.16.1/reference/ufuncs.html#broadcasting) handles arrays of different shapes participating in an operation.\n",
    "\n",
    "1. All input arrays with number of dimension smaller than the input array of largest number of dimension, have 1’s prepended to their shapes.\n",
    "2. The size in each dimension of the output shape is the maximum of all the input sizes in that dimension.\n",
    "3. An input can be used in the calculation if its size in a particular dimension either matches the output size in that dimension, or has value exactly 1.\n",
    "4. If an input has a dimension size of 1 in its shape, the first data entry in that dimension will be used for all calculations along that dimension."
   ]
  },
  {
   "cell_type": "markdown",
   "metadata": {
    "slideshow": {
     "slide_type": "subslide"
    }
   },
   "source": [
    "Broadcasting is to handle arrays of different shapes."
   ]
  },
  {
   "cell_type": "code",
   "execution_count": 43,
   "metadata": {},
   "outputs": [
    {
     "name": "stdout",
     "output_type": "stream",
     "text": [
      "a = [0 1]\n",
      "b = [10 11]\n",
      "a+b = [10 12]\n",
      "c = [0 1 2]\n",
      "cannot do a+c: a.shape (2,) != c.shape (3,)\n"
     ]
    }
   ],
   "source": [
    "a = np.arange(2); print(\"a =\", a)\n",
    "b = np.arange(10,12); print(\"b =\", b)\n",
    "print(\"a+b =\", a+b) # good: same shape\n",
    "c = np.arange(3); print(\"c =\", c)\n",
    "try:\n",
    "    print(a+c)\n",
    "except ValueError:\n",
    "    print(\"cannot do a+c: a.shape %s != c.shape %s\" % (a.shape, c.shape))"
   ]
  },
  {
   "cell_type": "code",
   "execution_count": 44,
   "metadata": {
    "slideshow": {
     "slide_type": "subslide"
    }
   },
   "outputs": [
    {
     "name": "stdout",
     "output_type": "stream",
     "text": [
      "[[5]\n",
      " [6]] [[10 11 12]] [100 101 102] 1000\n",
      "(2, 1) (1, 3) (3,) ()\n",
      "[[0 1 2]\n",
      " [3 4 5]] (2, 3)\n",
      "[[50 55 60]\n",
      " [60 66 72]]\n"
     ]
    }
   ],
   "source": [
    "a = np.arange(5,7).reshape((2,1))\n",
    "b = np.arange(10,13).reshape((1,3))\n",
    "c = np.arange(100,103)\n",
    "d = np.array(1000)\n",
    "print(a, b, c, d)\n",
    "print(a.shape, b.shape, c.shape, d.shape)\n",
    "v = np.arange(2*3).reshape((2,3))\n",
    "print(v, v.shape)\n",
    "print(a*b)"
   ]
  },
  {
   "cell_type": "markdown",
   "metadata": {
    "slideshow": {
     "slide_type": "slide"
    }
   },
   "source": [
    "# Python tools for numerical analysis\n",
    "\n",
    "There are two equally important activities for software development.  One is to write code.  We will need to learn some basic concepts to write meaningful code.\n",
    "\n",
    "The other is to use code written by other people.  Especially in the early stage of development, we want to quickly see the results.  We may just use the results of other software.  We may directly incoporate the foreign (usually, also called \"third-party\") software, if the situation allows.  Otherwise, we can replace the quick prototype in a later phase.\n",
    "\n",
    "In this lecture, I will introduce 4 useful tools for numerical analysis that you may use thoughout the course and your future work."
   ]
  },
  {
   "cell_type": "markdown",
   "metadata": {
    "slideshow": {
     "slide_type": "subslide"
    }
   },
   "source": [
    "# Jupyter (notebook)\n",
    "\n",
    "\"Project Jupyter exists to develop open-source software, open-standards, and services for interactive computing across dozens of programming languages.\" -- https://jupyter.org\n",
    "\n",
    "* This presentation is done by using Jupyter\n",
    "* Show the code and run it in the same time\n",
    "* Terminal access\n",
    "* File management\n",
    "* JupyterLab integrated environment"
   ]
  },
  {
   "cell_type": "markdown",
   "metadata": {
    "slideshow": {
     "slide_type": "subslide"
    }
   },
   "source": [
    "Jupyter is a client-server system.  What we are touching and playing is its \"frontend\", the interactive user interface.  It talks to the \"backend\", which is called a Jupyter kernel.  See the following image ([source](https://jupyter.readthedocs.io/en/latest/architecture/how_jupyter_ipython_work.html)):\n",
    "\n",
    "<center><img src=\"https://jupyter.readthedocs.io/en/latest/_images/notebook_components.png\" alt=\"Jupyter distributed architecture\" /></center>\n",
    "\n",
    "The system is distributed.  The browser and the Jupyter server run on different computers and HTTP is used to connect them.  The kernel can also be configured to run on a different computer than the server."
   ]
  },
  {
   "cell_type": "markdown",
   "metadata": {
    "slideshow": {
     "slide_type": "subslide"
    }
   },
   "source": [
    "Jupyter has 3 types of cells:\n",
    "\n",
    "1. Code.  The content will be executed.\n",
    "2. [Markdown](https://jupyter-notebook.readthedocs.io/en/stable/notebook.html#markdown-cells).  Use a mark-up language called \"[markdown](https://daringfireball.net/projects/markdown/)\" to format text.\n",
    "3. Raw nbconvert.  Jupyter skip processing the content and pass is through to other converting tools.\n",
    "\n",
    "Most of the time we only care about the interactive computing capability provided by the code cell."
   ]
  },
  {
   "cell_type": "markdown",
   "metadata": {
    "slideshow": {
     "slide_type": "subslide"
    }
   },
   "source": [
    "# Python code"
   ]
  },
  {
   "cell_type": "code",
   "execution_count": 45,
   "metadata": {},
   "outputs": [
    {
     "name": "stdout",
     "output_type": "stream",
     "text": [
      "dot product between v1 and v2: 0.0\n",
      "v1 length: 1.7320508075688772\n"
     ]
    }
   ],
   "source": [
    "import numpy as np\n",
    "v1 = np.array([1,1,1], dtype='float64')\n",
    "v2 = np.array([1,-1,0], dtype='float64')\n",
    "print(\"dot product between v1 and v2:\", v1.dot(v2))\n",
    "print(\"v1 length:\", np.sqrt((v1**2).sum()))"
   ]
  },
  {
   "cell_type": "code",
   "execution_count": 46,
   "metadata": {},
   "outputs": [
    {
     "name": "stdout",
     "output_type": "stream",
     "text": [
      "trigonometric function at 30 degree: 0.49999999999999994 0.8660254037844387 0.5773502691896256\n"
     ]
    }
   ],
   "source": [
    "# simple math\n",
    "d = 30.*np.pi/180.\n",
    "print(\"trigonometric function at 30 degree:\", np.sin(d), np.cos(d), np.tan(d))"
   ]
  },
  {
   "cell_type": "markdown",
   "metadata": {
    "slideshow": {
     "slide_type": "subslide"
    }
   },
   "source": [
    "# IPython magic"
   ]
  },
  {
   "cell_type": "markdown",
   "metadata": {},
   "source": [
    "[IPython](https://ipython.readthedocs.io/) provides the Jupyter kernel for enhanced interactive execution.  The \"magic\" are part of the enhancements.  There are two types of magic commands: line and cell.  A line magic is a line starting with \"`%`\"."
   ]
  },
  {
   "cell_type": "code",
   "execution_count": 47,
   "metadata": {},
   "outputs": [
    {
     "name": "stdout",
     "output_type": "stream",
     "text": [
      "['/Users/yungyuc/hack/code/nsd/notebook/numpy', '/Users/yungyuc/hack/usr/opt37_190418/lib/python37.zip', '/Users/yungyuc/hack/usr/opt37_190418/lib/python3.7', '/Users/yungyuc/hack/usr/opt37_190418/lib/python3.7/lib-dynload', '', '/Users/yungyuc/.local/lib/python3.7/site-packages', '/Users/yungyuc/hack/usr/opt37_190418/lib/python3.7/site-packages', '/Users/yungyuc/hack/usr/opt37_190418/lib/python3.7/site-packages/Cython-0.28.3-py3.7-macosx-10.14-x86_64.egg', '/Users/yungyuc/hack/usr/opt37_190418/lib/python3.7/site-packages/pybind11-2.3.dev0-py3.7.egg', '/Users/yungyuc/hack/usr/opt37_190418/lib/python3.7/site-packages/IPython/extensions', '/Users/yungyuc/.ipython']\n"
     ]
    },
    {
     "data": {
      "text/plain": [
       "'/Users/yungyuc/hack/code/nsd/notebook/numpy'"
      ]
     },
     "execution_count": 47,
     "metadata": {},
     "output_type": "execute_result"
    }
   ],
   "source": [
    "import sys\n",
    "print(sys.path) # show python import paths\n",
    "%pwd # print current directory"
   ]
  },
  {
   "cell_type": "markdown",
   "metadata": {
    "slideshow": {
     "slide_type": "subslide"
    }
   },
   "source": [
    "# Cell magic\n",
    "\n",
    "A line starting with \"`%%`\" indicates a magic that takes all the content of a cell."
   ]
  },
  {
   "cell_type": "code",
   "execution_count": 48,
   "metadata": {},
   "outputs": [
    {
     "name": "stdout",
     "output_type": "stream",
     "text": [
      "yungyuc\n",
      "/Users/yungyuc/hack/code/nsd/notebook/numpy\n",
      "total 232\n",
      "drwxr-xr-x  8 yungyuc  staff    256 Sep 30 21:45 __pycache__\n",
      "-rw-r--r--  1 yungyuc  staff  21458 Sep 30 21:45 cce.png\n",
      "-rw-r--r--  1 yungyuc  staff    828 Jun  2 17:55 cce.tex\n",
      "-rw-r--r--  1 yungyuc  staff  37375 Sep 28 18:11 numpy.ipynb\n",
      "-rwxr-xr-x  1 yungyuc  staff  29628 Jun  2 17:55 pstake.py\n",
      "-rw-r--r--  1 yungyuc  staff    574 Sep 30 17:43 step0.py\n",
      "-rwxr-xr-x  1 yungyuc  staff    804 Sep 24 16:30 step0_hw3.py\n",
      "-rw-r--r--  1 yungyuc  staff    961 Jun  2 17:55 step1.py\n",
      "-rw-r--r--  1 yungyuc  staff    917 Jun  2 17:55 step2.py\n",
      "drwxr-xr-x  6 yungyuc  staff    192 Jun  2 17:55 step3\n"
     ]
    }
   ],
   "source": [
    "%%script bash\n",
    "whoami\n",
    "pwd\n",
    "ls -l"
   ]
  },
  {
   "cell_type": "markdown",
   "metadata": {
    "slideshow": {
     "slide_type": "subslide"
    }
   },
   "source": [
    "# Other features\n",
    "\n",
    "* Escape to shell in a line starting with \"`!`\":"
   ]
  },
  {
   "cell_type": "code",
   "execution_count": 49,
   "metadata": {},
   "outputs": [
    {
     "name": "stdout",
     "output_type": "stream",
     "text": [
      "21:45  up 26 days, 14:36, 11 users, load averages: 2.50 1.36 1.32\r\n"
     ]
    }
   ],
   "source": [
    "!uptime"
   ]
  },
  {
   "cell_type": "markdown",
   "metadata": {},
   "source": [
    "* Editor\n",
    "* Terminal"
   ]
  },
  {
   "cell_type": "markdown",
   "metadata": {
    "slideshow": {
     "slide_type": "subslide"
    }
   },
   "source": [
    "# Drawing using matplotlib\n",
    "\n",
    "[Matplotlib](https://matplotlib.org) is a powerful library for 2D plotting.  It can be used standalone or integrated with Jupyter notebook.  The following magic enables the integration."
   ]
  },
  {
   "cell_type": "code",
   "execution_count": 50,
   "metadata": {},
   "outputs": [],
   "source": [
    "%matplotlib inline"
   ]
  },
  {
   "cell_type": "markdown",
   "metadata": {
    "slideshow": {
     "slide_type": "subslide"
    }
   },
   "source": [
    "# Linear algebra with numpy and scipy\n",
    "\n",
    "Use a singular value problem to demonstrate how to use the linear algebra tools provided in numpy and scipy."
   ]
  },
  {
   "cell_type": "markdown",
   "metadata": {
    "slideshow": {
     "slide_type": "subslide"
    }
   },
   "source": [
    "# Package managers\n",
    "\n",
    "To study this course you would need a runtime environment that has the software tools installed.  Although manually building all the dependencies from source is sometimes unavoidable, it's too time-consuming to do it always.\n",
    "\n",
    "Usually we will use a package manager to help.  A package manager provides recipes for building package from source, and also pre-built binary packages.  It defines the dependencies between the packages.  For example, for scipy to work, numpy needs to be installed beforehand.  A package manager should allow automatic installation of numpy when you request scipy.\n",
    "\n",
    "In the numerical analysis world, [conda](https://conda.io/) is one of the most versatile package manager that we will use."
   ]
  },
  {
   "cell_type": "markdown",
   "metadata": {
    "slideshow": {
     "slide_type": "subslide"
    }
   },
   "source": [
    "# conda\n",
    "\n",
    "* Anaconda\n",
    "* Conda-forge"
   ]
  },
  {
   "cell_type": "markdown",
   "metadata": {
    "slideshow": {
     "slide_type": "subslide"
    }
   },
   "source": [
    "# pip\n",
    "\n",
    "\"[pip](https://pip.pypa.io/) is the package installer for Python.  You can use pip to install packages from the [Python Package Index](https://pypi.org/) and other indexes.\""
   ]
  },
  {
   "cell_type": "markdown",
   "metadata": {
    "slideshow": {
     "slide_type": "slide"
    }
   },
   "source": [
    "# Exercises\n",
    "\n",
    "1. List all primitive types supported by `numpy.ndarray` on x86-64.\n",
    "2. Port \"`step0.py`\" to use bash.\n",
    "3. Modify the script \"`step0.py`\" so that it reads the environment variable named \"`PYTHON_BIN`\" that specifies the location of the Python executable for the script.  Hint: play a trick (or tricks) using bash, and note it's possible to write no-op command in bash."
   ]
  },
  {
   "cell_type": "markdown",
   "metadata": {
    "slideshow": {
     "slide_type": "skip"
    }
   },
   "source": [
    "# References\n",
    "\n",
    "* [Broadcasting arrays in Numpy](https://eli.thegreenplace.net/2015/broadcasting-arrays-in-numpy/) by Eli Bendersky"
   ]
  }
 ],
 "metadata": {
  "kernelspec": {
   "display_name": "Python 3",
   "language": "python",
   "name": "python3"
  },
  "language_info": {
   "codemirror_mode": {
    "name": "ipython",
    "version": 3
   },
   "file_extension": ".py",
   "mimetype": "text/x-python",
   "name": "python",
   "nbconvert_exporter": "python",
   "pygments_lexer": "ipython3",
   "version": "3.7.4+"
  }
 },
 "nbformat": 4,
 "nbformat_minor": 2
}
