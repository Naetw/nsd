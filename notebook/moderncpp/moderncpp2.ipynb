{
 "cells": [
  {
   "cell_type": "code",
   "execution_count": null,
   "metadata": {},
   "outputs": [],
   "source": [
    "!make clean"
   ]
  },
  {
   "cell_type": "markdown",
   "metadata": {},
   "source": [
    "# Modern C++ part II: more than templates\n",
    "\n",
    "1. Copy elision / RVO, move semantics\n",
    "2. Variadic template and perfect forwarding\n",
    "3. Anonymous function, closure, lambda expression"
   ]
  },
  {
   "cell_type": "markdown",
   "metadata": {},
   "source": [
    "# Copy elision / return value optimization\n",
    "\n",
    "Copy elision is one of the two forms of optimization, alongside allocation elision and extension, that is allowed to change the side effects.\n",
    "\n",
    "Sometimes copy elision is also called return value optimization (RVO) or named return value optimization (NRVO).\n",
    "\n",
    "In the following example (`03_elision/01_copy.cpp`), even though no optimization flag is used, the copy is optimized out:\n",
    "\n",
    "```cpp\n",
    "class IsCopied\n",
    "{\n",
    "public:\n",
    "    static IsCopied & instance()\n",
    "    {\n",
    "        static IsCopied inst;\n",
    "        return inst;\n",
    "    }\n",
    "\n",
    "    IsCopied & void on() { m_status = true; return *this; }\n",
    "    operator bool() const { return m_status; }\n",
    "\n",
    "private:\n",
    "    IsCopied() : m_status(false) {}\n",
    "    bool m_status;\n",
    "};\n",
    "\n",
    "class Data\n",
    "{\n",
    "public:\n",
    "    constexpr const static size_t NELEM = 1024*8;\n",
    "    Data()\n",
    "    {\n",
    "        std::cout << \"Data constructed @\" << this << std::endl;\n",
    "    }\n",
    "    Data(Data const & other)\n",
    "    {\n",
    "        copy_from(other);\n",
    "        std::cout << \"Data copied to @\" << this << \" from @\" << &other << std::endl;\n",
    "    }\n",
    "    ~Data()\n",
    "    {\n",
    "        std::cout << \"Data destructed @\" << this << std::endl;\n",
    "    }\n",
    "    void copy_from(Data const & other)\n",
    "    {\n",
    "        for (size_t it=0; it < NELEM; ++it)\n",
    "        {\n",
    "            m_buffer[it] = other.m_buffer[it];\n",
    "        }\n",
    "        IsCopied::instance().on();\n",
    "    }\n",
    "};\n",
    "\n",
    "void manipulate_with_reference(Data & data, int value)\n",
    "{\n",
    "    std::cout << \"Manipulate with reference: \" << &data << std::endl;\n",
    "\n",
    "    for (size_t it=0; it < data.size(); ++it)\n",
    "    {\n",
    "        data[it] = value + it;\n",
    "    }\n",
    "    // In a real consumer function we will do much more meaningful operations.\n",
    "\n",
    "    // However, we cannot destruct an object passed in with a reference.\n",
    "}\n",
    "\n",
    "Data worker1()\n",
    "{\n",
    "    Data data;\n",
    "\n",
    "    // Manipulate the Data object.\n",
    "    manipulate_with_reference(data, 3);\n",
    "\n",
    "    return data;\n",
    "}\n",
    "\n",
    "Data worker2()\n",
    "{\n",
    "    Data data = worker1();\n",
    "\n",
    "    // Manipulate the Data object, again.\n",
    "    manipulate_with_reference(data, 8);\n",
    "\n",
    "    return data;\n",
    "}\n",
    "\n",
    "int main(int argc, char ** argv)\n",
    "{\n",
    "    std::cout\n",
    "        << (bool(IsCopied::instance()) ? \"Something\" : \"Nothing\")\n",
    "        << \" is copied\" << std::endl;\n",
    "    Data data = worker2();\n",
    "    std::cout\n",
    "        << (bool(IsCopied::instance()) ? \"Something\" : \"Nothing\")\n",
    "        << \" is copied\" << std::endl;\n",
    "}\n",
    "```"
   ]
  },
  {
   "cell_type": "code",
   "execution_count": null,
   "metadata": {},
   "outputs": [],
   "source": [
    "!make -C 03_elision clean ; make -C 03_elision OPT= 01_copy\n",
    "#!r2 -Aqc \"e scr.color=0 ; afl\" 03_elision/01_copy\n",
    "!r2 -Aqc \"e scr.color=0 ; s sym.worker1 ; pdf ; s sym.worker2 ; pdf\" 03_elision/01_copy"
   ]
  },
  {
   "cell_type": "code",
   "execution_count": null,
   "metadata": {},
   "outputs": [],
   "source": [
    "!make -C 03_elision clean ; make -C 03_elision OPT= 01_copy\n",
    "!03_elision/01_copy"
   ]
  },
  {
   "cell_type": "markdown",
   "metadata": {},
   "source": [
    "# Move semantics and copy elision\n",
    "\n",
    "Move semantics greatly helps us to avoid copying expensive resources.  To take advantage of that, our `Data` class should be changed to use dynamic allocation (`03_elision/02_move.cpp`):\n",
    "\n",
    "```cpp\n",
    "class Data\n",
    "{\n",
    "\n",
    "public:\n",
    "\n",
    "    constexpr const static size_t NELEM = 1024*8;\n",
    "\n",
    "    Data()\n",
    "    {\n",
    "        m_buffer = new int[NELEM];\n",
    "        std::cout << \"Data constructed @\" << this << std::endl;\n",
    "    }\n",
    "\n",
    "    Data(Data const & other)\n",
    "    {\n",
    "        m_buffer = new int[NELEM];\n",
    "        copy_from(other);\n",
    "        std::cout << \"Data copied to @\" << this << \" from @\" << &other << std::endl;\n",
    "    }\n",
    "\n",
    "    Data & operator=(Data const & other)\n",
    "    {\n",
    "        if (nullptr == m_buffer) { m_buffer = new int[NELEM]; }\n",
    "        copy_from(other);\n",
    "        std::cout << \"Data copy assigned to @\" << this << \" from @\" << &other << std::endl;\n",
    "        return *this;\n",
    "    }\n",
    "\n",
    "    Data(Data && other)\n",
    "    {\n",
    "        m_buffer = other.m_buffer;\n",
    "        other.m_buffer = nullptr;\n",
    "        std::cout << \"Data moved to @\" << this << \" from @\" << &other << std::endl;\n",
    "        Status::instance().set_moved();\n",
    "    }\n",
    "\n",
    "    Data & operator=(Data && other)\n",
    "    {\n",
    "        if (m_buffer) { delete[] m_buffer; }\n",
    "        m_buffer = other.m_buffer;\n",
    "        other.m_buffer = nullptr;\n",
    "        std::cout << \"Data move assigned to @\" << this << \" from @\" << &other << std::endl;\n",
    "        Status::instance().set_moved();\n",
    "        return *this;\n",
    "    }\n",
    "\n",
    "    ~Data()\n",
    "    {\n",
    "        if (m_buffer) { delete[] m_buffer; }\n",
    "        std::cout << \"Data destructed @\" << this << std::endl;\n",
    "    }\n",
    "\n",
    "```"
   ]
  },
  {
   "cell_type": "markdown",
   "metadata": {},
   "source": [
    "## Forced move is a bad idea\n",
    "\n",
    "Although the move semantics indeed avoids copy the expensive buffer in the `Data` class, it cannot avoid copy the `Data` object itself.  However, copy elision (RVO & NRVO) can avoid copy the `Data` object.\n",
    "\n",
    "```cpp\n",
    "Data worker1()\n",
    "{\n",
    "    Data data;\n",
    "\n",
    "    // Manipulate the Data object.\n",
    "    manipulate_with_reference(data, 3);\n",
    "\n",
    "    return data;\n",
    "}\n",
    "\n",
    "Data worker2()\n",
    "{\n",
    "    Data data = worker1();\n",
    "\n",
    "    // Manipulate the Data object, again.\n",
    "    manipulate_with_reference(data, 8);\n",
    "\n",
    "#ifdef FORCEMOVE\n",
    "    // Implicit move semantics destroys copy elision.\n",
    "    return std::move(data);\n",
    "#else\n",
    "    return data;\n",
    "#endif\n",
    "}\n",
    "\n",
    "int main(int argc, char ** argv)\n",
    "{\n",
    "    std::cout\n",
    "        << \"Status:\"\n",
    "        << (bool(Status::instance().is_copied()) ? \" copied\" : \" uncopied\")\n",
    "        << (bool(Status::instance().is_moved()) ? \" moved\" : \" unmoved\")\n",
    "        << std::endl;\n",
    "    Data data = worker2();\n",
    "    std::cout\n",
    "        << \"Status:\"\n",
    "        << (bool(Status::instance().is_copied()) ? \" copied\" : \" uncopied\")\n",
    "        << (bool(Status::instance().is_moved()) ? \" moved\" : \" unmoved\")\n",
    "        << std::endl;\n",
    "}\n",
    "```"
   ]
  },
  {
   "cell_type": "code",
   "execution_count": null,
   "metadata": {},
   "outputs": [],
   "source": [
    "!make -C 03_elision clean ; make -C 03_elision FLAGS=-DFORCEMOVE OPT= 02_move\n",
    "!03_elision/02_move"
   ]
  },
  {
   "cell_type": "code",
   "execution_count": null,
   "metadata": {},
   "outputs": [],
   "source": [
    "!make -C 03_elision clean ; make -C 03_elision OPT= 02_move\n",
    "!03_elision/02_move"
   ]
  },
  {
   "cell_type": "markdown",
   "metadata": {},
   "source": [
    "# Data concatenation\n",
    "\n",
    "Because of copy elision, for readibility in C++ it is prefer to write:\n",
    "\n",
    "```cpp\n",
    "std::vector<int> worker_return();\n",
    "```\n",
    "\n",
    "than\n",
    "\n",
    "```cpp\n",
    "void worker_argument(std::vector<int> & output /* output argument */);\n",
    "```\n",
    "\n",
    "Because in consumer code:\n",
    "\n",
    "```cpp\n",
    "// It reads clearly that the worker produces new result.\n",
    "std::vector<int> result = worker_return();\n",
    "\n",
    "// It takes a second to understand that the worker is using result as a buffer\n",
    "// for output.\n",
    "std::vector<int> result;\n",
    "worker_argument(result);\n",
    "\n",
    "/*\n",
    " * The result is pre-populated before sending to the worker.  From the\n",
    " * following lines we can't know how the worker will use result.\n",
    " *\n",
    " * By reading the worker signature we know that result may be used for output.\n",
    " * We can only be sure that result is used for output after reading the full\n",
    " * implemnetation of the worker.\n",
    " *\n",
    " * The worker may or may not expect the output argument to be pre-populated.\n",
    " * Regardless, it has to use runtime check to ensure either case.\n",
    " */\n",
    "std::vector<int> result(100);\n",
    "std::fill(result.begin(), result.end(), 7);\n",
    "worker_argument(result);\n",
    "```\n",
    "\n",
    "The ambiguity is a productivity killer.  (Runtime performance is another story.)"
   ]
  },
  {
   "cell_type": "markdown",
   "metadata": {},
   "source": [
    "## Style 1 of 3: return `vector`"
   ]
  },
  {
   "cell_type": "code",
   "execution_count": null,
   "metadata": {},
   "outputs": [],
   "source": [
    "!make -C 03_elision clean ; make -C 03_elision FLAGS=\"-DOTYPE=1\" 03_accumulate\n",
    "!03_elision/03_accumulate"
   ]
  },
  {
   "cell_type": "markdown",
   "metadata": {},
   "source": [
    "## Style 2: use output `vector`"
   ]
  },
  {
   "cell_type": "code",
   "execution_count": null,
   "metadata": {},
   "outputs": [],
   "source": [
    "!make -C 03_elision clean ; make -C 03_elision FLAGS=\"-DMOVENOEXCEPT -DOTYPE=1\" 03_accumulate\n",
    "!03_elision/03_accumulate"
   ]
  },
  {
   "cell_type": "markdown",
   "metadata": {},
   "source": [
    "## Style 3: use a class for both return and output argument"
   ]
  },
  {
   "cell_type": "code",
   "execution_count": null,
   "metadata": {},
   "outputs": [],
   "source": [
    "!make -C 03_elision clean ; make -C 03_elision FLAGS=\"-DMOVENOEXCEPT -DOTYPE=2\" 03_accumulate\n",
    "!03_elision/03_accumulate"
   ]
  },
  {
   "cell_type": "code",
   "execution_count": null,
   "metadata": {},
   "outputs": [],
   "source": [
    "!make -C 03_elision clean ; make -C 03_elision FLAGS=\"-DMOVENOEXCEPT -DOTYPE=3\" 03_accumulate\n",
    "!03_elision/03_accumulate"
   ]
  },
  {
   "cell_type": "markdown",
   "metadata": {},
   "source": [
    "# Exercises\n",
    "\n",
    "1. Measure the performance between using an output vector and returning a new vector."
   ]
  }
 ],
 "metadata": {
  "kernelspec": {
   "display_name": "Python 3",
   "language": "python",
   "name": "python3"
  },
  "language_info": {
   "codemirror_mode": {
    "name": "ipython",
    "version": 3
   },
   "file_extension": ".py",
   "mimetype": "text/x-python",
   "name": "python",
   "nbconvert_exporter": "python",
   "pygments_lexer": "ipython3",
   "version": "3.7.4+"
  }
 },
 "nbformat": 4,
 "nbformat_minor": 2
}
