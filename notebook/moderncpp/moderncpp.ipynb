{
 "cells": [
  {
   "cell_type": "code",
   "execution_count": null,
   "metadata": {},
   "outputs": [],
   "source": [
    "!make clean"
   ]
  },
  {
   "cell_type": "markdown",
   "metadata": {},
   "source": [
    "# Lecture 8 & 9 modern C++\n",
    "\n",
    "* Part I: ownership and meta-programming\n",
    "* Part II: more than templates"
   ]
  },
  {
   "cell_type": "markdown",
   "metadata": {},
   "source": [
    "# Modern C++ part I: ownership and meta-programming\n",
    "\n",
    "1. Pointers and ownership\n",
    "    1. Raw pointer\n",
    "    2. Reference\n",
    "    3. Ownership\n",
    "    4. Smart pointers\n",
    "        1. `unique_ptr`\n",
    "        2. `shared_ptr`\n",
    "2. Revisit shared pointer\n",
    "3. Template meta-programming and compile-time computing"
   ]
  },
  {
   "cell_type": "markdown",
   "metadata": {},
   "source": [
    "# Raw pointer\n",
    "\n",
    "The raw pointer allows us to directly manipulate the memory.  See the example file `01_pointer/01_raw_pointer.cpp`:\n",
    "\n",
    "```cpp\n",
    "struct PlainData\n",
    "{\n",
    "    int buffer[1024*8];\n",
    "}; /* end struct PlainData */\n",
    "\n",
    "int main(int argc, char ** argv)\n",
    "{\n",
    "    PlainData * ptr = nullptr;\n",
    "\n",
    "    ptr = static_cast<PlainData *>(malloc(sizeof(PlainData)));\n",
    "    std::cout << \"PlainData pointer after malloc: \" << ptr << std::endl;\n",
    "\n",
    "    free(ptr);\n",
    "    std::cout << \"PlainData pointer after free: \" << ptr << std::endl;\n",
    "\n",
    "    ptr = new PlainData();\n",
    "    std::cout << \"PlainData pointer after new: \" << ptr << std::endl;\n",
    "\n",
    "    delete ptr;\n",
    "    std::cout << \"PlainData pointer after delete: \" << ptr << std::endl;\n",
    "}\n",
    "```"
   ]
  },
  {
   "cell_type": "code",
   "execution_count": null,
   "metadata": {},
   "outputs": [],
   "source": [
    "!make -C 01_pointer 01_raw_pointer ; 01_pointer/01_raw_pointer"
   ]
  },
  {
   "cell_type": "markdown",
   "metadata": {},
   "source": [
    "# Reference\n",
    "\n",
    "When we see a reference, we know that we should not deallocate / destruct the object.  See the example `01_pointer/02_reference.cpp`:\n",
    "\n",
    "```cpp\n",
    "struct PlainData\n",
    "{\n",
    "    int buffer[1024*8];\n",
    "}; /* end struct PlainData */\n",
    "\n",
    "// The factory function for PlainData.\n",
    "PlainData * make_data()\n",
    "{\n",
    "    PlainData * ptr = new PlainData();\n",
    "    // In a real factory function, we will do something with the allocated data\n",
    "    // object before returning it.\n",
    "    return ptr;\n",
    "}\n",
    "\n",
    "void manipulate_with_reference(PlainData & data)\n",
    "{\n",
    "    std::cout << \"Manipulate with reference: \" << &data << std::endl;\n",
    "\n",
    "    for (size_t it=0; it < 1024*8; ++it)\n",
    "    {\n",
    "        data.buffer[it] = it;\n",
    "    }\n",
    "    // In a real consumer function we will do much more meaningful operations.\n",
    "\n",
    "    // However, we cannot destruct an object passed in with a reference.\n",
    "}\n",
    "\n",
    "int main(int argc, char ** argv)\n",
    "{\n",
    "    PlainData * ptr = nullptr;\n",
    "\n",
    "    ptr = make_data();\n",
    "    std::cout << \"PlainData pointer after factory: \" << ptr << std::endl;\n",
    "\n",
    "    manipulate_with_reference(*ptr);\n",
    "\n",
    "    // Destruct the object where we have the pointer.\n",
    "    delete ptr;\n",
    "    std::cout << \"PlainData pointer after delete: \" << ptr << std::endl;\n",
    "}\n",
    "```"
   ]
  },
  {
   "cell_type": "code",
   "execution_count": null,
   "metadata": {},
   "outputs": [],
   "source": [
    "!make -C 01_pointer 02_reference ; 01_pointer/02_reference"
   ]
  },
  {
   "cell_type": "markdown",
   "metadata": {},
   "source": [
    "# Ownership\n",
    "\n",
    "In a compliated system, memory is not free immediately after allocation.  Consider example `01_pointer/03_ownership.cpp`, where there are two worker functions with different memory management behaviors."
   ]
  },
  {
   "cell_type": "markdown",
   "metadata": {},
   "source": [
    "## Data class\n",
    "\n",
    "Our data object is large, and we don't want the expensive overhead from frequent allocation and deallocation.\n",
    "\n",
    "```cpp\n",
    "class Data\n",
    "{\n",
    "\n",
    "public:\n",
    "\n",
    "    constexpr const static size_t NELEM = 1024*8;\n",
    "\n",
    "    using iterator = int *;\n",
    "    using const_iterator = const int *;\n",
    "\n",
    "    Data()\n",
    "    {\n",
    "        std::fill(begin(), end(), 0);\n",
    "        std::cout << \"Data @\" << this << \" is constructed\" << std::endl;\n",
    "    }\n",
    "\n",
    "    ~Data()\n",
    "    {\n",
    "        std::cout << \"Data @\" << this << \" is destructed\" << std::endl;\n",
    "    }\n",
    "\n",
    "    const_iterator cbegin() const { return m_buffer; }\n",
    "    const_iterator cend() const { return m_buffer+NELEM; }\n",
    "    iterator begin() { return m_buffer; }\n",
    "    iterator end() { return m_buffer+NELEM; }\n",
    "\n",
    "    size_t size() const { return NELEM; }\n",
    "    int   operator[](size_t it) const { return m_buffer[it]; }\n",
    "    int & operator[](size_t it)       { return m_buffer[it]; }\n",
    "\n",
    "    bool is_manipulated() const\n",
    "    {\n",
    "        for (size_t it=0; it < size(); ++it)\n",
    "        {\n",
    "            if ((*this)[it] != it) { return false; }\n",
    "        }\n",
    "        return true;\n",
    "    }\n",
    "\n",
    "private:\n",
    "\n",
    "    // A lot of data that we don't want to reconstruct.\n",
    "    int m_buffer[NELEM];\n",
    "\n",
    "}; /* end class Data */\n",
    "\n",
    "void manipulate_with_reference(Data & data)\n",
    "{\n",
    "    std::cout << \"Manipulate with reference: \" << &data << std::endl;\n",
    "\n",
    "    for (size_t it=0; it < data.size(); ++it)\n",
    "    {\n",
    "        data[it] = it;\n",
    "    }\n",
    "    // In a real consumer function we will do much more meaningful operations.\n",
    "\n",
    "    // However, we cannot destruct an object passed in with a reference.\n",
    "}\n",
    "```"
   ]
  },
  {
   "cell_type": "markdown",
   "metadata": {},
   "source": [
    "## Separate memory management\n",
    "\n",
    "The memory allocation and deallocation is not consistent in `worker1` and `worker2`.  This kind of problems are commonplace. \n",
    "\n",
    "```cpp\n",
    "Data * worker1()\n",
    "{\n",
    "    // Create a new Data object.\n",
    "    Data * data = new Data();\n",
    "\n",
    "    // Manipulate the Data object.\n",
    "    manipulate_with_reference(*data);\n",
    "\n",
    "    return data;\n",
    "}\n",
    "\n",
    "/*\n",
    " * Code in this function is intentionally made to be lack of discipline to\n",
    " * demonstrate how ownership is messed up.\n",
    " */\n",
    "void worker2(Data * data)\n",
    "{\n",
    "    // The prerequisite for the caller to write correct code is to read the\n",
    "    // code and understand when the object is alive.\n",
    "    if (data->is_manipulated())\n",
    "    {\n",
    "        delete data;\n",
    "    }\n",
    "    else\n",
    "    {\n",
    "        manipulate_with_reference(*data);\n",
    "    }\n",
    "}\n",
    "\n",
    "int main(int argc, char ** argv)\n",
    "{\n",
    "    Data * data = worker1();\n",
    "    std::cout << \"[use case 1] Data pointer after worker 1: \" << data << std::endl;\n",
    "    worker2(data);\n",
    "    std::cout << \"[use case 1] Data pointer after worker 2: \" << data << std::endl;\n",
    "\n",
    "    // You have to read the code of worker2 to know that data could be\n",
    "    // destructed.  In addition, the Data class doesn't provide a\n",
    "    // programmatical way to detect whether or not the object is alive.  The\n",
    "    // design of Data, worker1, and worker2 makes it impossible to write\n",
    "    // memory-safe code.\n",
    "#ifdef CRASHME // The fenced code causes double free.\n",
    "    delete data;\n",
    "    std::cout << \"[use case 1] Data pointer after delete: \" << data << std::endl;\n",
    "#endif\n",
    "}\n",
    "```"
   ]
  },
  {
   "cell_type": "code",
   "execution_count": null,
   "metadata": {},
   "outputs": [],
   "source": [
    "!make -C 01_pointer 03_ownership ; 01_pointer/03_ownership"
   ]
  },
  {
   "cell_type": "code",
   "execution_count": null,
   "metadata": {},
   "outputs": [],
   "source": [
    "# See how it crashes with double free.\n",
    "!make -C 01_pointer clean\n",
    "!env FLAGS=-DCRASHME make -C 01_pointer 03_ownership ; 01_pointer/03_ownership"
   ]
  },
  {
   "cell_type": "markdown",
   "metadata": {},
   "source": [
    "## What is ownership\n",
    "\n",
    "The above example shows the problem of lack of ownership.  \"Ownership\" isn't officially a language construct in C++, but is a common concept in many programming language for dynamic memory management.\n",
    "\n",
    "To put it simply, when the object is \"owned\" by a construct or piece of code, it is assumed that it is safe for the piece of code to use that object.  The ownership assures the life of the object, and the object is not destructed when it is owned by someone.  It also means that the owner is reponsible for making sure the object gets destructed when it should be.\n",
    "\n",
    "As we observed in the above example code, there is no way for us to let the code to know the ownership, and it is unsafe to use the `data` object after `worker2` is called.  The way C++ handles the situation is to use smart pointers."
   ]
  },
  {
   "cell_type": "markdown",
   "metadata": {},
   "source": [
    "# `std::unique_ptr`\n",
    "\n",
    "(Modern) C++ provides two smart pointers: `unique_ptr` and `shared_ptr`.  We start with `unique_ptr` because it is lighter-weight.  A `unique_ptr` takes the same number of bytes of a raw pointer.  It may be a drop-in replace with a raw pointer.\n",
    "\n",
    "`unique_ptr` should be used when there can only be one owner of the pointed object."
   ]
  },
  {
   "cell_type": "markdown",
   "metadata": {},
   "source": [
    "See the example code `01_pointer/04_unique.cpp`.\n",
    "\n",
    "```cpp\n",
    "static_assert(sizeof(Data *) == sizeof(std::unique_ptr<Data>), \"unique_ptr should take only a word\");\n",
    "\n",
    "std::unique_ptr<Data> worker1()\n",
    "{\n",
    "    // Create a new Data object.\n",
    "    std::unique_ptr<Data> data = std::make_unique<Data>();\n",
    "\n",
    "    // Manipulate the Data object.\n",
    "    manipulate_with_reference(*data);\n",
    "\n",
    "    return data;\n",
    "}\n",
    "\n",
    "void worker2(std::unique_ptr<Data> data)\n",
    "{\n",
    "    if (data->is_manipulated())\n",
    "    {\n",
    "        data.reset();\n",
    "    }\n",
    "    else\n",
    "    {\n",
    "        manipulate_with_reference(*data);\n",
    "    }\n",
    "}\n",
    "\n",
    "int main(int argc, char ** argv)\n",
    "{\n",
    "    std::unique_ptr<Data> data = worker1();\n",
    "    std::cout << \"[use case 1] Data pointer after worker 1: \" << data.get() << std::endl;\n",
    "\n",
    "#ifdef COPYNOWORK\n",
    "    worker2(data);\n",
    "#else\n",
    "    worker2(std::move(data));\n",
    "#endif\n",
    "    std::cout << \"[use case 1] Data pointer after worker 2: \" << data.get() << std::endl;\n",
    "\n",
    "    data.reset();\n",
    "    std::cout << \"[use case 1] Data pointer after delete: \" << data.get() << std::endl;\n",
    "}\n",
    "```"
   ]
  },
  {
   "cell_type": "code",
   "execution_count": null,
   "metadata": {},
   "outputs": [],
   "source": [
    "!make -C 01_pointer 04_unique ; 01_pointer/04_uniquec"
   ]
  },
  {
   "cell_type": "code",
   "execution_count": null,
   "metadata": {},
   "outputs": [],
   "source": [
    "# See how it crashes with double free.\n",
    "!make -C 01_pointer clean\n",
    "!env FLAGS=-DCOPYNOWORK make -C 01_pointer 04_unique ; 01_pointer/04_unique"
   ]
  },
  {
   "cell_type": "markdown",
   "metadata": {},
   "source": [
    "# `std::shared_ptr`\n",
    "\n",
    "Unlike `unique_ptr`, `shared_ptr` allows multiple owners.  It maintains a reference counter.  When the `std::shared_ptr` object is constructed, the counter increments.  When the pointer object (note, not the pointed object) is destructed, the counter decrements.  When the counter decrements from 1, the pointed object gets destructed.\n",
    "\n",
    "`std::shared_ptr` provides `use_count()` function for showing the reference counts.  This reference counting technique is commonplace for managing ownership, and it appears in many other languages."
   ]
  },
  {
   "cell_type": "markdown",
   "metadata": {},
   "source": [
    "See the example code in `01_pointer/05_shared`.\n",
    "\n",
    "```cpp\n",
    "static_assert(sizeof(Data *) < sizeof(std::shared_ptr<Data>), \"shared_ptr uses more than a word\");\n",
    "\n",
    "std::shared_ptr<Data> worker1()\n",
    "{\n",
    "    // Create a new Data object.\n",
    "    std::shared_ptr<Data> data = std::make_shared<Data>();\n",
    "\n",
    "    std::cout << \"worker 1 data.use_count(): \" << data.use_count() << std::endl;\n",
    "\n",
    "    // Manipulate the Data object.\n",
    "    manipulate_with_reference(*data);\n",
    "\n",
    "    return data;\n",
    "}\n",
    "\n",
    "void worker2(std::shared_ptr<Data> data)\n",
    "{\n",
    "    std::cout << \"worker 2 data.use_count(): \" << data.use_count() << std::endl;\n",
    "\n",
    "    if (data->is_manipulated())\n",
    "    {\n",
    "        data.reset();\n",
    "    }\n",
    "    else\n",
    "    {\n",
    "        manipulate_with_reference(*data);\n",
    "    }\n",
    "}\n",
    "\n",
    "int main(int argc, char ** argv)\n",
    "{\n",
    "    std::shared_ptr<Data> data = worker1();\n",
    "    std::cout << \"Data pointer after worker 1: \" << data.get() << std::endl;\n",
    "\n",
    "    worker2(data);\n",
    "    std::cout << \"Data pointer after worker 2: \" << data.get() << std::endl;\n",
    "\n",
    "    data.reset();\n",
    "    std::cout << \"Data pointer after reset from outside: \" << data.get() << std::endl;\n",
    "    std::cout << \"main data.use_count(): \" << data.use_count() << std::endl;\n",
    "}\n",
    "```"
   ]
  },
  {
   "cell_type": "code",
   "execution_count": null,
   "metadata": {},
   "outputs": [],
   "source": [
    "!make -C 01_pointer 05_shared ; 01_pointer/05_shared"
   ]
  },
  {
   "cell_type": "markdown",
   "metadata": {},
   "source": [
    "# Raw pointers vs smart pointers\n",
    "\n",
    "The rule of thumb is to always start with smart pointers.  When in doubt, use `unique_ptr`.  `unique_ptr` forces a developer to think clearly about whether or not multiple owners are necessary.  Only use `shared_ptr` when it is absolutely necessary.  The reference counter is much more expensive than it looks."
   ]
  },
  {
   "cell_type": "markdown",
   "metadata": {},
   "source": [
    "# Modern C++ part II: more than templates\n",
    "\n",
    "1. Copy elision / RVO, move semantics\n",
    "2. Variadic template and perfect forwarding\n",
    "3. Anonymous function, closure, lambda expression"
   ]
  },
  {
   "cell_type": "markdown",
   "metadata": {},
   "source": [
    "# Exercises\n",
    "\n",
    "1. Write code so that when `std::unique_ptr` is destructed, the object it points to doesn't destruct."
   ]
  },
  {
   "cell_type": "markdown",
   "metadata": {},
   "source": [
    "# References\n",
    "\n",
    "1. TBA"
   ]
  }
 ],
 "metadata": {
  "kernelspec": {
   "display_name": "Python 3",
   "language": "python",
   "name": "python3"
  },
  "language_info": {
   "codemirror_mode": {
    "name": "ipython",
    "version": 3
   },
   "file_extension": ".py",
   "mimetype": "text/x-python",
   "name": "python",
   "nbconvert_exporter": "python",
   "pygments_lexer": "ipython3",
   "version": "3.7.4+"
  }
 },
 "nbformat": 4,
 "nbformat_minor": 2
}
