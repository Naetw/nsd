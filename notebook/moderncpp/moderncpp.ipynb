{
 "cells": [
  {
   "cell_type": "markdown",
   "metadata": {},
   "source": [
    "# Lecture 8 & 9 modern C++\n",
    "\n",
    "* Part I: ownership and meta-programming\n",
    "* Part II: more than templates"
   ]
  },
  {
   "cell_type": "markdown",
   "metadata": {},
   "source": [
    "# Modern C++ part I: ownership and meta-programming\n",
    "\n",
    "1. Pointers and ownership\n",
    "2. Revisit shared pointer\n",
    "3. Template meta-programming and compile-time computing"
   ]
  },
  {
   "cell_type": "markdown",
   "metadata": {},
   "source": [
    "# Pointer, ownership, smart pointers\n",
    "\n",
    "* Raw pointer\n",
    "* Reference\n",
    "* Ownership\n",
    "* Smart pointers\n",
    "  * `unique_ptr`\n",
    "  * `shared_ptr`"
   ]
  },
  {
   "cell_type": "markdown",
   "metadata": {},
   "source": [
    "# Modern C++ part II: more than templates\n",
    "\n",
    "1. Copy elision / RVO, move semantics\n",
    "2. Variadic template and perfect forwarding\n",
    "3. Anonymous function, closure, lambda expression"
   ]
  }
 ],
 "metadata": {
  "kernelspec": {
   "display_name": "Python 3",
   "language": "python",
   "name": "python3"
  },
  "language_info": {
   "codemirror_mode": {
    "name": "ipython",
    "version": 3
   },
   "file_extension": ".py",
   "mimetype": "text/x-python",
   "name": "python",
   "nbconvert_exporter": "python",
   "pygments_lexer": "ipython3",
   "version": "3.7.4+"
  }
 },
 "nbformat": 4,
 "nbformat_minor": 2
}
