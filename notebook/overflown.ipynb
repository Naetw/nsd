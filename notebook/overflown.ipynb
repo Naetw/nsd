{
 "cells": [
  {
   "cell_type": "markdown",
   "metadata": {},
   "source": [
    "# Overflown topics\n",
    "\n",
    "Topics that are not covered due to lack of time."
   ]
  },
  {
   "cell_type": "markdown",
   "metadata": {
    "slideshow": {
     "slide_type": "skip"
    }
   },
   "source": [
    "# Profiling\n",
    "\n",
    "1. Avoid memory allocation and data copy\n",
    "2. Home brew profiling\n",
    "3. Assembly inspection"
   ]
  },
  {
   "cell_type": "markdown",
   "metadata": {
    "slideshow": {
     "slide_type": "skip"
    }
   },
   "source": [
    "# Useful architectures for hybrid code\n",
    "\n",
    "1. Fully-fledged Python code base with C++ optimized helpers\n",
    "2. C++ core wrapped by Python\n",
    "3. Scripts as input files"
   ]
  },
  {
   "cell_type": "markdown",
   "metadata": {
    "slideshow": {
     "slide_type": "skip"
    }
   },
   "source": [
    "# Application embedding Python\n",
    "\n",
    "1. Embed Python in a C++ application\n",
    "2. Separate the C++ core apart from the wrapper\n",
    "3. Separate memory and provide statistics"
   ]
  }
 ],
 "metadata": {
  "kernelspec": {
   "display_name": "Python 3",
   "language": "python",
   "name": "python3"
  },
  "language_info": {
   "codemirror_mode": {
    "name": "ipython",
    "version": 3
   },
   "file_extension": ".py",
   "mimetype": "text/x-python",
   "name": "python",
   "nbconvert_exporter": "python",
   "pygments_lexer": "ipython3",
   "version": "3.7.4+"
  }
 },
 "nbformat": 4,
 "nbformat_minor": 2
}
